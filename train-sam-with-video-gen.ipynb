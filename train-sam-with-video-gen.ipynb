{
 "cells": [
  {
   "cell_type": "code",
   "execution_count": 1,
   "id": "86e7a1b1",
   "metadata": {
    "_cell_guid": "b1076dfc-b9ad-4769-8c92-a6c4dae69d19",
    "_uuid": "8f2839f25d086af736a60e9eeb907d3b93b6e0e5",
    "execution": {
     "iopub.execute_input": "2023-07-31T01:06:27.048550Z",
     "iopub.status.busy": "2023-07-31T01:06:27.048149Z",
     "iopub.status.idle": "2023-07-31T01:06:27.061201Z",
     "shell.execute_reply": "2023-07-31T01:06:27.060387Z"
    },
    "papermill": {
     "duration": 0.024586,
     "end_time": "2023-07-31T01:06:27.063382",
     "exception": false,
     "start_time": "2023-07-31T01:06:27.038796",
     "status": "completed"
    },
    "tags": []
   },
   "outputs": [],
   "source": [
    "# This Python 3 environment comes with many helpful analytics libraries installed\n",
    "# It is defined by the kaggle/python Docker image: https://github.com/kaggle/docker-python\n",
    "# For example, here's several helpful packages to load\n",
    "\n",
    "import numpy as np # linear algebra\n",
    "import pandas as pd # data processing, CSV file I/O (e.g. pd.read_csv)\n",
    "\n",
    "# Input data files are available in the read-only \"../input/\" directory\n",
    "# For example, running this (by clicking run or pressing Shift+Enter) will list all files under the input directory\n",
    "\n",
    "import os\n",
    "for dirname, _, filenames in os.walk('/kaggle/input'):\n",
    "    for filename in filenames:\n",
    "        print(os.path.join(dirname, filename))\n",
    "        break\n",
    "    break\n",
    "\n",
    "# You can write up to 20GB to the current directory (/kaggle/working/) that gets preserved as output when you create a version using \"Save & Run All\" \n",
    "# You can also write temporary files to /kaggle/temp/, but they won't be saved outside of the current session"
   ]
  },
  {
   "cell_type": "markdown",
   "id": "3ad18683",
   "metadata": {
    "papermill": {
     "duration": 0.007089,
     "end_time": "2023-07-31T01:06:27.077855",
     "exception": false,
     "start_time": "2023-07-31T01:06:27.070766",
     "status": "completed"
    },
    "tags": []
   },
   "source": [
    "### Some libs and imports"
   ]
  },
  {
   "cell_type": "code",
   "execution_count": 2,
   "id": "fd1ae8c4",
   "metadata": {
    "execution": {
     "iopub.execute_input": "2023-07-31T01:06:27.094359Z",
     "iopub.status.busy": "2023-07-31T01:06:27.092932Z",
     "iopub.status.idle": "2023-07-31T01:07:17.792058Z",
     "shell.execute_reply": "2023-07-31T01:07:17.790788Z"
    },
    "papermill": {
     "duration": 50.709345,
     "end_time": "2023-07-31T01:07:17.794390",
     "exception": false,
     "start_time": "2023-07-31T01:06:27.085045",
     "status": "completed"
    },
    "tags": []
   },
   "outputs": [
    {
     "name": "stdout",
     "output_type": "stream",
     "text": [
      "Collecting git+https://github.com/facebookresearch/segment-anything.git\r\n",
      "  Cloning https://github.com/facebookresearch/segment-anything.git to /tmp/pip-req-build-6k1fyvl3\r\n",
      "  Running command git clone --filter=blob:none --quiet https://github.com/facebookresearch/segment-anything.git /tmp/pip-req-build-6k1fyvl3\r\n",
      "  Resolved https://github.com/facebookresearch/segment-anything.git to commit 6fdee8f2727f4506cfbbe553e23b895e27956588\r\n",
      "  Preparing metadata (setup.py) ... \u001b[?25l-\b \b\\\b \bdone\r\n",
      "\u001b[?25hCollecting pycocotools\r\n",
      "  Downloading pycocotools-2.0.6.tar.gz (24 kB)\r\n",
      "  Installing build dependencies ... \u001b[?25l-\b \b\\\b \b|\b \b/\b \b-\b \b\\\b \b|\b \b/\b \bdone\r\n",
      "\u001b[?25h  Getting requirements to build wheel ... \u001b[?25l-\b \bdone\r\n",
      "\u001b[?25h  Preparing metadata (pyproject.toml) ... \u001b[?25l-\b \bdone\r\n",
      "\u001b[?25hRequirement already satisfied: matplotlib>=2.1.0 in /opt/conda/lib/python3.10/site-packages (from pycocotools) (3.7.1)\r\n",
      "Requirement already satisfied: numpy in /opt/conda/lib/python3.10/site-packages (from pycocotools) (1.23.5)\r\n",
      "Requirement already satisfied: contourpy>=1.0.1 in /opt/conda/lib/python3.10/site-packages (from matplotlib>=2.1.0->pycocotools) (1.1.0)\r\n",
      "Requirement already satisfied: cycler>=0.10 in /opt/conda/lib/python3.10/site-packages (from matplotlib>=2.1.0->pycocotools) (0.11.0)\r\n",
      "Requirement already satisfied: fonttools>=4.22.0 in /opt/conda/lib/python3.10/site-packages (from matplotlib>=2.1.0->pycocotools) (4.40.0)\r\n",
      "Requirement already satisfied: kiwisolver>=1.0.1 in /opt/conda/lib/python3.10/site-packages (from matplotlib>=2.1.0->pycocotools) (1.4.4)\r\n",
      "Requirement already satisfied: packaging>=20.0 in /opt/conda/lib/python3.10/site-packages (from matplotlib>=2.1.0->pycocotools) (21.3)\r\n",
      "Requirement already satisfied: pillow>=6.2.0 in /opt/conda/lib/python3.10/site-packages (from matplotlib>=2.1.0->pycocotools) (9.5.0)\r\n",
      "Requirement already satisfied: pyparsing>=2.3.1 in /opt/conda/lib/python3.10/site-packages (from matplotlib>=2.1.0->pycocotools) (3.0.9)\r\n",
      "Requirement already satisfied: python-dateutil>=2.7 in /opt/conda/lib/python3.10/site-packages (from matplotlib>=2.1.0->pycocotools) (2.8.2)\r\n",
      "Requirement already satisfied: six>=1.5 in /opt/conda/lib/python3.10/site-packages (from python-dateutil>=2.7->matplotlib>=2.1.0->pycocotools) (1.16.0)\r\n",
      "Building wheels for collected packages: pycocotools\r\n",
      "  Building wheel for pycocotools (pyproject.toml) ... \u001b[?25l-\b \b\\\b \b|\b \b/\b \b-\b \b\\\b \b|\b \b/\b \bdone\r\n",
      "\u001b[?25h  Created wheel for pycocotools: filename=pycocotools-2.0.6-cp310-cp310-linux_x86_64.whl size=101740 sha256=9d7a43437244776c61f632f6f442bb882c2a19e86f4b31de878a1b3b2f1a488b\r\n",
      "  Stored in directory: /root/.cache/pip/wheels/58/e6/f9/f87c8f8be098b51b616871315318329cae12cdb618f4caac93\r\n",
      "Successfully built pycocotools\r\n",
      "Installing collected packages: pycocotools\r\n",
      "Successfully installed pycocotools-2.0.6\r\n"
     ]
    }
   ],
   "source": [
    "!pip install git+https://github.com/facebookresearch/segment-anything.git\n",
    "!pip install pycocotools"
   ]
  },
  {
   "cell_type": "code",
   "execution_count": 3,
   "id": "28bb333f",
   "metadata": {
    "execution": {
     "iopub.execute_input": "2023-07-31T01:07:17.815918Z",
     "iopub.status.busy": "2023-07-31T01:07:17.815612Z",
     "iopub.status.idle": "2023-07-31T01:07:23.754014Z",
     "shell.execute_reply": "2023-07-31T01:07:23.753092Z"
    },
    "papermill": {
     "duration": 5.951775,
     "end_time": "2023-07-31T01:07:23.756392",
     "exception": false,
     "start_time": "2023-07-31T01:07:17.804617",
     "status": "completed"
    },
    "tags": []
   },
   "outputs": [
    {
     "name": "stderr",
     "output_type": "stream",
     "text": [
      "/opt/conda/lib/python3.10/site-packages/scipy/__init__.py:146: UserWarning: A NumPy version >=1.16.5 and <1.23.0 is required for this version of SciPy (detected version 1.23.5\n",
      "  warnings.warn(f\"A NumPy version >={np_minversion} and <{np_maxversion}\"\n"
     ]
    }
   ],
   "source": [
    "import os\n",
    "import random\n",
    "import json\n",
    "\n",
    "from tqdm import tqdm\n",
    "import numpy as np\n",
    "import math\n",
    "import cv2\n",
    "import matplotlib.pyplot as plt\n",
    "import torch\n",
    "from torch.utils.data import DataLoader, Dataset\n",
    "from torch.nn import BCEWithLogitsLoss\n",
    "from torch.optim import Adam\n",
    "from sklearn.model_selection import train_test_split\n",
    "import albumentations as A\n",
    "import sys\n",
    "\n",
    "from segment_anything import sam_model_registry, SamAutomaticMaskGenerator, SamPredictor\n",
    "from collections import defaultdict\n",
    "from segment_anything.utils.transforms import ResizeLongestSide\n",
    "\n",
    "%matplotlib inline"
   ]
  },
  {
   "cell_type": "markdown",
   "id": "c1714738",
   "metadata": {
    "papermill": {
     "duration": 0.010439,
     "end_time": "2023-07-31T01:07:23.777023",
     "exception": false,
     "start_time": "2023-07-31T01:07:23.766584",
     "status": "completed"
    },
    "tags": []
   },
   "source": [
    "### Image metadata"
   ]
  },
  {
   "cell_type": "code",
   "execution_count": 4,
   "id": "9d8f52a8",
   "metadata": {
    "execution": {
     "iopub.execute_input": "2023-07-31T01:07:23.797751Z",
     "iopub.status.busy": "2023-07-31T01:07:23.797459Z",
     "iopub.status.idle": "2023-07-31T01:07:23.801824Z",
     "shell.execute_reply": "2023-07-31T01:07:23.800940Z"
    },
    "papermill": {
     "duration": 0.016897,
     "end_time": "2023-07-31T01:07:23.803711",
     "exception": false,
     "start_time": "2023-07-31T01:07:23.786814",
     "status": "completed"
    },
    "tags": []
   },
   "outputs": [],
   "source": [
    "N_IMAGES = 512\n",
    "TRAIN_IMAGE_SIZE = 512\n",
    "INPUT_IMAGE_SIZE = (1920, 1080)"
   ]
  },
  {
   "cell_type": "code",
   "execution_count": 5,
   "id": "7b20f5e3",
   "metadata": {
    "execution": {
     "iopub.execute_input": "2023-07-31T01:07:23.824727Z",
     "iopub.status.busy": "2023-07-31T01:07:23.823946Z",
     "iopub.status.idle": "2023-07-31T01:07:24.636783Z",
     "shell.execute_reply": "2023-07-31T01:07:24.635764Z"
    },
    "papermill": {
     "duration": 0.825619,
     "end_time": "2023-07-31T01:07:24.639165",
     "exception": false,
     "start_time": "2023-07-31T01:07:23.813546",
     "status": "completed"
    },
    "tags": []
   },
   "outputs": [],
   "source": [
    "with open(\"../input/player-segmentation/instances_default.json\") as f:\n",
    "    annotations = json.load(f)\n",
    "\n",
    "map_id_filename = {}\n",
    "for index in range(len(annotations[\"images\"])):\n",
    "    map_id_filename[annotations[\"images\"][index][\"id\"]] = annotations[\"images\"][index][\"file_name\"]"
   ]
  },
  {
   "cell_type": "markdown",
   "id": "c999b258",
   "metadata": {
    "papermill": {
     "duration": 0.009644,
     "end_time": "2023-07-31T01:07:24.658965",
     "exception": false,
     "start_time": "2023-07-31T01:07:24.649321",
     "status": "completed"
    },
    "tags": []
   },
   "source": [
    "### create SAM checkpoints"
   ]
  },
  {
   "cell_type": "code",
   "execution_count": 6,
   "id": "721e3a42",
   "metadata": {
    "execution": {
     "iopub.execute_input": "2023-07-31T01:07:24.679957Z",
     "iopub.status.busy": "2023-07-31T01:07:24.679643Z",
     "iopub.status.idle": "2023-07-31T01:07:41.420778Z",
     "shell.execute_reply": "2023-07-31T01:07:41.419710Z"
    },
    "papermill": {
     "duration": 16.754448,
     "end_time": "2023-07-31T01:07:41.423255",
     "exception": false,
     "start_time": "2023-07-31T01:07:24.668807",
     "status": "completed"
    },
    "tags": []
   },
   "outputs": [],
   "source": [
    "sam_checkpoint = \"/kaggle/input/segment-anything/pytorch/vit-l/1/model.pth\"\n",
    "model_type = \"vit_l\"\n",
    "\n",
    "device = \"cuda\"\n",
    "sam = sam_model_registry[model_type](checkpoint=sam_checkpoint)\n",
    "sam.to(device=device)\n",
    "mask_generator_2 = SamAutomaticMaskGenerator(\n",
    "    model=sam,\n",
    "    points_per_side=32,\n",
    "    pred_iou_thresh=0.9,\n",
    "    stability_score_thresh=0.9,\n",
    "    crop_n_layers=1,\n",
    "    crop_n_points_downscale_factor=2,\n",
    "    min_mask_region_area=120,  # Requires open-cv to run post-processing\n",
    ")\n",
    "\n",
    "predictor = SamPredictor(sam)"
   ]
  },
  {
   "cell_type": "markdown",
   "id": "b6ffa470",
   "metadata": {
    "papermill": {
     "duration": 0.009683,
     "end_time": "2023-07-31T01:07:41.443392",
     "exception": false,
     "start_time": "2023-07-31T01:07:41.433709",
     "status": "completed"
    },
    "tags": []
   },
   "source": [
    "### Prepare data for training"
   ]
  },
  {
   "cell_type": "markdown",
   "id": "e5c49c57",
   "metadata": {
    "papermill": {
     "duration": 0.009455,
     "end_time": "2023-07-31T01:07:41.462500",
     "exception": false,
     "start_time": "2023-07-31T01:07:41.453045",
     "status": "completed"
    },
    "tags": []
   },
   "source": []
  },
  {
   "cell_type": "code",
   "execution_count": 7,
   "id": "1ac84e4e",
   "metadata": {
    "execution": {
     "iopub.execute_input": "2023-07-31T01:07:41.483219Z",
     "iopub.status.busy": "2023-07-31T01:07:41.482920Z",
     "iopub.status.idle": "2023-07-31T01:07:41.488105Z",
     "shell.execute_reply": "2023-07-31T01:07:41.487105Z"
    },
    "papermill": {
     "duration": 0.018127,
     "end_time": "2023-07-31T01:07:41.490439",
     "exception": false,
     "start_time": "2023-07-31T01:07:41.472312",
     "status": "completed"
    },
    "tags": []
   },
   "outputs": [],
   "source": [
    "# import pycocotools.mask as mask_util\n",
    "# from matplotlib import pyplot as plt\n",
    "\n",
    "# sam_annotations = dict()\n",
    "# for img_id in tqdm(map_id_filename.keys()):\n",
    "#     sam_annotations[img_id] = dict()\n",
    "#     sam_annotations[img_id]['id'] = str(img_id)\n",
    "#     sam_annotations[img_id]['annotations'] = list()\n",
    "    \n",
    "#     single_mask = None\n",
    "#     for ann in annotations[\"annotations\"]:\n",
    "#         if ann['image_id'] == img_id:\n",
    "#             item = dict()\n",
    "#             item['type'] = 'player'\n",
    "#             item['coordinates'] = list()\n",
    "\n",
    "#             segmentation = ann[\"segmentation\"]\n",
    "# #             polygons = np.array(segmentation)\n",
    "# #             polygon = polygon.reshape((-1, 1, 2)).astype(int)\n",
    "#             rles = mask_util.frPyObjects(segmentation, 1080, 1920)\n",
    "#             rle = mask_util.merge(rles)\n",
    "#             gen_mask = mask_util.decode(rle)\n",
    "#             #gen_mask = cv2.resize(gen_mask, dsize=(512, 512), interpolation=cv2.INTER_NEAREST)\n",
    "            \n",
    "#             if single_mask is None:\n",
    "#                 single_mask = gen_mask\n",
    "#             else:\n",
    "#                 single_mask += gen_mask\n",
    "\n",
    "#     single_mask = single_mask>0       \n",
    "#     item['coordinates'].append(single_mask)\n",
    "#     sam_annotations[img_id]['annotations'].append(item)"
   ]
  },
  {
   "cell_type": "markdown",
   "id": "e9d74c9b",
   "metadata": {
    "papermill": {
     "duration": 0.009719,
     "end_time": "2023-07-31T01:07:41.510127",
     "exception": false,
     "start_time": "2023-07-31T01:07:41.500408",
     "status": "completed"
    },
    "tags": []
   },
   "source": [
    "### Debug - make sure data is correct"
   ]
  },
  {
   "cell_type": "code",
   "execution_count": 8,
   "id": "4e166ce4",
   "metadata": {
    "execution": {
     "iopub.execute_input": "2023-07-31T01:07:41.530599Z",
     "iopub.status.busy": "2023-07-31T01:07:41.530310Z",
     "iopub.status.idle": "2023-07-31T01:07:41.535524Z",
     "shell.execute_reply": "2023-07-31T01:07:41.534497Z"
    },
    "papermill": {
     "duration": 0.018113,
     "end_time": "2023-07-31T01:07:41.537854",
     "exception": false,
     "start_time": "2023-07-31T01:07:41.519741",
     "status": "completed"
    },
    "tags": []
   },
   "outputs": [],
   "source": [
    "# import pycocotools.mask as mask_util\n",
    "# from matplotlib import pyplot as plt\n",
    "\n",
    "# def display_image_along_with_segmentation_masks(img_id=111):\n",
    "#     file_name = None\n",
    "#     for im in annotations[\"images\"]:\n",
    "#         if im['id'] == img_id:\n",
    "#             file_name = im['file_name']\n",
    "\n",
    "#     image = cv2.cvtColor(\n",
    "#         cv2.imread(f'../input/player-segmentation/0_500/images/{file_name}'), \n",
    "#         cv2.COLOR_BGR2RGB\n",
    "#     )\n",
    "#     plt.imshow(image)\n",
    "#     plt.show()\n",
    "\n",
    "#     single_mask = None\n",
    "#     for ann in annotations[\"annotations\"]:\n",
    "#         if ann['image_id'] == img_id:\n",
    "#             polygons = ann['segmentation']\n",
    "#             rles = mask_util.frPyObjects(polygons, 1080, 1920)\n",
    "#             rle = mask_util.merge(rles)\n",
    "#             mask = mask_util.decode(rle)\n",
    "#             if single_mask is None:\n",
    "#                 single_mask = mask\n",
    "#             else:\n",
    "#                 single_mask += mask\n",
    "    \n",
    "#     single_mask = single_mask>0\n",
    "#     plt.imshow(single_mask)\n",
    "#     plt.show()\n",
    "#     return single_mask\n",
    "            \n",
    "# single_mask = display_image_along_with_segmentation_masks(img_id = 14)"
   ]
  },
  {
   "cell_type": "markdown",
   "id": "7f3329bf",
   "metadata": {
    "papermill": {
     "duration": 0.00951,
     "end_time": "2023-07-31T01:07:41.557010",
     "exception": false,
     "start_time": "2023-07-31T01:07:41.547500",
     "status": "completed"
    },
    "tags": []
   },
   "source": [
    "### Load dataset for traininig"
   ]
  },
  {
   "cell_type": "code",
   "execution_count": 9,
   "id": "f5ab7a00",
   "metadata": {
    "execution": {
     "iopub.execute_input": "2023-07-31T01:07:41.577926Z",
     "iopub.status.busy": "2023-07-31T01:07:41.577668Z",
     "iopub.status.idle": "2023-07-31T01:07:41.583096Z",
     "shell.execute_reply": "2023-07-31T01:07:41.582123Z"
    },
    "papermill": {
     "duration": 0.018679,
     "end_time": "2023-07-31T01:07:41.585315",
     "exception": false,
     "start_time": "2023-07-31T01:07:41.566636",
     "status": "completed"
    },
    "tags": []
   },
   "outputs": [],
   "source": [
    "# def get_bounding_box(ground_truth_map):\n",
    "#     # get bounding box from mask\n",
    "#     try:\n",
    "#         y_indices, x_indices = np.where(ground_truth_map > 0)\n",
    "#         x_min, x_max = np.min(x_indices), np.max(x_indices)\n",
    "#         y_min, y_max = np.min(y_indices), np.max(y_indices)\n",
    "#     except:\n",
    "#         # some debug info\n",
    "#         print('y_indices', y_indices)\n",
    "#         print('x_indices', x_indices)\n",
    "#         print('ground_truth_map', ground_truth_map)\n",
    "#     # add perturbation to bounding box coordinates\n",
    "#     H, W = ground_truth_map.shape\n",
    "#     x_min = max(0, x_min - np.random.randint(0, 1))\n",
    "#     x_max = min(W, x_max + np.random.randint(0, 1))\n",
    "#     y_min = max(0, y_min - np.random.randint(0, 1))\n",
    "#     y_max = min(H, y_max + np.random.randint(0, 1))\n",
    "#     bbox = np.array([x_min, y_min, x_max, y_max])\n",
    "\n",
    "#     return bbox\n",
    "\n",
    "# def get_image_mask_and_bbox(img_ids):\n",
    "#     # For every bounding box(prompt), find the original image and ground truth mask\n",
    "#     bbox_coords = defaultdict(list)\n",
    "#     ground_truth_masks = defaultdict(list)\n",
    "#     transformed_data = defaultdict(dict)\n",
    "#     for img_id in img_ids: \n",
    "#         image = cv2.imread(f\"../input/player-segmentation/0_500/images/{map_id_filename[img_id]}\")\n",
    "#         image = cv2.cvtColor(image, cv2.COLOR_BGR2RGB)  \n",
    "\n",
    "#         transform = ResizeLongestSide(sam.image_encoder.img_size)\n",
    "#         input_image = transform.apply_image(image)\n",
    "#         input_image_torch = torch.as_tensor(input_image, device=device)\n",
    "#         transformed_image = input_image_torch.permute(2, 0, 1).contiguous()[None, :, :, :]  \n",
    "\n",
    "#         input_image = sam.preprocess(transformed_image)\n",
    "#         original_image_size = image.shape[:2]\n",
    "#         input_size = tuple(transformed_image.shape[-2:])\n",
    "\n",
    "#         transformed_data[img_id]['image'] = input_image[0]\n",
    "#         transformed_data[img_id]['input_size'] = input_size\n",
    "#         transformed_data[img_id]['original_image_size'] = original_image_size\n",
    "        \n",
    "#         for annotation in sam_annotations[img_id][\"annotations\"]:\n",
    "#             ground_truth_masks[img_id].append(annotation['coordinates'][0])\n",
    "#             bbox_coords[img_id].append(get_bounding_box(annotation['coordinates'][0]))\n",
    "\n",
    "#     return transformed_data, ground_truth_masks, bbox_coords"
   ]
  },
  {
   "cell_type": "code",
   "execution_count": 10,
   "id": "a53695bd",
   "metadata": {
    "execution": {
     "iopub.execute_input": "2023-07-31T01:07:41.605584Z",
     "iopub.status.busy": "2023-07-31T01:07:41.605334Z",
     "iopub.status.idle": "2023-07-31T01:07:41.610716Z",
     "shell.execute_reply": "2023-07-31T01:07:41.609886Z"
    },
    "papermill": {
     "duration": 0.017826,
     "end_time": "2023-07-31T01:07:41.612696",
     "exception": false,
     "start_time": "2023-07-31T01:07:41.594870",
     "status": "completed"
    },
    "tags": []
   },
   "outputs": [],
   "source": [
    "# device = \"cuda\"\n",
    "# from collections import defaultdict\n",
    "# from segment_anything.utils.transforms import ResizeLongestSide\n",
    "\n",
    "# class PSDataset(torch.utils.data.Dataset):\n",
    "#     def __init__(self, img_ids, device):\n",
    "#         self.img_ids = img_ids\n",
    "#         self.device = device\n",
    "#         results = get_image_mask_and_bbox(img_ids)\n",
    "#         self.transformed_data, self.ground_truth_masks, self.bbox_coords = results \n",
    "        \n",
    "#     def __len__(self):\n",
    "#         return len(self.img_ids)\n",
    "\n",
    "#     def __getitem__(self, idx):\n",
    "#         img_id = self.img_ids[idx]\n",
    "#         return self.transformed_data[img_id], self.ground_truth_masks[img_id], self.bbox_coords[img_id]\n",
    "\n",
    "# train_len, test_len = 480, 40\n",
    "# train_dataset = PSDataset(list(sam_annotations.keys())[:train_len], device)\n",
    "# train_loader = torch.utils.data.DataLoader(train_dataset, batch_size=1, shuffle=True) \n",
    "# test_dataset = PSDataset(list(sam_annotations.keys())[train_len:train_len+test_len], device)\n",
    "# val_loader = torch.utils.data.DataLoader(test_dataset, batch_size=1, shuffle=True) "
   ]
  },
  {
   "cell_type": "markdown",
   "id": "a5152f07",
   "metadata": {
    "papermill": {
     "duration": 0.009406,
     "end_time": "2023-07-31T01:07:41.631766",
     "exception": false,
     "start_time": "2023-07-31T01:07:41.622360",
     "status": "completed"
    },
    "tags": []
   },
   "source": [
    "### training"
   ]
  },
  {
   "cell_type": "code",
   "execution_count": 11,
   "id": "db4503ea",
   "metadata": {
    "execution": {
     "iopub.execute_input": "2023-07-31T01:07:41.652097Z",
     "iopub.status.busy": "2023-07-31T01:07:41.651836Z",
     "iopub.status.idle": "2023-07-31T01:07:41.656202Z",
     "shell.execute_reply": "2023-07-31T01:07:41.655370Z"
    },
    "papermill": {
     "duration": 0.016962,
     "end_time": "2023-07-31T01:07:41.658340",
     "exception": false,
     "start_time": "2023-07-31T01:07:41.641378",
     "status": "completed"
    },
    "tags": []
   },
   "outputs": [],
   "source": [
    "# import wandb\n",
    "# from pytorch_lightning.loggers import WandbLogger\n",
    "# from kaggle_secrets import UserSecretsClient\n",
    "# user_secrets = UserSecretsClient()\n",
    "\n",
    "# epochs = 10\n",
    "# wandb.login(key='3d1ea92c9996d6ca0b364af566e085cb8dccae9d')\n",
    "# wandb.init(\n",
    "#     # set the wandb project where this run will be logged\n",
    "#     project=\"Capillaries\",\n",
    "#     # track hyperparameters and run metadata\n",
    "#     config={\n",
    "#     \"learning_rate\": 1e-3,\n",
    "#     \"architecture\": \"SAM-finetune mask decoder\",\n",
    "#     \"dataset\": \"Only 20 images\",\n",
    "#     \"epochs\": epochs,\n",
    "#     }\n",
    "# )\n",
    "# wandb_logger = WandbLogger()"
   ]
  },
  {
   "cell_type": "code",
   "execution_count": 12,
   "id": "5e55767c",
   "metadata": {
    "execution": {
     "iopub.execute_input": "2023-07-31T01:07:41.678475Z",
     "iopub.status.busy": "2023-07-31T01:07:41.678193Z",
     "iopub.status.idle": "2023-07-31T01:07:41.682782Z",
     "shell.execute_reply": "2023-07-31T01:07:41.681791Z"
    },
    "papermill": {
     "duration": 0.017212,
     "end_time": "2023-07-31T01:07:41.685038",
     "exception": false,
     "start_time": "2023-07-31T01:07:41.667826",
     "status": "completed"
    },
    "tags": []
   },
   "outputs": [],
   "source": [
    "# Consider changing the loss function to Dice Loss or BCE Loss\n",
    "# class DiceLoss(torch.nn.Module):\n",
    "#     def __init__(self, eps=1e-5):\n",
    "#         super().__init__()\n",
    "#         self.eps = eps\n",
    "        \n",
    "#     def forward(self, output, target):\n",
    "#         intersection = (output * target).sum()\n",
    "#         union = output.sum() + target.sum() + self.eps\n",
    "#         dice_score = 2.0 * intersection / union\n",
    "#         return -(1.0 - dice_score)\n",
    "\n",
    "# loss_fn = DiceLoss()\n",
    "loss_fn = torch.nn.BCELoss()"
   ]
  },
  {
   "cell_type": "code",
   "execution_count": 13,
   "id": "bb5c1add",
   "metadata": {
    "execution": {
     "iopub.execute_input": "2023-07-31T01:07:41.705603Z",
     "iopub.status.busy": "2023-07-31T01:07:41.705351Z",
     "iopub.status.idle": "2023-07-31T01:07:41.714036Z",
     "shell.execute_reply": "2023-07-31T01:07:41.713097Z"
    },
    "papermill": {
     "duration": 0.02152,
     "end_time": "2023-07-31T01:07:41.716250",
     "exception": false,
     "start_time": "2023-07-31T01:07:41.694730",
     "status": "completed"
    },
    "tags": []
   },
   "outputs": [],
   "source": [
    "# import pytorch_lightning as pl\n",
    "# from torch.nn.functional import threshold, normalize\n",
    "# from pytorch_lightning.callbacks import ModelCheckpoint, EarlyStopping\n",
    "# from torchvision.utils import make_grid\n",
    "\n",
    "# class MyModel(pl.LightningModule):\n",
    "#     def __init__(self, sam, loss_fn, plot_every_x_steps):\n",
    "#         super(MyModel, self).__init__()\n",
    "#         self.sam = sam\n",
    "#         self.loss_fn = loss_fn\n",
    "#         self.plot_every_x_steps = plot_every_x_steps\n",
    "#         self.transform = ResizeLongestSide(sam.image_encoder.img_size)\n",
    "    \n",
    "#     def forward_pass(self, transformed_data, ground_truth_masks, bbox_coords):\n",
    "#         input_image = transformed_data['image'].to(self.device)\n",
    "#         input_size = transformed_data[\"input_size\"]\n",
    "#         original_image_size = transformed_data[\"original_image_size\"]\n",
    "#         input_size = (input_size[0].item(), input_size[1].item())\n",
    "#         original_image_size = (original_image_size[0].item(), original_image_size[1].item())\n",
    "#         losses = []\n",
    "\n",
    "#         for i in range(len(ground_truth_masks)):\n",
    "#             ground_truth_masks[i] = ground_truth_masks[i][0].to(self.device)\n",
    "#             prompt_box = bbox_coords[i][0].cpu().numpy()\n",
    "            \n",
    "#             with torch.no_grad():\n",
    "#                 image_embedding = self.sam.image_encoder(input_image)\n",
    "#                 box = self.transform.apply_boxes(prompt_box, original_image_size)\n",
    "#                 box_torch = torch.as_tensor(box, dtype=torch.float, device=self.device)\n",
    "#                 box_torch = box_torch[None, :]\n",
    "\n",
    "#                 sparse_embeddings, dense_embeddings = self.sam.prompt_encoder(\n",
    "#                     points=None,\n",
    "#                     boxes=box_torch,\n",
    "#                     masks=None,\n",
    "#                 )\n",
    "\n",
    "#             low_res_masks, _ = self.sam.mask_decoder(\n",
    "#                 image_embeddings=image_embedding,\n",
    "#                 image_pe=self.sam.prompt_encoder.get_dense_pe(),\n",
    "#                 sparse_prompt_embeddings=sparse_embeddings,\n",
    "#                 dense_prompt_embeddings=dense_embeddings,\n",
    "#                 multimask_output=False,\n",
    "#             )\n",
    "\n",
    "#             upscaled_masks = self.sam.postprocess_masks(low_res_masks, input_size, original_image_size).to(self.device)\n",
    "#             probability_mask = torch.sigmoid(upscaled_masks[0,0])\n",
    "            \n",
    "#             loss = self.loss_fn(probability_mask, ground_truth_masks[i].float())\n",
    "#             losses.append(loss)\n",
    "#             last_upscaled_mask = upscaled_masks\n",
    "\n",
    "#         mean_loss = torch.stack(losses).mean()\n",
    "\n",
    "#         return mean_loss, last_upscaled_mask\n",
    "\n",
    "#     def training_step(self, batch, batch_idx):\n",
    "#         transformed_data, ground_truth_masks, bbox_coords = batch\n",
    "#         if len(ground_truth_masks) == 0:\n",
    "#             return None\n",
    "#         self.last_imgs = transformed_data['image'] \n",
    "#         self.last_masks = ground_truth_masks[-1]\n",
    "#         mean_loss, last_upscaled_mask = self.forward_pass(transformed_data, ground_truth_masks, bbox_coords)\n",
    "#         self.last_upscaled_masks = last_upscaled_mask\n",
    "#         #self.log('train_loss', mean_loss)\n",
    "#         self.log(\"train_loss\", mean_loss, on_step=True, on_epoch=True, prog_bar=True, logger=True)\n",
    "#         self.log_images()\n",
    "#         return mean_loss\n",
    "\n",
    "#     @torch.no_grad()\n",
    "#     def validation_step(self, batch, batch_idx):\n",
    "#         transformed_data, ground_truth_masks, bbox_coords = batch\n",
    "#         if len(ground_truth_masks) == 0:\n",
    "#             return None\n",
    "#         self.last_imgs = transformed_data['image'] \n",
    "#         self.last_masks = ground_truth_masks[-1]\n",
    "#         mean_loss, last_upscaled_mask = self.forward_pass(transformed_data, ground_truth_masks, bbox_coords)\n",
    "#         self.last_upscaled_masks = last_upscaled_mask\n",
    "#         self.log('val_loss', mean_loss)\n",
    "#         self.log_images()\n",
    "#         return mean_loss   \n",
    "    \n",
    "#     def configure_optimizers(self):\n",
    "#         lr = 1e-3\n",
    "#         wd = 0\n",
    "#         optimizer = torch.optim.Adam(self.sam.mask_decoder.parameters(), lr=lr, weight_decay=wd)\n",
    "#         scheduler = torch.optim.lr_scheduler.CosineAnnealingLR(optimizer, T_max=10, eta_min=0)\n",
    "\n",
    "#         return {\"optimizer\": optimizer, \"lr_scheduler\": scheduler, \"monitor\": \"train_loss\"}\n",
    "     \n",
    "#     def log_images(self):\n",
    "#         if True or self.global_step % self.plot_every_x_steps == 0:  # plot every x epochs\n",
    "#             last_img = self.last_imgs[0].cpu().numpy().transpose(1,2,0)\n",
    "#             last_mask = self.last_masks[0].detach().cpu().numpy()\n",
    "#             last_upscaled_mask = self.last_upscaled_masks[0,0].detach().cpu().numpy()\n",
    "#             self.logger.experiment.log({\n",
    "#                 \"Input Images\": wandb.Image(last_img),\n",
    "#                 \"Ground Truth Masks\": wandb.Image(last_mask, mode='L'),\n",
    "#                 \"Predicted (upscaled) Masks\": wandb.Image(last_upscaled_mask, mode='L'),\n",
    "#             })\n",
    "        \n",
    "\n",
    "# model = MyModel(sam, loss_fn, plot_every_x_steps=10)\n",
    "# checkpoint_callback = ModelCheckpoint(\n",
    "#     dirpath=\"checkpoints\",\n",
    "#     filename=\"best-checkpoint\",\n",
    "#     save_top_k=1,\n",
    "#     verbose=True,\n",
    "#     monitor=\"val_loss\",  # assumes you have a validation step where you log a \"val_loss\"\n",
    "#     mode=\"min\",\n",
    "#     every_n_epochs=5,  # change this to save every X epochs\n",
    "# )\n",
    "# early_stopping_callback = EarlyStopping(\n",
    "#     monitor=\"val_loss\",  # assumes you have a validation step where you log a \"val_loss\"\n",
    "#     patience=3,\n",
    "#     mode='min'\n",
    "# )\n",
    "# trainer = pl.Trainer(\n",
    "#     logger=wandb_logger,\n",
    "#     max_epochs=epochs,\n",
    "#     callbacks=[checkpoint_callback, early_stopping_callback],\n",
    "#     log_every_n_steps=10,\n",
    "# )\n",
    "# trainer.fit(model, train_loader, val_loader)\n",
    "# wandb.finish()"
   ]
  },
  {
   "cell_type": "markdown",
   "id": "77d7661e",
   "metadata": {
    "papermill": {
     "duration": 0.009561,
     "end_time": "2023-07-31T01:07:41.735376",
     "exception": false,
     "start_time": "2023-07-31T01:07:41.725815",
     "status": "completed"
    },
    "tags": []
   },
   "source": [
    "### generated frames"
   ]
  },
  {
   "cell_type": "code",
   "execution_count": 14,
   "id": "5bf11c5e",
   "metadata": {
    "execution": {
     "iopub.execute_input": "2023-07-31T01:07:41.755673Z",
     "iopub.status.busy": "2023-07-31T01:07:41.755411Z",
     "iopub.status.idle": "2023-07-31T01:07:42.748931Z",
     "shell.execute_reply": "2023-07-31T01:07:42.747653Z"
    },
    "papermill": {
     "duration": 1.006562,
     "end_time": "2023-07-31T01:07:42.751534",
     "exception": false,
     "start_time": "2023-07-31T01:07:41.744972",
     "status": "completed"
    },
    "tags": []
   },
   "outputs": [],
   "source": [
    "mkdir /kaggle/working/frames"
   ]
  },
  {
   "cell_type": "code",
   "execution_count": 15,
   "id": "d886bf1c",
   "metadata": {
    "execution": {
     "iopub.execute_input": "2023-07-31T01:07:42.773682Z",
     "iopub.status.busy": "2023-07-31T01:07:42.772883Z",
     "iopub.status.idle": "2023-07-31T01:11:55.790153Z",
     "shell.execute_reply": "2023-07-31T01:11:55.788523Z"
    },
    "papermill": {
     "duration": 253.030989,
     "end_time": "2023-07-31T01:11:55.792745",
     "exception": false,
     "start_time": "2023-07-31T01:07:42.761756",
     "status": "completed"
    },
    "tags": []
   },
   "outputs": [
    {
     "name": "stdout",
     "output_type": "stream",
     "text": [
      "saving:   /kaggle/working/frames/0_0.jpg\n",
      "saving:   /kaggle/working/frames/0_1.jpg\n",
      "saving:   /kaggle/working/frames/0_2.jpg\n",
      "saving:   /kaggle/working/frames/0_3.jpg\n",
      "saving:   /kaggle/working/frames/0_4.jpg\n",
      "saving:   /kaggle/working/frames/0_5.jpg\n",
      "saving:   /kaggle/working/frames/0_6.jpg\n",
      "saving:   /kaggle/working/frames/0_7.jpg\n",
      "saving:   /kaggle/working/frames/0_8.jpg\n",
      "saving:   /kaggle/working/frames/0_9.jpg\n",
      "saving:   /kaggle/working/frames/1_0.jpg\n",
      "saving:   /kaggle/working/frames/1_1.jpg\n",
      "saving:   /kaggle/working/frames/1_2.jpg\n",
      "saving:   /kaggle/working/frames/1_3.jpg\n",
      "saving:   /kaggle/working/frames/1_4.jpg\n",
      "saving:   /kaggle/working/frames/1_5.jpg\n",
      "saving:   /kaggle/working/frames/1_6.jpg\n",
      "saving:   /kaggle/working/frames/1_7.jpg\n",
      "saving:   /kaggle/working/frames/1_8.jpg\n",
      "saving:   /kaggle/working/frames/1_9.jpg\n",
      "saving:   /kaggle/working/frames/2_0.jpg\n",
      "saving:   /kaggle/working/frames/2_1.jpg\n",
      "saving:   /kaggle/working/frames/2_2.jpg\n",
      "saving:   /kaggle/working/frames/2_3.jpg\n",
      "saving:   /kaggle/working/frames/2_4.jpg\n",
      "saving:   /kaggle/working/frames/2_5.jpg\n",
      "saving:   /kaggle/working/frames/2_6.jpg\n",
      "saving:   /kaggle/working/frames/2_7.jpg\n",
      "saving:   /kaggle/working/frames/2_8.jpg\n",
      "saving:   /kaggle/working/frames/2_9.jpg\n",
      "saving:   /kaggle/working/frames/3_0.jpg\n",
      "saving:   /kaggle/working/frames/3_1.jpg\n",
      "saving:   /kaggle/working/frames/3_2.jpg\n",
      "saving:   /kaggle/working/frames/3_3.jpg\n",
      "saving:   /kaggle/working/frames/3_4.jpg\n",
      "saving:   /kaggle/working/frames/3_5.jpg\n",
      "saving:   /kaggle/working/frames/3_6.jpg\n",
      "saving:   /kaggle/working/frames/3_7.jpg\n",
      "saving:   /kaggle/working/frames/3_8.jpg\n",
      "saving:   /kaggle/working/frames/3_9.jpg\n",
      "saving:   /kaggle/working/frames/4_0.jpg\n",
      "saving:   /kaggle/working/frames/4_1.jpg\n",
      "saving:   /kaggle/working/frames/4_2.jpg\n",
      "saving:   /kaggle/working/frames/4_3.jpg\n",
      "saving:   /kaggle/working/frames/4_4.jpg\n",
      "saving:   /kaggle/working/frames/4_5.jpg\n",
      "saving:   /kaggle/working/frames/4_6.jpg\n",
      "saving:   /kaggle/working/frames/4_7.jpg\n",
      "saving:   /kaggle/working/frames/4_8.jpg\n",
      "saving:   /kaggle/working/frames/4_9.jpg\n",
      "saving:   /kaggle/working/frames/5_0.jpg\n",
      "saving:   /kaggle/working/frames/5_1.jpg\n",
      "saving:   /kaggle/working/frames/5_2.jpg\n",
      "saving:   /kaggle/working/frames/5_3.jpg\n",
      "saving:   /kaggle/working/frames/5_4.jpg\n",
      "saving:   /kaggle/working/frames/5_5.jpg\n",
      "saving:   /kaggle/working/frames/5_6.jpg\n",
      "saving:   /kaggle/working/frames/5_7.jpg\n",
      "saving:   /kaggle/working/frames/5_8.jpg\n",
      "saving:   /kaggle/working/frames/5_9.jpg\n",
      "saving:   /kaggle/working/frames/6_0.jpg\n",
      "saving:   /kaggle/working/frames/6_1.jpg\n",
      "saving:   /kaggle/working/frames/6_2.jpg\n",
      "saving:   /kaggle/working/frames/6_3.jpg\n",
      "saving:   /kaggle/working/frames/6_4.jpg\n",
      "saving:   /kaggle/working/frames/6_5.jpg\n",
      "saving:   /kaggle/working/frames/6_6.jpg\n",
      "saving:   /kaggle/working/frames/6_7.jpg\n",
      "saving:   /kaggle/working/frames/6_8.jpg\n",
      "saving:   /kaggle/working/frames/6_9.jpg\n",
      "saving:   /kaggle/working/frames/7_0.jpg\n",
      "saving:   /kaggle/working/frames/7_1.jpg\n",
      "saving:   /kaggle/working/frames/7_2.jpg\n",
      "saving:   /kaggle/working/frames/7_3.jpg\n",
      "saving:   /kaggle/working/frames/7_4.jpg\n",
      "saving:   /kaggle/working/frames/7_5.jpg\n",
      "saving:   /kaggle/working/frames/7_6.jpg\n",
      "saving:   /kaggle/working/frames/7_7.jpg\n",
      "saving:   /kaggle/working/frames/7_8.jpg\n",
      "saving:   /kaggle/working/frames/7_9.jpg\n",
      "saving:   /kaggle/working/frames/8_0.jpg\n",
      "saving:   /kaggle/working/frames/8_1.jpg\n",
      "saving:   /kaggle/working/frames/8_2.jpg\n",
      "saving:   /kaggle/working/frames/8_3.jpg\n",
      "saving:   /kaggle/working/frames/8_4.jpg\n",
      "saving:   /kaggle/working/frames/8_5.jpg\n",
      "saving:   /kaggle/working/frames/8_6.jpg\n",
      "saving:   /kaggle/working/frames/8_7.jpg\n",
      "saving:   /kaggle/working/frames/8_8.jpg\n",
      "saving:   /kaggle/working/frames/8_9.jpg\n",
      "saving:   /kaggle/working/frames/9_0.jpg\n",
      "saving:   /kaggle/working/frames/9_1.jpg\n",
      "saving:   /kaggle/working/frames/9_2.jpg\n",
      "saving:   /kaggle/working/frames/9_3.jpg\n",
      "saving:   /kaggle/working/frames/9_4.jpg\n",
      "saving:   /kaggle/working/frames/9_5.jpg\n",
      "saving:   /kaggle/working/frames/9_6.jpg\n",
      "saving:   /kaggle/working/frames/9_7.jpg\n",
      "saving:   /kaggle/working/frames/9_8.jpg\n",
      "saving:   /kaggle/working/frames/9_9.jpg\n",
      "saving:   /kaggle/working/frames/10_0.jpg\n",
      "saving:   /kaggle/working/frames/10_1.jpg\n",
      "saving:   /kaggle/working/frames/10_2.jpg\n",
      "saving:   /kaggle/working/frames/10_3.jpg\n",
      "saving:   /kaggle/working/frames/10_4.jpg\n",
      "saving:   /kaggle/working/frames/10_5.jpg\n",
      "saving:   /kaggle/working/frames/10_6.jpg\n",
      "saving:   /kaggle/working/frames/10_7.jpg\n",
      "saving:   /kaggle/working/frames/10_8.jpg\n",
      "saving:   /kaggle/working/frames/10_9.jpg\n",
      "saving:   /kaggle/working/frames/11_0.jpg\n",
      "saving:   /kaggle/working/frames/11_1.jpg\n",
      "saving:   /kaggle/working/frames/11_2.jpg\n",
      "saving:   /kaggle/working/frames/11_3.jpg\n",
      "saving:   /kaggle/working/frames/11_4.jpg\n",
      "saving:   /kaggle/working/frames/11_5.jpg\n",
      "saving:   /kaggle/working/frames/11_6.jpg\n",
      "saving:   /kaggle/working/frames/11_7.jpg\n",
      "saving:   /kaggle/working/frames/11_8.jpg\n",
      "saving:   /kaggle/working/frames/11_9.jpg\n",
      "saving:   /kaggle/working/frames/12_0.jpg\n",
      "saving:   /kaggle/working/frames/12_1.jpg\n",
      "saving:   /kaggle/working/frames/12_2.jpg\n",
      "saving:   /kaggle/working/frames/12_3.jpg\n",
      "saving:   /kaggle/working/frames/12_4.jpg\n",
      "saving:   /kaggle/working/frames/12_5.jpg\n",
      "saving:   /kaggle/working/frames/12_6.jpg\n",
      "saving:   /kaggle/working/frames/12_7.jpg\n",
      "saving:   /kaggle/working/frames/12_8.jpg\n",
      "saving:   /kaggle/working/frames/12_9.jpg\n",
      "saving:   /kaggle/working/frames/13_0.jpg\n",
      "saving:   /kaggle/working/frames/13_1.jpg\n",
      "saving:   /kaggle/working/frames/13_2.jpg\n",
      "saving:   /kaggle/working/frames/13_3.jpg\n",
      "saving:   /kaggle/working/frames/13_4.jpg\n",
      "saving:   /kaggle/working/frames/13_5.jpg\n",
      "saving:   /kaggle/working/frames/13_6.jpg\n",
      "saving:   /kaggle/working/frames/13_7.jpg\n",
      "saving:   /kaggle/working/frames/13_8.jpg\n",
      "saving:   /kaggle/working/frames/13_9.jpg\n",
      "saving:   /kaggle/working/frames/14_0.jpg\n",
      "saving:   /kaggle/working/frames/14_1.jpg\n",
      "saving:   /kaggle/working/frames/14_2.jpg\n",
      "saving:   /kaggle/working/frames/14_3.jpg\n",
      "saving:   /kaggle/working/frames/14_4.jpg\n",
      "saving:   /kaggle/working/frames/14_5.jpg\n",
      "saving:   /kaggle/working/frames/14_6.jpg\n",
      "saving:   /kaggle/working/frames/14_7.jpg\n",
      "saving:   /kaggle/working/frames/14_8.jpg\n",
      "saving:   /kaggle/working/frames/14_9.jpg\n",
      "saving:   /kaggle/working/frames/15_0.jpg\n",
      "saving:   /kaggle/working/frames/15_1.jpg\n",
      "saving:   /kaggle/working/frames/15_2.jpg\n",
      "saving:   /kaggle/working/frames/15_3.jpg\n",
      "saving:   /kaggle/working/frames/15_4.jpg\n",
      "saving:   /kaggle/working/frames/15_5.jpg\n",
      "saving:   /kaggle/working/frames/15_6.jpg\n",
      "saving:   /kaggle/working/frames/15_7.jpg\n",
      "saving:   /kaggle/working/frames/15_8.jpg\n",
      "saving:   /kaggle/working/frames/15_9.jpg\n",
      "saving:   /kaggle/working/frames/16_0.jpg\n",
      "saving:   /kaggle/working/frames/16_1.jpg\n",
      "saving:   /kaggle/working/frames/16_2.jpg\n",
      "saving:   /kaggle/working/frames/16_3.jpg\n",
      "saving:   /kaggle/working/frames/16_4.jpg\n",
      "saving:   /kaggle/working/frames/16_5.jpg\n",
      "saving:   /kaggle/working/frames/16_6.jpg\n",
      "saving:   /kaggle/working/frames/16_7.jpg\n",
      "saving:   /kaggle/working/frames/16_8.jpg\n",
      "saving:   /kaggle/working/frames/16_9.jpg\n",
      "saving:   /kaggle/working/frames/17_0.jpg\n",
      "saving:   /kaggle/working/frames/17_1.jpg\n",
      "saving:   /kaggle/working/frames/17_2.jpg\n",
      "saving:   /kaggle/working/frames/17_3.jpg\n",
      "saving:   /kaggle/working/frames/17_4.jpg\n",
      "saving:   /kaggle/working/frames/17_5.jpg\n",
      "saving:   /kaggle/working/frames/17_6.jpg\n",
      "saving:   /kaggle/working/frames/17_7.jpg\n",
      "saving:   /kaggle/working/frames/17_8.jpg\n",
      "saving:   /kaggle/working/frames/17_9.jpg\n",
      "saving:   /kaggle/working/frames/18_0.jpg\n",
      "saving:   /kaggle/working/frames/18_1.jpg\n",
      "saving:   /kaggle/working/frames/18_2.jpg\n",
      "saving:   /kaggle/working/frames/18_3.jpg\n",
      "saving:   /kaggle/working/frames/18_4.jpg\n",
      "saving:   /kaggle/working/frames/18_5.jpg\n",
      "saving:   /kaggle/working/frames/18_6.jpg\n",
      "saving:   /kaggle/working/frames/18_7.jpg\n",
      "saving:   /kaggle/working/frames/18_8.jpg\n",
      "saving:   /kaggle/working/frames/18_9.jpg\n",
      "saving:   /kaggle/working/frames/19_0.jpg\n",
      "saving:   /kaggle/working/frames/19_1.jpg\n",
      "saving:   /kaggle/working/frames/19_2.jpg\n",
      "saving:   /kaggle/working/frames/19_3.jpg\n",
      "saving:   /kaggle/working/frames/19_4.jpg\n",
      "saving:   /kaggle/working/frames/19_5.jpg\n",
      "saving:   /kaggle/working/frames/19_6.jpg\n",
      "saving:   /kaggle/working/frames/19_7.jpg\n",
      "saving:   /kaggle/working/frames/19_8.jpg\n",
      "saving:   /kaggle/working/frames/19_9.jpg\n",
      "saving:   /kaggle/working/frames/20_0.jpg\n",
      "saving:   /kaggle/working/frames/20_1.jpg\n",
      "saving:   /kaggle/working/frames/20_2.jpg\n",
      "saving:   /kaggle/working/frames/20_3.jpg\n",
      "saving:   /kaggle/working/frames/20_4.jpg\n",
      "saving:   /kaggle/working/frames/20_5.jpg\n",
      "saving:   /kaggle/working/frames/20_6.jpg\n",
      "saving:   /kaggle/working/frames/20_7.jpg\n",
      "saving:   /kaggle/working/frames/20_8.jpg\n",
      "saving:   /kaggle/working/frames/20_9.jpg\n",
      "saving:   /kaggle/working/frames/21_0.jpg\n",
      "saving:   /kaggle/working/frames/21_1.jpg\n",
      "saving:   /kaggle/working/frames/21_2.jpg\n",
      "saving:   /kaggle/working/frames/21_3.jpg\n",
      "saving:   /kaggle/working/frames/21_4.jpg\n",
      "saving:   /kaggle/working/frames/21_5.jpg\n",
      "saving:   /kaggle/working/frames/21_6.jpg\n",
      "saving:   /kaggle/working/frames/21_7.jpg\n",
      "saving:   /kaggle/working/frames/21_8.jpg\n",
      "saving:   /kaggle/working/frames/21_9.jpg\n",
      "saving:   /kaggle/working/frames/22_0.jpg\n",
      "saving:   /kaggle/working/frames/22_1.jpg\n",
      "saving:   /kaggle/working/frames/22_2.jpg\n",
      "saving:   /kaggle/working/frames/22_3.jpg\n",
      "saving:   /kaggle/working/frames/22_4.jpg\n",
      "saving:   /kaggle/working/frames/22_5.jpg\n",
      "saving:   /kaggle/working/frames/22_6.jpg\n",
      "saving:   /kaggle/working/frames/22_7.jpg\n",
      "saving:   /kaggle/working/frames/22_8.jpg\n",
      "saving:   /kaggle/working/frames/22_9.jpg\n",
      "saving:   /kaggle/working/frames/23_0.jpg\n",
      "saving:   /kaggle/working/frames/23_1.jpg\n",
      "saving:   /kaggle/working/frames/23_2.jpg\n",
      "saving:   /kaggle/working/frames/23_3.jpg\n",
      "saving:   /kaggle/working/frames/23_4.jpg\n",
      "saving:   /kaggle/working/frames/23_5.jpg\n",
      "saving:   /kaggle/working/frames/23_6.jpg\n",
      "saving:   /kaggle/working/frames/23_7.jpg\n",
      "saving:   /kaggle/working/frames/23_8.jpg\n",
      "saving:   /kaggle/working/frames/23_9.jpg\n",
      "saving:   /kaggle/working/frames/24_0.jpg\n",
      "saving:   /kaggle/working/frames/24_1.jpg\n",
      "saving:   /kaggle/working/frames/24_2.jpg\n",
      "saving:   /kaggle/working/frames/24_3.jpg\n",
      "saving:   /kaggle/working/frames/24_4.jpg\n",
      "saving:   /kaggle/working/frames/24_5.jpg\n",
      "saving:   /kaggle/working/frames/24_6.jpg\n",
      "saving:   /kaggle/working/frames/24_7.jpg\n",
      "saving:   /kaggle/working/frames/24_8.jpg\n",
      "saving:   /kaggle/working/frames/24_9.jpg\n",
      "saving:   /kaggle/working/frames/25_0.jpg\n",
      "saving:   /kaggle/working/frames/25_1.jpg\n",
      "saving:   /kaggle/working/frames/25_2.jpg\n",
      "saving:   /kaggle/working/frames/25_3.jpg\n",
      "saving:   /kaggle/working/frames/25_4.jpg\n",
      "saving:   /kaggle/working/frames/25_5.jpg\n",
      "saving:   /kaggle/working/frames/25_6.jpg\n",
      "saving:   /kaggle/working/frames/25_7.jpg\n",
      "saving:   /kaggle/working/frames/25_8.jpg\n",
      "saving:   /kaggle/working/frames/25_9.jpg\n",
      "saving:   /kaggle/working/frames/26_0.jpg\n",
      "saving:   /kaggle/working/frames/26_1.jpg\n",
      "saving:   /kaggle/working/frames/26_2.jpg\n",
      "saving:   /kaggle/working/frames/26_3.jpg\n",
      "saving:   /kaggle/working/frames/26_4.jpg\n",
      "saving:   /kaggle/working/frames/26_5.jpg\n",
      "saving:   /kaggle/working/frames/26_6.jpg\n",
      "saving:   /kaggle/working/frames/26_7.jpg\n",
      "saving:   /kaggle/working/frames/26_8.jpg\n",
      "saving:   /kaggle/working/frames/26_9.jpg\n",
      "saving:   /kaggle/working/frames/27_0.jpg\n",
      "saving:   /kaggle/working/frames/27_1.jpg\n",
      "saving:   /kaggle/working/frames/27_2.jpg\n",
      "saving:   /kaggle/working/frames/27_3.jpg\n",
      "saving:   /kaggle/working/frames/27_4.jpg\n",
      "saving:   /kaggle/working/frames/27_5.jpg\n",
      "saving:   /kaggle/working/frames/27_6.jpg\n",
      "saving:   /kaggle/working/frames/27_7.jpg\n",
      "saving:   /kaggle/working/frames/27_8.jpg\n",
      "saving:   /kaggle/working/frames/27_9.jpg\n",
      "saving:   /kaggle/working/frames/28_0.jpg\n",
      "saving:   /kaggle/working/frames/28_1.jpg\n",
      "saving:   /kaggle/working/frames/28_2.jpg\n",
      "saving:   /kaggle/working/frames/28_3.jpg\n",
      "saving:   /kaggle/working/frames/28_4.jpg\n",
      "saving:   /kaggle/working/frames/28_5.jpg\n",
      "saving:   /kaggle/working/frames/28_6.jpg\n",
      "saving:   /kaggle/working/frames/28_7.jpg\n",
      "saving:   /kaggle/working/frames/28_8.jpg\n",
      "saving:   /kaggle/working/frames/28_9.jpg\n",
      "saving:   /kaggle/working/frames/29_0.jpg\n",
      "saving:   /kaggle/working/frames/29_1.jpg\n",
      "saving:   /kaggle/working/frames/29_2.jpg\n",
      "saving:   /kaggle/working/frames/29_3.jpg\n",
      "saving:   /kaggle/working/frames/29_4.jpg\n",
      "saving:   /kaggle/working/frames/29_5.jpg\n",
      "saving:   /kaggle/working/frames/29_6.jpg\n",
      "saving:   /kaggle/working/frames/29_7.jpg\n",
      "saving:   /kaggle/working/frames/29_8.jpg\n",
      "saving:   /kaggle/working/frames/29_9.jpg\n",
      "saving:   /kaggle/working/frames/30_0.jpg\n",
      "saving:   /kaggle/working/frames/30_1.jpg\n",
      "saving:   /kaggle/working/frames/30_2.jpg\n",
      "saving:   /kaggle/working/frames/30_3.jpg\n",
      "saving:   /kaggle/working/frames/30_4.jpg\n",
      "saving:   /kaggle/working/frames/30_5.jpg\n",
      "saving:   /kaggle/working/frames/30_6.jpg\n",
      "saving:   /kaggle/working/frames/30_7.jpg\n",
      "saving:   /kaggle/working/frames/30_8.jpg\n",
      "saving:   /kaggle/working/frames/30_9.jpg\n",
      "saving:   /kaggle/working/frames/31_0.jpg\n",
      "saving:   /kaggle/working/frames/31_1.jpg\n",
      "saving:   /kaggle/working/frames/31_2.jpg\n",
      "saving:   /kaggle/working/frames/31_3.jpg\n",
      "saving:   /kaggle/working/frames/31_4.jpg\n",
      "saving:   /kaggle/working/frames/31_5.jpg\n",
      "saving:   /kaggle/working/frames/31_6.jpg\n",
      "saving:   /kaggle/working/frames/31_7.jpg\n",
      "saving:   /kaggle/working/frames/31_8.jpg\n",
      "saving:   /kaggle/working/frames/31_9.jpg\n",
      "saving:   /kaggle/working/frames/32_0.jpg\n",
      "saving:   /kaggle/working/frames/32_1.jpg\n",
      "saving:   /kaggle/working/frames/32_2.jpg\n",
      "saving:   /kaggle/working/frames/32_3.jpg\n",
      "saving:   /kaggle/working/frames/32_4.jpg\n",
      "saving:   /kaggle/working/frames/32_5.jpg\n",
      "saving:   /kaggle/working/frames/32_6.jpg\n",
      "saving:   /kaggle/working/frames/32_7.jpg\n",
      "saving:   /kaggle/working/frames/32_8.jpg\n",
      "saving:   /kaggle/working/frames/32_9.jpg\n",
      "saving:   /kaggle/working/frames/33_0.jpg\n",
      "saving:   /kaggle/working/frames/33_1.jpg\n",
      "saving:   /kaggle/working/frames/33_2.jpg\n",
      "saving:   /kaggle/working/frames/33_3.jpg\n",
      "saving:   /kaggle/working/frames/33_4.jpg\n",
      "saving:   /kaggle/working/frames/33_5.jpg\n",
      "saving:   /kaggle/working/frames/33_6.jpg\n",
      "saving:   /kaggle/working/frames/33_7.jpg\n",
      "saving:   /kaggle/working/frames/33_8.jpg\n",
      "saving:   /kaggle/working/frames/33_9.jpg\n"
     ]
    }
   ],
   "source": [
    "STRIDE = 0.1\n",
    "MAX_IMAGE_SIZE = 1024\n",
    "\n",
    "def get_frames_from_video(video_file, stride=1.0):\n",
    "    \"\"\"\n",
    "    video_file - path to file\n",
    "    stride - i.e 1.0 - extract frame every second, 0.5 - extract every 0.5 seconds\n",
    "    return: list of images, list of frame times in seconds\n",
    "    \"\"\"\n",
    "    video = cv2.VideoCapture(video_file)\n",
    "    fps = video.get(cv2.CAP_PROP_FPS)\n",
    "    i = 0.\n",
    "    images = []\n",
    "    frame_times = []\n",
    "\n",
    "    while video.isOpened():\n",
    "        ret, frame = video.read()\n",
    "        if ret:\n",
    "            images.append(frame)\n",
    "            frame_times.append(i)\n",
    "            i += stride\n",
    "            video.set(1, round(i * fps))\n",
    "        else:\n",
    "            video.release()\n",
    "            break\n",
    "    return images, frame_times\n",
    "\n",
    "\n",
    "def resize_if_necessary(image, max_size=1024):\n",
    "    \"\"\"\n",
    "    if any spatial shape of image is greater \n",
    "    than max_size, resize image such that max. spatial shape = max_size,\n",
    "    otherwise return original image\n",
    "    \"\"\"\n",
    "    if max_size is None:\n",
    "        return image\n",
    "    height, width = image.shape[:2]\n",
    "    if max([height, width]) > max_size:\n",
    "        ratio = float(max_size / max([height, width]))\n",
    "        image = cv2.resize(image, (0, 0), fx=ratio, fy=ratio, interpolation=cv2.INTER_CUBIC)\n",
    "    return image\n",
    "\n",
    "\n",
    "def demo_generate_frames():\n",
    "    sample_video = '../input/player-segmentation/Test.mp4'\n",
    "    images, frame_times = get_frames_from_video(sample_video, STRIDE)\n",
    "    images = [resize_if_necessary(image, MAX_IMAGE_SIZE) for image in images]\n",
    "\n",
    "    return images\n",
    "\n",
    "\n",
    "def generate_frames(input_path, save_path, stride, max_image_size):\n",
    "\n",
    "    images, frame_times = get_frames_from_video(input_path, stride)\n",
    "    images = [resize_if_necessary(image, max_image_size) for image in images]\n",
    "    for image, frame_time in zip(images, frame_times):\n",
    "        image_name = str(round(frame_time, 3)).replace(\".\", \"_\")\n",
    "        ssave_path = os.path.join(save_path, \"{}.jpg\".format(image_name))\n",
    "        print('saving:  ', ssave_path)\n",
    "        cv2.imwrite(ssave_path, image)  \n",
    "\n",
    "\n",
    "sample_video = '../input/player-segmentation/Test.mp4'\n",
    "frame_save_path = \"/kaggle/working/frames\"\n",
    "\n",
    "generate_frames(sample_video, frame_save_path, STRIDE, MAX_IMAGE_SIZE)"
   ]
  },
  {
   "cell_type": "code",
   "execution_count": 16,
   "id": "c93759fe",
   "metadata": {
    "execution": {
     "iopub.execute_input": "2023-07-31T01:11:55.818958Z",
     "iopub.status.busy": "2023-07-31T01:11:55.818666Z",
     "iopub.status.idle": "2023-07-31T01:11:55.923484Z",
     "shell.execute_reply": "2023-07-31T01:11:55.922494Z"
    },
    "papermill": {
     "duration": 0.120439,
     "end_time": "2023-07-31T01:11:55.925596",
     "exception": false,
     "start_time": "2023-07-31T01:11:55.805157",
     "status": "completed"
    },
    "tags": []
   },
   "outputs": [],
   "source": [
    "import ipywidgets as widgets\n",
    "\n",
    "\n",
    "def show_anns(anns, axes=None):\n",
    "    if len(anns) == 0:\n",
    "        return\n",
    "    if axes:\n",
    "        ax = axes\n",
    "    else:\n",
    "        ax = plt.gca()\n",
    "        ax.set_autoscale_on(False)\n",
    "    sorted_anns = sorted(anns, key=(lambda x: x['area']), reverse=True)\n",
    "    polygons = []\n",
    "    color = []\n",
    "    for ann in sorted_anns:\n",
    "        m = ann['segmentation']\n",
    "        img = np.ones((m.shape[0], m.shape[1], 3))\n",
    "        color_mask = np.random.random((1, 3)).tolist()[0]\n",
    "        for i in range(3):\n",
    "            img[:,:,i] = color_mask[i]\n",
    "        ax.imshow(np.dstack((img, m*0.5)))\n",
    "#---------------------------------------------------       \n",
    "def show_points(coords, labels, ax, marker_size=375):\n",
    "    pos_points = coords[labels==1]\n",
    "    neg_points = coords[labels==0]\n",
    "    ax.scatter(pos_points[:, 0], pos_points[:, 1], color='red', marker='o', s=80, edgecolor='white', linewidth=1.25)\n",
    "    ax.scatter(neg_points[:, 0], neg_points[:, 1], color='red', marker='o', s=80, edgecolor='white', linewidth=1.25)  \n",
    "#---------------------------------------------------\n",
    "def show_mask(mask, ax, random_color=False):\n",
    "    if random_color:\n",
    "        color = np.concatenate([np.random.random(3), np.array([0.6])], axis=1)\n",
    "    else:\n",
    "        color = np.array([200/255, 0/255, 0/255, 0.6])\n",
    "    h, w = mask.shape[-2:]\n",
    "    mask_image = mask.reshape(h, w, 1) * color.reshape(1, 1, -1)\n",
    "    ax.imshow(mask_image)\n",
    "#---------------------------------------------------   \n",
    "def custom_plot(title,image,specific_point):\n",
    "    input_label = np.array([1])\n",
    "    #--------------\n",
    "    masks = mask_generator_2.generate(image)\n",
    "    \n",
    "    print('masks')\n",
    "    #--------------\n",
    "    predictor.set_image(image)\n",
    "    masks_p, scores, logits = predictor.predict(\n",
    "        point_coords=specific_point,\n",
    "        point_labels=input_label,\n",
    "        multimask_output=True,\n",
    "    )\n",
    "    return masks, masks_p, scores, logits\n",
    "\n",
    "def draw(img_id):    \n",
    "    polygon = polygon_map[img_id]\n",
    "    img = cv2.imread(img_map[img_id])\n",
    "\n",
    "    blood_vessel = 0\n",
    "    glomerulus = 0\n",
    "    unsure = 0\n",
    "    annotations = []\n",
    "    for anno in polygon['annotations']:\n",
    "        if anno['type'] == 'blood_vessel':\n",
    "            color = (0,255,0)\n",
    "            blood_vessel += 1\n",
    "            \n",
    "        elif anno['type'] == 'glomerulus':\n",
    "            color = (0,0,0)\n",
    "            glomerulus += 1\n",
    "        else:\n",
    "            color = (255,0,0)\n",
    "            unsure += 1\n",
    "\n",
    "        pts = anno['coordinates']\n",
    "        pts = np.array(pts)\n",
    "        pts = pts.reshape(-1, 1, 2)\n",
    "        annotations.append(pts)\n",
    "        cv2.polylines(img, pts, True, color, 3)\n",
    "    \n",
    "    print(f'{blood_vessel = }')\n",
    "    print(f'{glomerulus = }')\n",
    "    print(f'{unsure = }')\n",
    "\n",
    "    plt.imshow(img)\n",
    "    return annotations\n",
    "\n",
    "#----------\n",
    "def draw_sam(img_name):\n",
    "    image = cv2.cvtColor(\n",
    "        cv2.imread('/kaggle/working/frames/' + img_name), \n",
    "        cv2.COLOR_BGR2RGB\n",
    "    )\n",
    "    specific_point = np.array([[50, 100]])\n",
    "    (aa, a, b, c) = custom_plot(img_name, image, specific_point)\n",
    "    return (aa, a, b, c)\n",
    "    \n",
    "output = widgets.Output()\n"
   ]
  },
  {
   "cell_type": "code",
   "execution_count": 17,
   "id": "9cb65ae3",
   "metadata": {
    "execution": {
     "iopub.execute_input": "2023-07-31T01:11:55.950715Z",
     "iopub.status.busy": "2023-07-31T01:11:55.950442Z",
     "iopub.status.idle": "2023-07-31T01:11:56.952659Z",
     "shell.execute_reply": "2023-07-31T01:11:56.951315Z"
    },
    "papermill": {
     "duration": 1.017363,
     "end_time": "2023-07-31T01:11:56.955055",
     "exception": false,
     "start_time": "2023-07-31T01:11:55.937692",
     "status": "completed"
    },
    "tags": []
   },
   "outputs": [],
   "source": [
    "mkdir /kaggle/working/frames_out2"
   ]
  },
  {
   "cell_type": "code",
   "execution_count": 18,
   "id": "0c6d6b10",
   "metadata": {
    "execution": {
     "iopub.execute_input": "2023-07-31T01:11:56.981127Z",
     "iopub.status.busy": "2023-07-31T01:11:56.980807Z",
     "iopub.status.idle": "2023-07-31T02:45:48.122513Z",
     "shell.execute_reply": "2023-07-31T02:45:48.120885Z"
    },
    "papermill": {
     "duration": 5631.158086,
     "end_time": "2023-07-31T02:45:48.125389",
     "exception": false,
     "start_time": "2023-07-31T01:11:56.967303",
     "status": "completed"
    },
    "tags": []
   },
   "outputs": [
    {
     "name": "stderr",
     "output_type": "stream",
     "text": [
      "  0%|          | 0/340 [00:00<?, ?it/s]"
     ]
    },
    {
     "name": "stdout",
     "output_type": "stream",
     "text": [
      "img 14_2.jpg\n",
      "masks\n"
     ]
    },
    {
     "name": "stderr",
     "output_type": "stream",
     "text": [
      "  0%|          | 1/340 [00:20<1:53:20, 20.06s/it]"
     ]
    },
    {
     "name": "stdout",
     "output_type": "stream",
     "text": [
      "saving:   /kaggle/working/frames_out2/14_2_out.jpg\n",
      "img 8_9.jpg\n",
      "masks\n"
     ]
    },
    {
     "name": "stderr",
     "output_type": "stream",
     "text": [
      "  1%|          | 2/340 [00:36<1:40:47, 17.89s/it]"
     ]
    },
    {
     "name": "stdout",
     "output_type": "stream",
     "text": [
      "saving:   /kaggle/working/frames_out2/8_9_out.jpg\n",
      "img 28_8.jpg\n",
      "masks\n"
     ]
    },
    {
     "name": "stderr",
     "output_type": "stream",
     "text": [
      "  1%|          | 3/340 [00:54<1:41:30, 18.07s/it]"
     ]
    },
    {
     "name": "stdout",
     "output_type": "stream",
     "text": [
      "saving:   /kaggle/working/frames_out2/28_8_out.jpg\n",
      "img 6_9.jpg\n",
      "masks\n"
     ]
    },
    {
     "name": "stderr",
     "output_type": "stream",
     "text": [
      "  1%|          | 4/340 [01:10<1:36:56, 17.31s/it]"
     ]
    },
    {
     "name": "stdout",
     "output_type": "stream",
     "text": [
      "saving:   /kaggle/working/frames_out2/6_9_out.jpg\n",
      "img 8_4.jpg\n",
      "masks\n"
     ]
    },
    {
     "name": "stderr",
     "output_type": "stream",
     "text": [
      "  1%|▏         | 5/340 [01:27<1:34:18, 16.89s/it]"
     ]
    },
    {
     "name": "stdout",
     "output_type": "stream",
     "text": [
      "saving:   /kaggle/working/frames_out2/8_4_out.jpg\n",
      "img 33_2.jpg\n",
      "masks\n"
     ]
    },
    {
     "name": "stderr",
     "output_type": "stream",
     "text": [
      "  2%|▏         | 6/340 [01:44<1:34:21, 16.95s/it]"
     ]
    },
    {
     "name": "stdout",
     "output_type": "stream",
     "text": [
      "saving:   /kaggle/working/frames_out2/33_2_out.jpg\n",
      "img 12_6.jpg\n",
      "masks\n"
     ]
    },
    {
     "name": "stderr",
     "output_type": "stream",
     "text": [
      "  2%|▏         | 7/340 [02:00<1:32:17, 16.63s/it]"
     ]
    },
    {
     "name": "stdout",
     "output_type": "stream",
     "text": [
      "saving:   /kaggle/working/frames_out2/12_6_out.jpg\n",
      "img 23_9.jpg\n",
      "masks\n"
     ]
    },
    {
     "name": "stderr",
     "output_type": "stream",
     "text": [
      "  2%|▏         | 8/340 [02:16<1:31:30, 16.54s/it]"
     ]
    },
    {
     "name": "stdout",
     "output_type": "stream",
     "text": [
      "saving:   /kaggle/working/frames_out2/23_9_out.jpg\n",
      "img 20_6.jpg\n",
      "masks\n"
     ]
    },
    {
     "name": "stderr",
     "output_type": "stream",
     "text": [
      "  3%|▎         | 9/340 [02:30<1:27:53, 15.93s/it]"
     ]
    },
    {
     "name": "stdout",
     "output_type": "stream",
     "text": [
      "saving:   /kaggle/working/frames_out2/20_6_out.jpg\n",
      "img 20_5.jpg\n",
      "masks\n"
     ]
    },
    {
     "name": "stderr",
     "output_type": "stream",
     "text": [
      "  3%|▎         | 10/340 [02:45<1:24:30, 15.36s/it]"
     ]
    },
    {
     "name": "stdout",
     "output_type": "stream",
     "text": [
      "saving:   /kaggle/working/frames_out2/20_5_out.jpg\n",
      "img 25_7.jpg\n",
      "masks\n"
     ]
    },
    {
     "name": "stderr",
     "output_type": "stream",
     "text": [
      "  3%|▎         | 11/340 [03:01<1:26:32, 15.78s/it]"
     ]
    },
    {
     "name": "stdout",
     "output_type": "stream",
     "text": [
      "saving:   /kaggle/working/frames_out2/25_7_out.jpg\n",
      "img 2_3.jpg\n",
      "masks\n"
     ]
    },
    {
     "name": "stderr",
     "output_type": "stream",
     "text": [
      "  4%|▎         | 12/340 [03:19<1:29:04, 16.29s/it]"
     ]
    },
    {
     "name": "stdout",
     "output_type": "stream",
     "text": [
      "saving:   /kaggle/working/frames_out2/2_3_out.jpg\n",
      "img 31_3.jpg\n",
      "masks\n"
     ]
    },
    {
     "name": "stderr",
     "output_type": "stream",
     "text": [
      "  4%|▍         | 13/340 [03:35<1:28:49, 16.30s/it]"
     ]
    },
    {
     "name": "stdout",
     "output_type": "stream",
     "text": [
      "saving:   /kaggle/working/frames_out2/31_3_out.jpg\n",
      "img 25_9.jpg\n",
      "masks\n"
     ]
    },
    {
     "name": "stderr",
     "output_type": "stream",
     "text": [
      "  4%|▍         | 14/340 [03:53<1:30:30, 16.66s/it]"
     ]
    },
    {
     "name": "stdout",
     "output_type": "stream",
     "text": [
      "saving:   /kaggle/working/frames_out2/25_9_out.jpg\n",
      "img 9_9.jpg\n",
      "masks\n"
     ]
    },
    {
     "name": "stderr",
     "output_type": "stream",
     "text": [
      "  4%|▍         | 15/340 [04:09<1:29:09, 16.46s/it]"
     ]
    },
    {
     "name": "stdout",
     "output_type": "stream",
     "text": [
      "saving:   /kaggle/working/frames_out2/9_9_out.jpg\n",
      "img 29_0.jpg\n",
      "masks\n"
     ]
    },
    {
     "name": "stderr",
     "output_type": "stream",
     "text": [
      "  5%|▍         | 16/340 [04:28<1:33:08, 17.25s/it]"
     ]
    },
    {
     "name": "stdout",
     "output_type": "stream",
     "text": [
      "saving:   /kaggle/working/frames_out2/29_0_out.jpg\n",
      "img 27_9.jpg\n",
      "masks\n"
     ]
    },
    {
     "name": "stderr",
     "output_type": "stream",
     "text": [
      "  5%|▌         | 17/340 [04:46<1:35:17, 17.70s/it]"
     ]
    },
    {
     "name": "stdout",
     "output_type": "stream",
     "text": [
      "saving:   /kaggle/working/frames_out2/27_9_out.jpg\n",
      "img 22_7.jpg\n",
      "masks\n"
     ]
    },
    {
     "name": "stderr",
     "output_type": "stream",
     "text": [
      "  5%|▌         | 18/340 [05:01<1:29:42, 16.72s/it]"
     ]
    },
    {
     "name": "stdout",
     "output_type": "stream",
     "text": [
      "saving:   /kaggle/working/frames_out2/22_7_out.jpg\n",
      "img 24_4.jpg\n",
      "masks\n"
     ]
    },
    {
     "name": "stderr",
     "output_type": "stream",
     "text": [
      "  6%|▌         | 19/340 [05:17<1:28:16, 16.50s/it]"
     ]
    },
    {
     "name": "stdout",
     "output_type": "stream",
     "text": [
      "saving:   /kaggle/working/frames_out2/24_4_out.jpg\n",
      "img 32_6.jpg\n",
      "masks\n"
     ]
    },
    {
     "name": "stderr",
     "output_type": "stream",
     "text": [
      "  6%|▌         | 20/340 [05:34<1:28:19, 16.56s/it]"
     ]
    },
    {
     "name": "stdout",
     "output_type": "stream",
     "text": [
      "saving:   /kaggle/working/frames_out2/32_6_out.jpg\n",
      "img 25_4.jpg\n",
      "masks\n"
     ]
    },
    {
     "name": "stderr",
     "output_type": "stream",
     "text": [
      "  6%|▌         | 21/340 [05:50<1:28:06, 16.57s/it]"
     ]
    },
    {
     "name": "stdout",
     "output_type": "stream",
     "text": [
      "saving:   /kaggle/working/frames_out2/25_4_out.jpg\n",
      "img 18_4.jpg\n",
      "masks\n"
     ]
    },
    {
     "name": "stderr",
     "output_type": "stream",
     "text": [
      "  6%|▋         | 22/340 [06:06<1:27:01, 16.42s/it]"
     ]
    },
    {
     "name": "stdout",
     "output_type": "stream",
     "text": [
      "saving:   /kaggle/working/frames_out2/18_4_out.jpg\n",
      "img 17_0.jpg\n",
      "masks\n"
     ]
    },
    {
     "name": "stderr",
     "output_type": "stream",
     "text": [
      "  7%|▋         | 23/340 [06:22<1:26:16, 16.33s/it]"
     ]
    },
    {
     "name": "stdout",
     "output_type": "stream",
     "text": [
      "saving:   /kaggle/working/frames_out2/17_0_out.jpg\n",
      "img 10_7.jpg\n",
      "masks\n"
     ]
    },
    {
     "name": "stderr",
     "output_type": "stream",
     "text": [
      "  7%|▋         | 24/340 [06:39<1:25:58, 16.32s/it]"
     ]
    },
    {
     "name": "stdout",
     "output_type": "stream",
     "text": [
      "saving:   /kaggle/working/frames_out2/10_7_out.jpg\n",
      "img 10_0.jpg\n",
      "masks\n"
     ]
    },
    {
     "name": "stderr",
     "output_type": "stream",
     "text": [
      "  7%|▋         | 25/340 [06:55<1:25:02, 16.20s/it]"
     ]
    },
    {
     "name": "stdout",
     "output_type": "stream",
     "text": [
      "saving:   /kaggle/working/frames_out2/10_0_out.jpg\n",
      "img 9_7.jpg\n",
      "masks\n"
     ]
    },
    {
     "name": "stderr",
     "output_type": "stream",
     "text": [
      "  8%|▊         | 26/340 [07:10<1:24:20, 16.12s/it]"
     ]
    },
    {
     "name": "stdout",
     "output_type": "stream",
     "text": [
      "saving:   /kaggle/working/frames_out2/9_7_out.jpg\n",
      "img 3_7.jpg\n",
      "masks\n"
     ]
    },
    {
     "name": "stderr",
     "output_type": "stream",
     "text": [
      "  8%|▊         | 27/340 [07:25<1:21:48, 15.68s/it]"
     ]
    },
    {
     "name": "stdout",
     "output_type": "stream",
     "text": [
      "saving:   /kaggle/working/frames_out2/3_7_out.jpg\n",
      "img 30_9.jpg\n",
      "masks\n"
     ]
    },
    {
     "name": "stderr",
     "output_type": "stream",
     "text": [
      "  8%|▊         | 28/340 [07:43<1:24:41, 16.29s/it]"
     ]
    },
    {
     "name": "stdout",
     "output_type": "stream",
     "text": [
      "saving:   /kaggle/working/frames_out2/30_9_out.jpg\n",
      "img 24_1.jpg\n",
      "masks\n"
     ]
    },
    {
     "name": "stderr",
     "output_type": "stream",
     "text": [
      "  9%|▊         | 29/340 [07:59<1:24:22, 16.28s/it]"
     ]
    },
    {
     "name": "stdout",
     "output_type": "stream",
     "text": [
      "saving:   /kaggle/working/frames_out2/24_1_out.jpg\n",
      "img 20_0.jpg\n",
      "masks\n"
     ]
    },
    {
     "name": "stderr",
     "output_type": "stream",
     "text": [
      "  9%|▉         | 30/340 [08:14<1:22:20, 15.94s/it]"
     ]
    },
    {
     "name": "stdout",
     "output_type": "stream",
     "text": [
      "saving:   /kaggle/working/frames_out2/20_0_out.jpg\n",
      "img 31_7.jpg\n",
      "masks\n"
     ]
    },
    {
     "name": "stderr",
     "output_type": "stream",
     "text": [
      "  9%|▉         | 31/340 [08:32<1:24:10, 16.34s/it]"
     ]
    },
    {
     "name": "stdout",
     "output_type": "stream",
     "text": [
      "saving:   /kaggle/working/frames_out2/31_7_out.jpg\n",
      "img 6_5.jpg\n",
      "masks\n"
     ]
    },
    {
     "name": "stderr",
     "output_type": "stream",
     "text": [
      "  9%|▉         | 32/340 [08:47<1:23:04, 16.18s/it]"
     ]
    },
    {
     "name": "stdout",
     "output_type": "stream",
     "text": [
      "saving:   /kaggle/working/frames_out2/6_5_out.jpg\n",
      "img 26_6.jpg\n",
      "masks\n"
     ]
    },
    {
     "name": "stderr",
     "output_type": "stream",
     "text": [
      " 10%|▉         | 33/340 [09:06<1:26:18, 16.87s/it]"
     ]
    },
    {
     "name": "stdout",
     "output_type": "stream",
     "text": [
      "saving:   /kaggle/working/frames_out2/26_6_out.jpg\n",
      "img 13_3.jpg\n",
      "masks\n"
     ]
    },
    {
     "name": "stderr",
     "output_type": "stream",
     "text": [
      " 10%|█         | 34/340 [09:22<1:24:29, 16.57s/it]"
     ]
    },
    {
     "name": "stdout",
     "output_type": "stream",
     "text": [
      "saving:   /kaggle/working/frames_out2/13_3_out.jpg\n",
      "img 28_7.jpg\n",
      "masks\n"
     ]
    },
    {
     "name": "stderr",
     "output_type": "stream",
     "text": [
      " 10%|█         | 35/340 [09:40<1:27:25, 17.20s/it]"
     ]
    },
    {
     "name": "stdout",
     "output_type": "stream",
     "text": [
      "saving:   /kaggle/working/frames_out2/28_7_out.jpg\n",
      "img 15_0.jpg\n",
      "masks\n"
     ]
    },
    {
     "name": "stderr",
     "output_type": "stream",
     "text": [
      " 11%|█         | 36/340 [09:56<1:24:22, 16.65s/it]"
     ]
    },
    {
     "name": "stdout",
     "output_type": "stream",
     "text": [
      "saving:   /kaggle/working/frames_out2/15_0_out.jpg\n",
      "img 21_0.jpg\n",
      "masks\n"
     ]
    },
    {
     "name": "stderr",
     "output_type": "stream",
     "text": [
      " 11%|█         | 37/340 [10:11<1:22:42, 16.38s/it]"
     ]
    },
    {
     "name": "stdout",
     "output_type": "stream",
     "text": [
      "saving:   /kaggle/working/frames_out2/21_0_out.jpg\n",
      "img 21_6.jpg\n",
      "masks\n"
     ]
    },
    {
     "name": "stderr",
     "output_type": "stream",
     "text": [
      " 11%|█         | 38/340 [10:25<1:18:46, 15.65s/it]"
     ]
    },
    {
     "name": "stdout",
     "output_type": "stream",
     "text": [
      "saving:   /kaggle/working/frames_out2/21_6_out.jpg\n",
      "img 33_4.jpg\n",
      "masks\n"
     ]
    },
    {
     "name": "stderr",
     "output_type": "stream",
     "text": [
      " 11%|█▏        | 39/340 [10:43<1:22:01, 16.35s/it]"
     ]
    },
    {
     "name": "stdout",
     "output_type": "stream",
     "text": [
      "saving:   /kaggle/working/frames_out2/33_4_out.jpg\n",
      "img 24_9.jpg\n",
      "masks\n"
     ]
    },
    {
     "name": "stderr",
     "output_type": "stream",
     "text": [
      " 12%|█▏        | 40/340 [11:00<1:21:37, 16.32s/it]"
     ]
    },
    {
     "name": "stdout",
     "output_type": "stream",
     "text": [
      "saving:   /kaggle/working/frames_out2/24_9_out.jpg\n",
      "img 7_3.jpg\n",
      "masks\n"
     ]
    },
    {
     "name": "stderr",
     "output_type": "stream",
     "text": [
      " 12%|█▏        | 41/340 [11:16<1:21:02, 16.26s/it]"
     ]
    },
    {
     "name": "stdout",
     "output_type": "stream",
     "text": [
      "saving:   /kaggle/working/frames_out2/7_3_out.jpg\n",
      "img 9_1.jpg\n",
      "masks\n"
     ]
    },
    {
     "name": "stderr",
     "output_type": "stream",
     "text": [
      " 12%|█▏        | 42/340 [11:32<1:20:25, 16.19s/it]"
     ]
    },
    {
     "name": "stdout",
     "output_type": "stream",
     "text": [
      "saving:   /kaggle/working/frames_out2/9_1_out.jpg\n",
      "img 4_9.jpg\n",
      "masks\n"
     ]
    },
    {
     "name": "stderr",
     "output_type": "stream",
     "text": [
      " 13%|█▎        | 43/340 [11:48<1:20:37, 16.29s/it]"
     ]
    },
    {
     "name": "stdout",
     "output_type": "stream",
     "text": [
      "saving:   /kaggle/working/frames_out2/4_9_out.jpg\n",
      "img 21_5.jpg\n",
      "masks\n"
     ]
    },
    {
     "name": "stderr",
     "output_type": "stream",
     "text": [
      " 13%|█▎        | 44/340 [12:03<1:17:26, 15.70s/it]"
     ]
    },
    {
     "name": "stdout",
     "output_type": "stream",
     "text": [
      "saving:   /kaggle/working/frames_out2/21_5_out.jpg\n",
      "img 3_6.jpg\n",
      "masks\n"
     ]
    },
    {
     "name": "stderr",
     "output_type": "stream",
     "text": [
      " 13%|█▎        | 45/340 [12:19<1:17:45, 15.81s/it]"
     ]
    },
    {
     "name": "stdout",
     "output_type": "stream",
     "text": [
      "saving:   /kaggle/working/frames_out2/3_6_out.jpg\n",
      "img 24_3.jpg\n",
      "masks\n"
     ]
    },
    {
     "name": "stderr",
     "output_type": "stream",
     "text": [
      " 14%|█▎        | 46/340 [12:35<1:17:54, 15.90s/it]"
     ]
    },
    {
     "name": "stdout",
     "output_type": "stream",
     "text": [
      "saving:   /kaggle/working/frames_out2/24_3_out.jpg\n",
      "img 29_6.jpg\n",
      "masks\n"
     ]
    },
    {
     "name": "stderr",
     "output_type": "stream",
     "text": [
      " 14%|█▍        | 47/340 [12:54<1:22:36, 16.92s/it]"
     ]
    },
    {
     "name": "stdout",
     "output_type": "stream",
     "text": [
      "saving:   /kaggle/working/frames_out2/29_6_out.jpg\n",
      "img 28_0.jpg\n",
      "masks\n"
     ]
    },
    {
     "name": "stderr",
     "output_type": "stream",
     "text": [
      " 14%|█▍        | 48/340 [13:12<1:24:14, 17.31s/it]"
     ]
    },
    {
     "name": "stdout",
     "output_type": "stream",
     "text": [
      "saving:   /kaggle/working/frames_out2/28_0_out.jpg\n",
      "img 30_5.jpg\n",
      "masks\n"
     ]
    },
    {
     "name": "stderr",
     "output_type": "stream",
     "text": [
      " 14%|█▍        | 49/340 [13:30<1:25:10, 17.56s/it]"
     ]
    },
    {
     "name": "stdout",
     "output_type": "stream",
     "text": [
      "saving:   /kaggle/working/frames_out2/30_5_out.jpg\n",
      "img 14_9.jpg\n",
      "masks\n"
     ]
    },
    {
     "name": "stderr",
     "output_type": "stream",
     "text": [
      " 15%|█▍        | 50/340 [13:46<1:21:48, 16.92s/it]"
     ]
    },
    {
     "name": "stdout",
     "output_type": "stream",
     "text": [
      "saving:   /kaggle/working/frames_out2/14_9_out.jpg\n",
      "img 23_1.jpg\n",
      "masks\n"
     ]
    },
    {
     "name": "stderr",
     "output_type": "stream",
     "text": [
      " 15%|█▌        | 51/340 [14:02<1:19:44, 16.56s/it]"
     ]
    },
    {
     "name": "stdout",
     "output_type": "stream",
     "text": [
      "saving:   /kaggle/working/frames_out2/23_1_out.jpg\n",
      "img 0_5.jpg\n",
      "masks\n"
     ]
    },
    {
     "name": "stderr",
     "output_type": "stream",
     "text": [
      " 15%|█▌        | 52/340 [14:19<1:20:11, 16.71s/it]"
     ]
    },
    {
     "name": "stdout",
     "output_type": "stream",
     "text": [
      "saving:   /kaggle/working/frames_out2/0_5_out.jpg\n",
      "img 15_5.jpg\n",
      "masks\n"
     ]
    },
    {
     "name": "stderr",
     "output_type": "stream",
     "text": [
      " 16%|█▌        | 53/340 [14:34<1:18:14, 16.36s/it]"
     ]
    },
    {
     "name": "stdout",
     "output_type": "stream",
     "text": [
      "saving:   /kaggle/working/frames_out2/15_5_out.jpg\n",
      "img 10_2.jpg\n",
      "masks\n"
     ]
    },
    {
     "name": "stderr",
     "output_type": "stream",
     "text": [
      " 16%|█▌        | 54/340 [14:50<1:17:27, 16.25s/it]"
     ]
    },
    {
     "name": "stdout",
     "output_type": "stream",
     "text": [
      "saving:   /kaggle/working/frames_out2/10_2_out.jpg\n",
      "img 14_8.jpg\n",
      "masks\n"
     ]
    },
    {
     "name": "stderr",
     "output_type": "stream",
     "text": [
      " 16%|█▌        | 55/340 [15:06<1:16:01, 16.01s/it]"
     ]
    },
    {
     "name": "stdout",
     "output_type": "stream",
     "text": [
      "saving:   /kaggle/working/frames_out2/14_8_out.jpg\n",
      "img 20_1.jpg\n",
      "masks\n"
     ]
    },
    {
     "name": "stderr",
     "output_type": "stream",
     "text": [
      " 16%|█▋        | 56/340 [15:20<1:14:05, 15.65s/it]"
     ]
    },
    {
     "name": "stdout",
     "output_type": "stream",
     "text": [
      "saving:   /kaggle/working/frames_out2/20_1_out.jpg\n",
      "img 11_8.jpg\n",
      "masks\n"
     ]
    },
    {
     "name": "stderr",
     "output_type": "stream",
     "text": [
      " 17%|█▋        | 57/340 [15:36<1:14:01, 15.70s/it]"
     ]
    },
    {
     "name": "stdout",
     "output_type": "stream",
     "text": [
      "saving:   /kaggle/working/frames_out2/11_8_out.jpg\n",
      "img 23_0.jpg\n",
      "masks\n"
     ]
    },
    {
     "name": "stderr",
     "output_type": "stream",
     "text": [
      " 17%|█▋        | 58/340 [15:52<1:13:29, 15.64s/it]"
     ]
    },
    {
     "name": "stdout",
     "output_type": "stream",
     "text": [
      "saving:   /kaggle/working/frames_out2/23_0_out.jpg\n",
      "img 5_4.jpg\n",
      "masks\n"
     ]
    },
    {
     "name": "stderr",
     "output_type": "stream",
     "text": [
      " 17%|█▋        | 59/340 [16:08<1:13:34, 15.71s/it]"
     ]
    },
    {
     "name": "stdout",
     "output_type": "stream",
     "text": [
      "saving:   /kaggle/working/frames_out2/5_4_out.jpg\n",
      "img 10_4.jpg\n",
      "masks\n"
     ]
    },
    {
     "name": "stderr",
     "output_type": "stream",
     "text": [
      " 18%|█▊        | 60/340 [16:24<1:13:55, 15.84s/it]"
     ]
    },
    {
     "name": "stdout",
     "output_type": "stream",
     "text": [
      "saving:   /kaggle/working/frames_out2/10_4_out.jpg\n",
      "img 23_7.jpg\n",
      "masks\n"
     ]
    },
    {
     "name": "stderr",
     "output_type": "stream",
     "text": [
      " 18%|█▊        | 61/340 [16:40<1:14:03, 15.93s/it]"
     ]
    },
    {
     "name": "stdout",
     "output_type": "stream",
     "text": [
      "saving:   /kaggle/working/frames_out2/23_7_out.jpg\n",
      "img 8_2.jpg\n",
      "masks\n"
     ]
    },
    {
     "name": "stderr",
     "output_type": "stream",
     "text": [
      " 18%|█▊        | 62/340 [16:56<1:14:03, 15.98s/it]"
     ]
    },
    {
     "name": "stdout",
     "output_type": "stream",
     "text": [
      "saving:   /kaggle/working/frames_out2/8_2_out.jpg\n",
      "img 1_0.jpg\n",
      "masks\n"
     ]
    },
    {
     "name": "stderr",
     "output_type": "stream",
     "text": [
      " 19%|█▊        | 63/340 [17:13<1:15:45, 16.41s/it]"
     ]
    },
    {
     "name": "stdout",
     "output_type": "stream",
     "text": [
      "saving:   /kaggle/working/frames_out2/1_0_out.jpg\n",
      "img 2_8.jpg\n",
      "masks\n"
     ]
    },
    {
     "name": "stderr",
     "output_type": "stream",
     "text": [
      " 19%|█▉        | 64/340 [17:29<1:14:58, 16.30s/it]"
     ]
    },
    {
     "name": "stdout",
     "output_type": "stream",
     "text": [
      "saving:   /kaggle/working/frames_out2/2_8_out.jpg\n",
      "img 18_5.jpg\n",
      "masks\n"
     ]
    },
    {
     "name": "stderr",
     "output_type": "stream",
     "text": [
      " 19%|█▉        | 65/340 [17:46<1:14:35, 16.28s/it]"
     ]
    },
    {
     "name": "stdout",
     "output_type": "stream",
     "text": [
      "saving:   /kaggle/working/frames_out2/18_5_out.jpg\n",
      "img 32_5.jpg\n",
      "masks\n"
     ]
    },
    {
     "name": "stderr",
     "output_type": "stream",
     "text": [
      " 19%|█▉        | 66/340 [18:03<1:15:38, 16.56s/it]"
     ]
    },
    {
     "name": "stdout",
     "output_type": "stream",
     "text": [
      "saving:   /kaggle/working/frames_out2/32_5_out.jpg\n",
      "img 17_2.jpg\n",
      "masks\n"
     ]
    },
    {
     "name": "stderr",
     "output_type": "stream",
     "text": [
      " 20%|█▉        | 67/340 [18:19<1:14:55, 16.47s/it]"
     ]
    },
    {
     "name": "stdout",
     "output_type": "stream",
     "text": [
      "saving:   /kaggle/working/frames_out2/17_2_out.jpg\n",
      "img 13_0.jpg\n",
      "masks\n"
     ]
    },
    {
     "name": "stderr",
     "output_type": "stream",
     "text": [
      " 20%|██        | 68/340 [18:35<1:13:41, 16.26s/it]"
     ]
    },
    {
     "name": "stdout",
     "output_type": "stream",
     "text": [
      "saving:   /kaggle/working/frames_out2/13_0_out.jpg\n",
      "img 14_3.jpg\n",
      "masks\n"
     ]
    },
    {
     "name": "stderr",
     "output_type": "stream",
     "text": [
      " 20%|██        | 69/340 [18:51<1:12:49, 16.12s/it]"
     ]
    },
    {
     "name": "stdout",
     "output_type": "stream",
     "text": [
      "saving:   /kaggle/working/frames_out2/14_3_out.jpg\n",
      "img 15_8.jpg\n",
      "masks\n"
     ]
    },
    {
     "name": "stderr",
     "output_type": "stream",
     "text": [
      " 21%|██        | 70/340 [19:07<1:12:27, 16.10s/it]"
     ]
    },
    {
     "name": "stdout",
     "output_type": "stream",
     "text": [
      "saving:   /kaggle/working/frames_out2/15_8_out.jpg\n",
      "img 10_1.jpg\n",
      "masks\n"
     ]
    },
    {
     "name": "stderr",
     "output_type": "stream",
     "text": [
      " 21%|██        | 71/340 [19:23<1:11:48, 16.02s/it]"
     ]
    },
    {
     "name": "stdout",
     "output_type": "stream",
     "text": [
      "saving:   /kaggle/working/frames_out2/10_1_out.jpg\n",
      "img 1_4.jpg\n",
      "masks\n"
     ]
    },
    {
     "name": "stderr",
     "output_type": "stream",
     "text": [
      " 21%|██        | 72/340 [19:41<1:14:08, 16.60s/it]"
     ]
    },
    {
     "name": "stdout",
     "output_type": "stream",
     "text": [
      "saving:   /kaggle/working/frames_out2/1_4_out.jpg\n",
      "img 5_8.jpg\n",
      "masks\n"
     ]
    },
    {
     "name": "stderr",
     "output_type": "stream",
     "text": [
      " 21%|██▏       | 73/340 [19:56<1:12:44, 16.35s/it]"
     ]
    },
    {
     "name": "stdout",
     "output_type": "stream",
     "text": [
      "saving:   /kaggle/working/frames_out2/5_8_out.jpg\n",
      "img 13_5.jpg\n",
      "masks\n"
     ]
    },
    {
     "name": "stderr",
     "output_type": "stream",
     "text": [
      " 22%|██▏       | 74/340 [20:12<1:11:54, 16.22s/it]"
     ]
    },
    {
     "name": "stdout",
     "output_type": "stream",
     "text": [
      "saving:   /kaggle/working/frames_out2/13_5_out.jpg\n",
      "img 26_9.jpg\n",
      "masks\n"
     ]
    },
    {
     "name": "stderr",
     "output_type": "stream",
     "text": [
      " 22%|██▏       | 75/340 [20:30<1:14:10, 16.79s/it]"
     ]
    },
    {
     "name": "stdout",
     "output_type": "stream",
     "text": [
      "saving:   /kaggle/working/frames_out2/26_9_out.jpg\n",
      "img 18_6.jpg\n",
      "masks\n"
     ]
    },
    {
     "name": "stderr",
     "output_type": "stream",
     "text": [
      " 22%|██▏       | 76/340 [20:47<1:13:35, 16.73s/it]"
     ]
    },
    {
     "name": "stdout",
     "output_type": "stream",
     "text": [
      "saving:   /kaggle/working/frames_out2/18_6_out.jpg\n",
      "img 20_8.jpg\n",
      "masks\n"
     ]
    },
    {
     "name": "stderr",
     "output_type": "stream",
     "text": [
      " 23%|██▎       | 77/340 [21:02<1:10:42, 16.13s/it]"
     ]
    },
    {
     "name": "stdout",
     "output_type": "stream",
     "text": [
      "saving:   /kaggle/working/frames_out2/20_8_out.jpg\n",
      "img 32_4.jpg\n",
      "masks\n"
     ]
    },
    {
     "name": "stderr",
     "output_type": "stream",
     "text": [
      " 23%|██▎       | 78/340 [21:19<1:12:10, 16.53s/it]"
     ]
    },
    {
     "name": "stdout",
     "output_type": "stream",
     "text": [
      "saving:   /kaggle/working/frames_out2/32_4_out.jpg\n",
      "img 16_8.jpg\n",
      "masks\n"
     ]
    },
    {
     "name": "stderr",
     "output_type": "stream",
     "text": [
      " 23%|██▎       | 79/340 [21:36<1:11:41, 16.48s/it]"
     ]
    },
    {
     "name": "stdout",
     "output_type": "stream",
     "text": [
      "saving:   /kaggle/working/frames_out2/16_8_out.jpg\n",
      "img 29_8.jpg\n",
      "masks\n"
     ]
    },
    {
     "name": "stderr",
     "output_type": "stream",
     "text": [
      " 24%|██▎       | 80/340 [21:55<1:15:02, 17.32s/it]"
     ]
    },
    {
     "name": "stdout",
     "output_type": "stream",
     "text": [
      "saving:   /kaggle/working/frames_out2/29_8_out.jpg\n",
      "img 27_2.jpg\n",
      "masks\n"
     ]
    },
    {
     "name": "stderr",
     "output_type": "stream",
     "text": [
      " 24%|██▍       | 81/340 [22:13<1:15:21, 17.46s/it]"
     ]
    },
    {
     "name": "stdout",
     "output_type": "stream",
     "text": [
      "saving:   /kaggle/working/frames_out2/27_2_out.jpg\n",
      "img 20_9.jpg\n",
      "masks\n"
     ]
    },
    {
     "name": "stderr",
     "output_type": "stream",
     "text": [
      " 24%|██▍       | 82/340 [22:27<1:11:23, 16.60s/it]"
     ]
    },
    {
     "name": "stdout",
     "output_type": "stream",
     "text": [
      "saving:   /kaggle/working/frames_out2/20_9_out.jpg\n",
      "img 2_6.jpg\n",
      "masks\n"
     ]
    },
    {
     "name": "stderr",
     "output_type": "stream",
     "text": [
      " 24%|██▍       | 83/340 [22:44<1:10:46, 16.52s/it]"
     ]
    },
    {
     "name": "stdout",
     "output_type": "stream",
     "text": [
      "saving:   /kaggle/working/frames_out2/2_6_out.jpg\n",
      "img 0_1.jpg\n",
      "masks\n"
     ]
    },
    {
     "name": "stderr",
     "output_type": "stream",
     "text": [
      " 25%|██▍       | 84/340 [23:00<1:10:56, 16.63s/it]"
     ]
    },
    {
     "name": "stdout",
     "output_type": "stream",
     "text": [
      "saving:   /kaggle/working/frames_out2/0_1_out.jpg\n",
      "img 27_3.jpg\n",
      "masks\n"
     ]
    },
    {
     "name": "stderr",
     "output_type": "stream",
     "text": [
      " 25%|██▌       | 85/340 [23:18<1:11:38, 16.86s/it]"
     ]
    },
    {
     "name": "stdout",
     "output_type": "stream",
     "text": [
      "saving:   /kaggle/working/frames_out2/27_3_out.jpg\n",
      "img 24_2.jpg\n",
      "masks\n"
     ]
    },
    {
     "name": "stderr",
     "output_type": "stream",
     "text": [
      " 25%|██▌       | 86/340 [23:34<1:10:21, 16.62s/it]"
     ]
    },
    {
     "name": "stdout",
     "output_type": "stream",
     "text": [
      "saving:   /kaggle/working/frames_out2/24_2_out.jpg\n",
      "img 14_0.jpg\n",
      "masks\n"
     ]
    },
    {
     "name": "stderr",
     "output_type": "stream",
     "text": [
      " 26%|██▌       | 87/340 [23:50<1:08:54, 16.34s/it]"
     ]
    },
    {
     "name": "stdout",
     "output_type": "stream",
     "text": [
      "saving:   /kaggle/working/frames_out2/14_0_out.jpg\n",
      "img 33_5.jpg\n",
      "masks\n"
     ]
    },
    {
     "name": "stderr",
     "output_type": "stream",
     "text": [
      " 26%|██▌       | 88/340 [24:07<1:09:53, 16.64s/it]"
     ]
    },
    {
     "name": "stdout",
     "output_type": "stream",
     "text": [
      "saving:   /kaggle/working/frames_out2/33_5_out.jpg\n",
      "img 15_3.jpg\n",
      "masks\n"
     ]
    },
    {
     "name": "stderr",
     "output_type": "stream",
     "text": [
      " 26%|██▌       | 89/340 [24:22<1:08:10, 16.30s/it]"
     ]
    },
    {
     "name": "stdout",
     "output_type": "stream",
     "text": [
      "saving:   /kaggle/working/frames_out2/15_3_out.jpg\n",
      "img 7_7.jpg\n",
      "masks\n"
     ]
    },
    {
     "name": "stderr",
     "output_type": "stream",
     "text": [
      " 26%|██▋       | 90/340 [24:38<1:07:37, 16.23s/it]"
     ]
    },
    {
     "name": "stdout",
     "output_type": "stream",
     "text": [
      "saving:   /kaggle/working/frames_out2/7_7_out.jpg\n",
      "img 3_0.jpg\n",
      "masks\n"
     ]
    },
    {
     "name": "stderr",
     "output_type": "stream",
     "text": [
      " 27%|██▋       | 91/340 [24:55<1:07:18, 16.22s/it]"
     ]
    },
    {
     "name": "stdout",
     "output_type": "stream",
     "text": [
      "saving:   /kaggle/working/frames_out2/3_0_out.jpg\n",
      "img 21_3.jpg\n",
      "masks\n"
     ]
    },
    {
     "name": "stderr",
     "output_type": "stream",
     "text": [
      " 27%|██▋       | 92/340 [25:10<1:05:24, 15.83s/it]"
     ]
    },
    {
     "name": "stdout",
     "output_type": "stream",
     "text": [
      "saving:   /kaggle/working/frames_out2/21_3_out.jpg\n",
      "img 15_1.jpg\n",
      "masks\n"
     ]
    },
    {
     "name": "stderr",
     "output_type": "stream",
     "text": [
      " 27%|██▋       | 93/340 [25:25<1:05:16, 15.86s/it]"
     ]
    },
    {
     "name": "stdout",
     "output_type": "stream",
     "text": [
      "saving:   /kaggle/working/frames_out2/15_1_out.jpg\n",
      "img 24_6.jpg\n",
      "masks\n"
     ]
    },
    {
     "name": "stderr",
     "output_type": "stream",
     "text": [
      " 28%|██▊       | 94/340 [25:42<1:05:24, 15.95s/it]"
     ]
    },
    {
     "name": "stdout",
     "output_type": "stream",
     "text": [
      "saving:   /kaggle/working/frames_out2/24_6_out.jpg\n",
      "img 11_9.jpg\n",
      "masks\n"
     ]
    },
    {
     "name": "stderr",
     "output_type": "stream",
     "text": [
      " 28%|██▊       | 95/340 [25:58<1:05:15, 15.98s/it]"
     ]
    },
    {
     "name": "stdout",
     "output_type": "stream",
     "text": [
      "saving:   /kaggle/working/frames_out2/11_9_out.jpg\n",
      "img 23_8.jpg\n",
      "masks\n"
     ]
    },
    {
     "name": "stderr",
     "output_type": "stream",
     "text": [
      " 28%|██▊       | 96/340 [26:14<1:04:58, 15.98s/it]"
     ]
    },
    {
     "name": "stdout",
     "output_type": "stream",
     "text": [
      "saving:   /kaggle/working/frames_out2/23_8_out.jpg\n",
      "img 21_1.jpg\n",
      "masks\n"
     ]
    },
    {
     "name": "stderr",
     "output_type": "stream",
     "text": [
      " 29%|██▊       | 97/340 [26:29<1:03:27, 15.67s/it]"
     ]
    },
    {
     "name": "stdout",
     "output_type": "stream",
     "text": [
      "saving:   /kaggle/working/frames_out2/21_1_out.jpg\n",
      "img 28_4.jpg\n",
      "masks\n"
     ]
    },
    {
     "name": "stderr",
     "output_type": "stream",
     "text": [
      " 29%|██▉       | 98/340 [26:47<1:05:58, 16.36s/it]"
     ]
    },
    {
     "name": "stdout",
     "output_type": "stream",
     "text": [
      "saving:   /kaggle/working/frames_out2/28_4_out.jpg\n",
      "img 14_4.jpg\n",
      "masks\n"
     ]
    },
    {
     "name": "stderr",
     "output_type": "stream",
     "text": [
      " 29%|██▉       | 99/340 [27:03<1:05:18, 16.26s/it]"
     ]
    },
    {
     "name": "stdout",
     "output_type": "stream",
     "text": [
      "saving:   /kaggle/working/frames_out2/14_4_out.jpg\n",
      "img 17_3.jpg\n",
      "masks\n"
     ]
    },
    {
     "name": "stderr",
     "output_type": "stream",
     "text": [
      " 29%|██▉       | 100/340 [27:19<1:05:11, 16.30s/it]"
     ]
    },
    {
     "name": "stdout",
     "output_type": "stream",
     "text": [
      "saving:   /kaggle/working/frames_out2/17_3_out.jpg\n",
      "img 27_1.jpg\n",
      "masks\n"
     ]
    },
    {
     "name": "stderr",
     "output_type": "stream",
     "text": [
      " 30%|██▉       | 101/340 [27:37<1:06:38, 16.73s/it]"
     ]
    },
    {
     "name": "stdout",
     "output_type": "stream",
     "text": [
      "saving:   /kaggle/working/frames_out2/27_1_out.jpg\n",
      "img 8_0.jpg\n",
      "masks\n"
     ]
    },
    {
     "name": "stderr",
     "output_type": "stream",
     "text": [
      " 30%|███       | 102/340 [27:53<1:05:24, 16.49s/it]"
     ]
    },
    {
     "name": "stdout",
     "output_type": "stream",
     "text": [
      "saving:   /kaggle/working/frames_out2/8_0_out.jpg\n",
      "img 32_7.jpg\n",
      "masks\n"
     ]
    },
    {
     "name": "stderr",
     "output_type": "stream",
     "text": [
      " 30%|███       | 103/340 [28:10<1:06:12, 16.76s/it]"
     ]
    },
    {
     "name": "stdout",
     "output_type": "stream",
     "text": [
      "saving:   /kaggle/working/frames_out2/32_7_out.jpg\n",
      "img 12_5.jpg\n",
      "masks\n"
     ]
    },
    {
     "name": "stderr",
     "output_type": "stream",
     "text": [
      " 31%|███       | 104/340 [28:26<1:05:04, 16.55s/it]"
     ]
    },
    {
     "name": "stdout",
     "output_type": "stream",
     "text": [
      "saving:   /kaggle/working/frames_out2/12_5_out.jpg\n",
      "img 18_3.jpg\n",
      "masks\n"
     ]
    },
    {
     "name": "stderr",
     "output_type": "stream",
     "text": [
      " 31%|███       | 105/340 [28:43<1:04:46, 16.54s/it]"
     ]
    },
    {
     "name": "stdout",
     "output_type": "stream",
     "text": [
      "saving:   /kaggle/working/frames_out2/18_3_out.jpg\n",
      "img 28_1.jpg\n",
      "masks\n"
     ]
    },
    {
     "name": "stderr",
     "output_type": "stream",
     "text": [
      " 31%|███       | 106/340 [29:01<1:06:05, 16.94s/it]"
     ]
    },
    {
     "name": "stdout",
     "output_type": "stream",
     "text": [
      "saving:   /kaggle/working/frames_out2/28_1_out.jpg\n",
      "img 29_7.jpg\n",
      "masks\n"
     ]
    },
    {
     "name": "stderr",
     "output_type": "stream",
     "text": [
      " 31%|███▏      | 107/340 [29:19<1:07:45, 17.45s/it]"
     ]
    },
    {
     "name": "stdout",
     "output_type": "stream",
     "text": [
      "saving:   /kaggle/working/frames_out2/29_7_out.jpg\n",
      "img 2_9.jpg\n",
      "masks\n"
     ]
    },
    {
     "name": "stderr",
     "output_type": "stream",
     "text": [
      " 32%|███▏      | 108/340 [29:36<1:06:41, 17.25s/it]"
     ]
    },
    {
     "name": "stdout",
     "output_type": "stream",
     "text": [
      "saving:   /kaggle/working/frames_out2/2_9_out.jpg\n",
      "img 6_1.jpg\n",
      "masks\n"
     ]
    },
    {
     "name": "stderr",
     "output_type": "stream",
     "text": [
      " 32%|███▏      | 109/340 [29:52<1:05:02, 16.89s/it]"
     ]
    },
    {
     "name": "stdout",
     "output_type": "stream",
     "text": [
      "saving:   /kaggle/working/frames_out2/6_1_out.jpg\n",
      "img 5_1.jpg\n",
      "masks\n"
     ]
    },
    {
     "name": "stderr",
     "output_type": "stream",
     "text": [
      " 32%|███▏      | 110/340 [30:08<1:04:18, 16.77s/it]"
     ]
    },
    {
     "name": "stdout",
     "output_type": "stream",
     "text": [
      "saving:   /kaggle/working/frames_out2/5_1_out.jpg\n",
      "img 19_8.jpg\n",
      "masks\n"
     ]
    },
    {
     "name": "stderr",
     "output_type": "stream",
     "text": [
      " 33%|███▎      | 111/340 [30:23<1:01:15, 16.05s/it]"
     ]
    },
    {
     "name": "stdout",
     "output_type": "stream",
     "text": [
      "saving:   /kaggle/working/frames_out2/19_8_out.jpg\n",
      "img 27_0.jpg\n",
      "masks\n"
     ]
    },
    {
     "name": "stderr",
     "output_type": "stream",
     "text": [
      " 33%|███▎      | 112/340 [30:41<1:03:17, 16.66s/it]"
     ]
    },
    {
     "name": "stdout",
     "output_type": "stream",
     "text": [
      "saving:   /kaggle/working/frames_out2/27_0_out.jpg\n",
      "img 32_0.jpg\n",
      "masks\n"
     ]
    },
    {
     "name": "stderr",
     "output_type": "stream",
     "text": [
      " 33%|███▎      | 113/340 [30:58<1:03:31, 16.79s/it]"
     ]
    },
    {
     "name": "stdout",
     "output_type": "stream",
     "text": [
      "saving:   /kaggle/working/frames_out2/32_0_out.jpg\n",
      "img 29_3.jpg\n",
      "masks\n"
     ]
    },
    {
     "name": "stderr",
     "output_type": "stream",
     "text": [
      " 34%|███▎      | 114/340 [31:17<1:05:37, 17.42s/it]"
     ]
    },
    {
     "name": "stdout",
     "output_type": "stream",
     "text": [
      "saving:   /kaggle/working/frames_out2/29_3_out.jpg\n",
      "img 24_7.jpg\n",
      "masks\n"
     ]
    },
    {
     "name": "stderr",
     "output_type": "stream",
     "text": [
      " 34%|███▍      | 115/340 [31:33<1:03:41, 16.99s/it]"
     ]
    },
    {
     "name": "stdout",
     "output_type": "stream",
     "text": [
      "saving:   /kaggle/working/frames_out2/24_7_out.jpg\n",
      "img 28_2.jpg\n",
      "masks\n"
     ]
    },
    {
     "name": "stderr",
     "output_type": "stream",
     "text": [
      " 34%|███▍      | 116/340 [31:51<1:04:40, 17.32s/it]"
     ]
    },
    {
     "name": "stdout",
     "output_type": "stream",
     "text": [
      "saving:   /kaggle/working/frames_out2/28_2_out.jpg\n",
      "img 24_5.jpg\n",
      "masks\n"
     ]
    },
    {
     "name": "stderr",
     "output_type": "stream",
     "text": [
      " 34%|███▍      | 117/340 [32:07<1:02:50, 16.91s/it]"
     ]
    },
    {
     "name": "stdout",
     "output_type": "stream",
     "text": [
      "saving:   /kaggle/working/frames_out2/24_5_out.jpg\n",
      "img 3_8.jpg\n",
      "masks\n"
     ]
    },
    {
     "name": "stderr",
     "output_type": "stream",
     "text": [
      " 35%|███▍      | 118/340 [32:23<1:01:37, 16.66s/it]"
     ]
    },
    {
     "name": "stdout",
     "output_type": "stream",
     "text": [
      "saving:   /kaggle/working/frames_out2/3_8_out.jpg\n",
      "img 25_1.jpg\n",
      "masks\n"
     ]
    },
    {
     "name": "stderr",
     "output_type": "stream",
     "text": [
      " 35%|███▌      | 119/340 [32:40<1:01:22, 16.66s/it]"
     ]
    },
    {
     "name": "stdout",
     "output_type": "stream",
     "text": [
      "saving:   /kaggle/working/frames_out2/25_1_out.jpg\n",
      "img 31_1.jpg\n",
      "masks\n"
     ]
    },
    {
     "name": "stderr",
     "output_type": "stream",
     "text": [
      " 35%|███▌      | 120/340 [32:58<1:03:03, 17.20s/it]"
     ]
    },
    {
     "name": "stdout",
     "output_type": "stream",
     "text": [
      "saving:   /kaggle/working/frames_out2/31_1_out.jpg\n",
      "img 7_9.jpg\n",
      "masks\n"
     ]
    },
    {
     "name": "stderr",
     "output_type": "stream",
     "text": [
      " 36%|███▌      | 121/340 [33:14<1:01:29, 16.85s/it]"
     ]
    },
    {
     "name": "stdout",
     "output_type": "stream",
     "text": [
      "saving:   /kaggle/working/frames_out2/7_9_out.jpg\n",
      "img 3_1.jpg\n",
      "masks\n"
     ]
    },
    {
     "name": "stderr",
     "output_type": "stream",
     "text": [
      " 36%|███▌      | 122/340 [33:31<1:00:59, 16.79s/it]"
     ]
    },
    {
     "name": "stdout",
     "output_type": "stream",
     "text": [
      "saving:   /kaggle/working/frames_out2/3_1_out.jpg\n",
      "img 15_6.jpg\n",
      "masks\n"
     ]
    },
    {
     "name": "stderr",
     "output_type": "stream",
     "text": [
      " 36%|███▌      | 123/340 [33:46<59:30, 16.46s/it]  "
     ]
    },
    {
     "name": "stdout",
     "output_type": "stream",
     "text": [
      "saving:   /kaggle/working/frames_out2/15_6_out.jpg\n",
      "img 16_6.jpg\n",
      "masks\n"
     ]
    },
    {
     "name": "stderr",
     "output_type": "stream",
     "text": [
      " 36%|███▋      | 124/340 [34:03<59:05, 16.41s/it]"
     ]
    },
    {
     "name": "stdout",
     "output_type": "stream",
     "text": [
      "saving:   /kaggle/working/frames_out2/16_6_out.jpg\n",
      "img 33_3.jpg\n",
      "masks\n"
     ]
    },
    {
     "name": "stderr",
     "output_type": "stream",
     "text": [
      " 37%|███▋      | 125/340 [34:20<59:23, 16.58s/it]"
     ]
    },
    {
     "name": "stdout",
     "output_type": "stream",
     "text": [
      "saving:   /kaggle/working/frames_out2/33_3_out.jpg\n",
      "img 20_3.jpg\n",
      "masks\n"
     ]
    },
    {
     "name": "stderr",
     "output_type": "stream",
     "text": [
      " 37%|███▋      | 126/340 [34:34<56:39, 15.88s/it]"
     ]
    },
    {
     "name": "stdout",
     "output_type": "stream",
     "text": [
      "saving:   /kaggle/working/frames_out2/20_3_out.jpg\n",
      "img 3_5.jpg\n",
      "masks\n"
     ]
    },
    {
     "name": "stderr",
     "output_type": "stream",
     "text": [
      " 37%|███▋      | 127/340 [34:50<56:18, 15.86s/it]"
     ]
    },
    {
     "name": "stdout",
     "output_type": "stream",
     "text": [
      "saving:   /kaggle/working/frames_out2/3_5_out.jpg\n",
      "img 6_4.jpg\n",
      "masks\n"
     ]
    },
    {
     "name": "stderr",
     "output_type": "stream",
     "text": [
      " 38%|███▊      | 128/340 [35:06<56:30, 15.99s/it]"
     ]
    },
    {
     "name": "stdout",
     "output_type": "stream",
     "text": [
      "saving:   /kaggle/working/frames_out2/6_4_out.jpg\n",
      "img 12_0.jpg\n",
      "masks\n"
     ]
    },
    {
     "name": "stderr",
     "output_type": "stream",
     "text": [
      " 38%|███▊      | 129/340 [35:22<56:00, 15.93s/it]"
     ]
    },
    {
     "name": "stdout",
     "output_type": "stream",
     "text": [
      "saving:   /kaggle/working/frames_out2/12_0_out.jpg\n",
      "img 0_7.jpg\n",
      "masks\n"
     ]
    },
    {
     "name": "stderr",
     "output_type": "stream",
     "text": [
      " 38%|███▊      | 130/340 [35:40<57:49, 16.52s/it]"
     ]
    },
    {
     "name": "stdout",
     "output_type": "stream",
     "text": [
      "saving:   /kaggle/working/frames_out2/0_7_out.jpg\n",
      "img 17_8.jpg\n",
      "masks\n"
     ]
    },
    {
     "name": "stderr",
     "output_type": "stream",
     "text": [
      " 39%|███▊      | 131/340 [35:56<57:41, 16.56s/it]"
     ]
    },
    {
     "name": "stdout",
     "output_type": "stream",
     "text": [
      "saving:   /kaggle/working/frames_out2/17_8_out.jpg\n",
      "img 0_9.jpg\n",
      "masks\n"
     ]
    },
    {
     "name": "stderr",
     "output_type": "stream",
     "text": [
      " 39%|███▉      | 132/340 [36:14<58:14, 16.80s/it]"
     ]
    },
    {
     "name": "stdout",
     "output_type": "stream",
     "text": [
      "saving:   /kaggle/working/frames_out2/0_9_out.jpg\n",
      "img 28_3.jpg\n",
      "masks\n"
     ]
    },
    {
     "name": "stderr",
     "output_type": "stream",
     "text": [
      " 39%|███▉      | 133/340 [36:32<59:16, 17.18s/it]"
     ]
    },
    {
     "name": "stdout",
     "output_type": "stream",
     "text": [
      "saving:   /kaggle/working/frames_out2/28_3_out.jpg\n",
      "img 12_4.jpg\n",
      "masks\n"
     ]
    },
    {
     "name": "stderr",
     "output_type": "stream",
     "text": [
      " 39%|███▉      | 134/340 [36:48<58:04, 16.91s/it]"
     ]
    },
    {
     "name": "stdout",
     "output_type": "stream",
     "text": [
      "saving:   /kaggle/working/frames_out2/12_4_out.jpg\n",
      "img 4_0.jpg\n",
      "masks\n"
     ]
    },
    {
     "name": "stderr",
     "output_type": "stream",
     "text": [
      " 40%|███▉      | 135/340 [37:04<56:10, 16.44s/it]"
     ]
    },
    {
     "name": "stdout",
     "output_type": "stream",
     "text": [
      "saving:   /kaggle/working/frames_out2/4_0_out.jpg\n",
      "img 26_2.jpg\n",
      "masks\n"
     ]
    },
    {
     "name": "stderr",
     "output_type": "stream",
     "text": [
      " 40%|████      | 136/340 [37:21<57:22, 16.87s/it]"
     ]
    },
    {
     "name": "stdout",
     "output_type": "stream",
     "text": [
      "saving:   /kaggle/working/frames_out2/26_2_out.jpg\n",
      "img 32_8.jpg\n",
      "masks\n"
     ]
    },
    {
     "name": "stderr",
     "output_type": "stream",
     "text": [
      " 40%|████      | 137/340 [37:39<57:42, 17.06s/it]"
     ]
    },
    {
     "name": "stdout",
     "output_type": "stream",
     "text": [
      "saving:   /kaggle/working/frames_out2/32_8_out.jpg\n",
      "img 13_7.jpg\n",
      "masks\n"
     ]
    },
    {
     "name": "stderr",
     "output_type": "stream",
     "text": [
      " 41%|████      | 138/340 [37:55<56:05, 16.66s/it]"
     ]
    },
    {
     "name": "stdout",
     "output_type": "stream",
     "text": [
      "saving:   /kaggle/working/frames_out2/13_7_out.jpg\n",
      "img 1_6.jpg\n",
      "masks\n"
     ]
    },
    {
     "name": "stderr",
     "output_type": "stream",
     "text": [
      " 41%|████      | 139/340 [38:12<56:47, 16.95s/it]"
     ]
    },
    {
     "name": "stdout",
     "output_type": "stream",
     "text": [
      "saving:   /kaggle/working/frames_out2/1_6_out.jpg\n",
      "img 6_6.jpg\n",
      "masks\n"
     ]
    },
    {
     "name": "stderr",
     "output_type": "stream",
     "text": [
      " 41%|████      | 140/340 [38:28<55:19, 16.60s/it]"
     ]
    },
    {
     "name": "stdout",
     "output_type": "stream",
     "text": [
      "saving:   /kaggle/working/frames_out2/6_6_out.jpg\n",
      "img 27_5.jpg\n",
      "masks\n"
     ]
    },
    {
     "name": "stderr",
     "output_type": "stream",
     "text": [
      " 41%|████▏     | 141/340 [38:47<56:59, 17.18s/it]"
     ]
    },
    {
     "name": "stdout",
     "output_type": "stream",
     "text": [
      "saving:   /kaggle/working/frames_out2/27_5_out.jpg\n",
      "img 21_7.jpg\n",
      "masks\n"
     ]
    },
    {
     "name": "stderr",
     "output_type": "stream",
     "text": [
      " 42%|████▏     | 142/340 [39:01<53:42, 16.28s/it]"
     ]
    },
    {
     "name": "stdout",
     "output_type": "stream",
     "text": [
      "saving:   /kaggle/working/frames_out2/21_7_out.jpg\n",
      "img 5_0.jpg\n",
      "masks\n"
     ]
    },
    {
     "name": "stderr",
     "output_type": "stream",
     "text": [
      " 42%|████▏     | 143/340 [39:17<53:42, 16.36s/it]"
     ]
    },
    {
     "name": "stdout",
     "output_type": "stream",
     "text": [
      "saving:   /kaggle/working/frames_out2/5_0_out.jpg\n",
      "img 33_0.jpg\n",
      "masks\n"
     ]
    },
    {
     "name": "stderr",
     "output_type": "stream",
     "text": [
      " 42%|████▏     | 144/340 [39:34<54:06, 16.56s/it]"
     ]
    },
    {
     "name": "stdout",
     "output_type": "stream",
     "text": [
      "saving:   /kaggle/working/frames_out2/33_0_out.jpg\n",
      "img 30_0.jpg\n",
      "masks\n"
     ]
    },
    {
     "name": "stderr",
     "output_type": "stream",
     "text": [
      " 43%|████▎     | 145/340 [39:54<56:22, 17.35s/it]"
     ]
    },
    {
     "name": "stdout",
     "output_type": "stream",
     "text": [
      "saving:   /kaggle/working/frames_out2/30_0_out.jpg\n",
      "img 1_2.jpg\n",
      "masks\n"
     ]
    },
    {
     "name": "stderr",
     "output_type": "stream",
     "text": [
      " 43%|████▎     | 146/340 [40:11<56:39, 17.52s/it]"
     ]
    },
    {
     "name": "stdout",
     "output_type": "stream",
     "text": [
      "saving:   /kaggle/working/frames_out2/1_2_out.jpg\n",
      "img 22_4.jpg\n",
      "masks\n"
     ]
    },
    {
     "name": "stderr",
     "output_type": "stream",
     "text": [
      " 43%|████▎     | 147/340 [40:26<53:43, 16.70s/it]"
     ]
    },
    {
     "name": "stdout",
     "output_type": "stream",
     "text": [
      "saving:   /kaggle/working/frames_out2/22_4_out.jpg\n",
      "img 11_5.jpg\n",
      "masks\n"
     ]
    },
    {
     "name": "stderr",
     "output_type": "stream",
     "text": [
      " 44%|████▎     | 148/340 [40:42<52:49, 16.51s/it]"
     ]
    },
    {
     "name": "stdout",
     "output_type": "stream",
     "text": [
      "saving:   /kaggle/working/frames_out2/11_5_out.jpg\n",
      "img 33_8.jpg\n",
      "masks\n"
     ]
    },
    {
     "name": "stderr",
     "output_type": "stream",
     "text": [
      " 44%|████▍     | 149/340 [41:01<54:57, 17.27s/it]"
     ]
    },
    {
     "name": "stdout",
     "output_type": "stream",
     "text": [
      "saving:   /kaggle/working/frames_out2/33_8_out.jpg\n",
      "img 8_1.jpg\n",
      "masks\n"
     ]
    },
    {
     "name": "stderr",
     "output_type": "stream",
     "text": [
      " 44%|████▍     | 150/340 [41:17<53:30, 16.90s/it]"
     ]
    },
    {
     "name": "stdout",
     "output_type": "stream",
     "text": [
      "saving:   /kaggle/working/frames_out2/8_1_out.jpg\n",
      "img 23_2.jpg\n",
      "masks\n"
     ]
    },
    {
     "name": "stderr",
     "output_type": "stream",
     "text": [
      " 44%|████▍     | 151/340 [41:33<52:13, 16.58s/it]"
     ]
    },
    {
     "name": "stdout",
     "output_type": "stream",
     "text": [
      "saving:   /kaggle/working/frames_out2/23_2_out.jpg\n",
      "img 32_1.jpg\n",
      "masks\n"
     ]
    },
    {
     "name": "stderr",
     "output_type": "stream",
     "text": [
      " 45%|████▍     | 152/340 [41:50<52:25, 16.73s/it]"
     ]
    },
    {
     "name": "stdout",
     "output_type": "stream",
     "text": [
      "saving:   /kaggle/working/frames_out2/32_1_out.jpg\n",
      "img 24_0.jpg\n",
      "masks\n"
     ]
    },
    {
     "name": "stderr",
     "output_type": "stream",
     "text": [
      " 45%|████▌     | 153/340 [42:06<51:20, 16.48s/it]"
     ]
    },
    {
     "name": "stdout",
     "output_type": "stream",
     "text": [
      "saving:   /kaggle/working/frames_out2/24_0_out.jpg\n",
      "img 16_9.jpg\n",
      "masks\n"
     ]
    },
    {
     "name": "stderr",
     "output_type": "stream",
     "text": [
      " 45%|████▌     | 154/340 [42:22<50:54, 16.42s/it]"
     ]
    },
    {
     "name": "stdout",
     "output_type": "stream",
     "text": [
      "saving:   /kaggle/working/frames_out2/16_9_out.jpg\n",
      "img 13_8.jpg\n",
      "masks\n"
     ]
    },
    {
     "name": "stderr",
     "output_type": "stream",
     "text": [
      " 46%|████▌     | 155/340 [42:38<49:54, 16.19s/it]"
     ]
    },
    {
     "name": "stdout",
     "output_type": "stream",
     "text": [
      "saving:   /kaggle/working/frames_out2/13_8_out.jpg\n",
      "img 27_7.jpg\n",
      "masks\n"
     ]
    },
    {
     "name": "stderr",
     "output_type": "stream",
     "text": [
      " 46%|████▌     | 156/340 [42:57<52:04, 16.98s/it]"
     ]
    },
    {
     "name": "stdout",
     "output_type": "stream",
     "text": [
      "saving:   /kaggle/working/frames_out2/27_7_out.jpg\n",
      "img 32_2.jpg\n",
      "masks\n"
     ]
    },
    {
     "name": "stderr",
     "output_type": "stream",
     "text": [
      " 46%|████▌     | 157/340 [43:14<51:44, 16.96s/it]"
     ]
    },
    {
     "name": "stdout",
     "output_type": "stream",
     "text": [
      "saving:   /kaggle/working/frames_out2/32_2_out.jpg\n",
      "img 22_9.jpg\n",
      "masks\n"
     ]
    },
    {
     "name": "stderr",
     "output_type": "stream",
     "text": [
      " 46%|████▋     | 158/340 [43:30<50:16, 16.57s/it]"
     ]
    },
    {
     "name": "stdout",
     "output_type": "stream",
     "text": [
      "saving:   /kaggle/working/frames_out2/22_9_out.jpg\n",
      "img 13_9.jpg\n",
      "masks\n"
     ]
    },
    {
     "name": "stderr",
     "output_type": "stream",
     "text": [
      " 47%|████▋     | 159/340 [43:45<49:22, 16.37s/it]"
     ]
    },
    {
     "name": "stdout",
     "output_type": "stream",
     "text": [
      "saving:   /kaggle/working/frames_out2/13_9_out.jpg\n",
      "img 7_5.jpg\n",
      "masks\n"
     ]
    },
    {
     "name": "stderr",
     "output_type": "stream",
     "text": [
      " 47%|████▋     | 160/340 [44:02<48:51, 16.29s/it]"
     ]
    },
    {
     "name": "stdout",
     "output_type": "stream",
     "text": [
      "saving:   /kaggle/working/frames_out2/7_5_out.jpg\n",
      "img 16_7.jpg\n",
      "masks\n"
     ]
    },
    {
     "name": "stderr",
     "output_type": "stream",
     "text": [
      " 47%|████▋     | 161/340 [44:18<48:30, 16.26s/it]"
     ]
    },
    {
     "name": "stdout",
     "output_type": "stream",
     "text": [
      "saving:   /kaggle/working/frames_out2/16_7_out.jpg\n",
      "img 16_2.jpg\n",
      "masks\n"
     ]
    },
    {
     "name": "stderr",
     "output_type": "stream",
     "text": [
      " 48%|████▊     | 162/340 [44:34<48:32, 16.36s/it]"
     ]
    },
    {
     "name": "stdout",
     "output_type": "stream",
     "text": [
      "saving:   /kaggle/working/frames_out2/16_2_out.jpg\n",
      "img 17_5.jpg\n",
      "masks\n"
     ]
    },
    {
     "name": "stderr",
     "output_type": "stream",
     "text": [
      " 48%|████▊     | 163/340 [44:50<48:04, 16.30s/it]"
     ]
    },
    {
     "name": "stdout",
     "output_type": "stream",
     "text": [
      "saving:   /kaggle/working/frames_out2/17_5_out.jpg\n",
      "img 8_6.jpg\n",
      "masks\n"
     ]
    },
    {
     "name": "stderr",
     "output_type": "stream",
     "text": [
      " 48%|████▊     | 164/340 [45:07<47:50, 16.31s/it]"
     ]
    },
    {
     "name": "stdout",
     "output_type": "stream",
     "text": [
      "saving:   /kaggle/working/frames_out2/8_6_out.jpg\n",
      "img 23_5.jpg\n",
      "masks\n"
     ]
    },
    {
     "name": "stderr",
     "output_type": "stream",
     "text": [
      " 49%|████▊     | 165/340 [45:23<47:15, 16.21s/it]"
     ]
    },
    {
     "name": "stdout",
     "output_type": "stream",
     "text": [
      "saving:   /kaggle/working/frames_out2/23_5_out.jpg\n",
      "img 4_6.jpg\n",
      "masks\n"
     ]
    },
    {
     "name": "stderr",
     "output_type": "stream",
     "text": [
      " 49%|████▉     | 166/340 [45:39<47:05, 16.24s/it]"
     ]
    },
    {
     "name": "stdout",
     "output_type": "stream",
     "text": [
      "saving:   /kaggle/working/frames_out2/4_6_out.jpg\n",
      "img 30_1.jpg\n",
      "masks\n"
     ]
    },
    {
     "name": "stderr",
     "output_type": "stream",
     "text": [
      " 49%|████▉     | 167/340 [45:58<48:48, 16.93s/it]"
     ]
    },
    {
     "name": "stdout",
     "output_type": "stream",
     "text": [
      "saving:   /kaggle/working/frames_out2/30_1_out.jpg\n",
      "img 22_0.jpg\n",
      "masks\n"
     ]
    },
    {
     "name": "stderr",
     "output_type": "stream",
     "text": [
      " 49%|████▉     | 168/340 [46:14<47:44, 16.66s/it]"
     ]
    },
    {
     "name": "stdout",
     "output_type": "stream",
     "text": [
      "saving:   /kaggle/working/frames_out2/22_0_out.jpg\n",
      "img 1_9.jpg\n",
      "masks\n"
     ]
    },
    {
     "name": "stderr",
     "output_type": "stream",
     "text": [
      " 50%|████▉     | 169/340 [46:31<48:29, 17.02s/it]"
     ]
    },
    {
     "name": "stdout",
     "output_type": "stream",
     "text": [
      "saving:   /kaggle/working/frames_out2/1_9_out.jpg\n",
      "img 25_2.jpg\n",
      "masks\n"
     ]
    },
    {
     "name": "stderr",
     "output_type": "stream",
     "text": [
      " 50%|█████     | 170/340 [46:48<48:09, 17.00s/it]"
     ]
    },
    {
     "name": "stdout",
     "output_type": "stream",
     "text": [
      "saving:   /kaggle/working/frames_out2/25_2_out.jpg\n",
      "img 26_4.jpg\n",
      "masks\n"
     ]
    },
    {
     "name": "stderr",
     "output_type": "stream",
     "text": [
      " 50%|█████     | 171/340 [47:07<48:56, 17.38s/it]"
     ]
    },
    {
     "name": "stdout",
     "output_type": "stream",
     "text": [
      "saving:   /kaggle/working/frames_out2/26_4_out.jpg\n",
      "img 7_2.jpg\n",
      "masks\n"
     ]
    },
    {
     "name": "stderr",
     "output_type": "stream",
     "text": [
      " 51%|█████     | 172/340 [47:23<47:19, 16.90s/it]"
     ]
    },
    {
     "name": "stdout",
     "output_type": "stream",
     "text": [
      "saving:   /kaggle/working/frames_out2/7_2_out.jpg\n",
      "img 33_1.jpg\n",
      "masks\n"
     ]
    },
    {
     "name": "stderr",
     "output_type": "stream",
     "text": [
      " 51%|█████     | 173/340 [47:39<46:59, 16.88s/it]"
     ]
    },
    {
     "name": "stdout",
     "output_type": "stream",
     "text": [
      "saving:   /kaggle/working/frames_out2/33_1_out.jpg\n",
      "img 22_1.jpg\n",
      "masks\n"
     ]
    },
    {
     "name": "stderr",
     "output_type": "stream",
     "text": [
      " 51%|█████     | 174/340 [47:54<45:09, 16.32s/it]"
     ]
    },
    {
     "name": "stdout",
     "output_type": "stream",
     "text": [
      "saving:   /kaggle/working/frames_out2/22_1_out.jpg\n",
      "img 4_1.jpg\n",
      "masks\n"
     ]
    },
    {
     "name": "stderr",
     "output_type": "stream",
     "text": [
      " 51%|█████▏    | 175/340 [48:10<44:09, 16.06s/it]"
     ]
    },
    {
     "name": "stdout",
     "output_type": "stream",
     "text": [
      "saving:   /kaggle/working/frames_out2/4_1_out.jpg\n",
      "img 18_9.jpg\n",
      "masks\n"
     ]
    },
    {
     "name": "stderr",
     "output_type": "stream",
     "text": [
      " 52%|█████▏    | 176/340 [48:26<44:14, 16.19s/it]"
     ]
    },
    {
     "name": "stdout",
     "output_type": "stream",
     "text": [
      "saving:   /kaggle/working/frames_out2/18_9_out.jpg\n",
      "img 2_0.jpg\n",
      "masks\n"
     ]
    },
    {
     "name": "stderr",
     "output_type": "stream",
     "text": [
      " 52%|█████▏    | 177/340 [48:44<44:50, 16.51s/it]"
     ]
    },
    {
     "name": "stdout",
     "output_type": "stream",
     "text": [
      "saving:   /kaggle/working/frames_out2/2_0_out.jpg\n",
      "img 13_1.jpg\n",
      "masks\n"
     ]
    },
    {
     "name": "stderr",
     "output_type": "stream",
     "text": [
      " 52%|█████▏    | 178/340 [48:59<43:44, 16.20s/it]"
     ]
    },
    {
     "name": "stdout",
     "output_type": "stream",
     "text": [
      "saving:   /kaggle/working/frames_out2/13_1_out.jpg\n",
      "img 33_7.jpg\n",
      "masks\n"
     ]
    },
    {
     "name": "stderr",
     "output_type": "stream",
     "text": [
      " 53%|█████▎    | 179/340 [49:18<45:51, 17.09s/it]"
     ]
    },
    {
     "name": "stdout",
     "output_type": "stream",
     "text": [
      "saving:   /kaggle/working/frames_out2/33_7_out.jpg\n",
      "img 30_7.jpg\n",
      "masks\n"
     ]
    },
    {
     "name": "stderr",
     "output_type": "stream",
     "text": [
      " 53%|█████▎    | 180/340 [49:37<46:41, 17.51s/it]"
     ]
    },
    {
     "name": "stdout",
     "output_type": "stream",
     "text": [
      "saving:   /kaggle/working/frames_out2/30_7_out.jpg\n",
      "img 5_2.jpg\n",
      "masks\n"
     ]
    },
    {
     "name": "stderr",
     "output_type": "stream",
     "text": [
      " 53%|█████▎    | 181/340 [49:53<45:24, 17.14s/it]"
     ]
    },
    {
     "name": "stdout",
     "output_type": "stream",
     "text": [
      "saving:   /kaggle/working/frames_out2/5_2_out.jpg\n",
      "img 16_3.jpg\n",
      "masks\n"
     ]
    },
    {
     "name": "stderr",
     "output_type": "stream",
     "text": [
      " 54%|█████▎    | 182/340 [50:09<44:22, 16.85s/it]"
     ]
    },
    {
     "name": "stdout",
     "output_type": "stream",
     "text": [
      "saving:   /kaggle/working/frames_out2/16_3_out.jpg\n",
      "img 25_3.jpg\n",
      "masks\n"
     ]
    },
    {
     "name": "stderr",
     "output_type": "stream",
     "text": [
      " 54%|█████▍    | 183/340 [50:26<44:01, 16.83s/it]"
     ]
    },
    {
     "name": "stdout",
     "output_type": "stream",
     "text": [
      "saving:   /kaggle/working/frames_out2/25_3_out.jpg\n",
      "img 31_4.jpg\n",
      "masks\n"
     ]
    },
    {
     "name": "stderr",
     "output_type": "stream",
     "text": [
      " 54%|█████▍    | 184/340 [50:42<43:29, 16.73s/it]"
     ]
    },
    {
     "name": "stdout",
     "output_type": "stream",
     "text": [
      "saving:   /kaggle/working/frames_out2/31_4_out.jpg\n",
      "img 28_5.jpg\n",
      "masks\n"
     ]
    },
    {
     "name": "stderr",
     "output_type": "stream",
     "text": [
      " 54%|█████▍    | 185/340 [51:01<44:48, 17.34s/it]"
     ]
    },
    {
     "name": "stdout",
     "output_type": "stream",
     "text": [
      "saving:   /kaggle/working/frames_out2/28_5_out.jpg\n",
      "img 1_1.jpg\n",
      "masks\n"
     ]
    },
    {
     "name": "stderr",
     "output_type": "stream",
     "text": [
      " 55%|█████▍    | 186/340 [51:19<44:57, 17.52s/it]"
     ]
    },
    {
     "name": "stdout",
     "output_type": "stream",
     "text": [
      "saving:   /kaggle/working/frames_out2/1_1_out.jpg\n",
      "img 0_8.jpg\n",
      "masks\n"
     ]
    },
    {
     "name": "stderr",
     "output_type": "stream",
     "text": [
      " 55%|█████▌    | 187/340 [51:37<44:48, 17.57s/it]"
     ]
    },
    {
     "name": "stdout",
     "output_type": "stream",
     "text": [
      "saving:   /kaggle/working/frames_out2/0_8_out.jpg\n",
      "img 0_2.jpg\n",
      "masks\n"
     ]
    },
    {
     "name": "stderr",
     "output_type": "stream",
     "text": [
      " 55%|█████▌    | 188/340 [51:54<43:56, 17.34s/it]"
     ]
    },
    {
     "name": "stdout",
     "output_type": "stream",
     "text": [
      "saving:   /kaggle/working/frames_out2/0_2_out.jpg\n",
      "img 11_1.jpg\n",
      "masks\n"
     ]
    },
    {
     "name": "stderr",
     "output_type": "stream",
     "text": [
      " 56%|█████▌    | 189/340 [52:10<42:34, 16.92s/it]"
     ]
    },
    {
     "name": "stdout",
     "output_type": "stream",
     "text": [
      "saving:   /kaggle/working/frames_out2/11_1_out.jpg\n",
      "img 17_6.jpg\n",
      "masks\n"
     ]
    },
    {
     "name": "stderr",
     "output_type": "stream",
     "text": [
      " 56%|█████▌    | 190/340 [52:26<41:44, 16.70s/it]"
     ]
    },
    {
     "name": "stdout",
     "output_type": "stream",
     "text": [
      "saving:   /kaggle/working/frames_out2/17_6_out.jpg\n",
      "img 12_2.jpg\n",
      "masks\n"
     ]
    },
    {
     "name": "stderr",
     "output_type": "stream",
     "text": [
      " 56%|█████▌    | 191/340 [52:42<40:51, 16.46s/it]"
     ]
    },
    {
     "name": "stdout",
     "output_type": "stream",
     "text": [
      "saving:   /kaggle/working/frames_out2/12_2_out.jpg\n",
      "img 6_0.jpg\n",
      "masks\n"
     ]
    },
    {
     "name": "stderr",
     "output_type": "stream",
     "text": [
      " 56%|█████▋    | 192/340 [52:58<40:11, 16.30s/it]"
     ]
    },
    {
     "name": "stdout",
     "output_type": "stream",
     "text": [
      "saving:   /kaggle/working/frames_out2/6_0_out.jpg\n",
      "img 8_7.jpg\n",
      "masks\n"
     ]
    },
    {
     "name": "stderr",
     "output_type": "stream",
     "text": [
      " 57%|█████▋    | 193/340 [53:14<39:49, 16.26s/it]"
     ]
    },
    {
     "name": "stdout",
     "output_type": "stream",
     "text": [
      "saving:   /kaggle/working/frames_out2/8_7_out.jpg\n",
      "img 6_3.jpg\n",
      "masks\n"
     ]
    },
    {
     "name": "stderr",
     "output_type": "stream",
     "text": [
      " 57%|█████▋    | 194/340 [53:30<39:21, 16.18s/it]"
     ]
    },
    {
     "name": "stdout",
     "output_type": "stream",
     "text": [
      "saving:   /kaggle/working/frames_out2/6_3_out.jpg\n",
      "img 4_5.jpg\n",
      "masks\n"
     ]
    },
    {
     "name": "stderr",
     "output_type": "stream",
     "text": [
      " 57%|█████▋    | 195/340 [53:46<39:00, 16.14s/it]"
     ]
    },
    {
     "name": "stdout",
     "output_type": "stream",
     "text": [
      "saving:   /kaggle/working/frames_out2/4_5_out.jpg\n",
      "img 7_8.jpg\n",
      "masks\n"
     ]
    },
    {
     "name": "stderr",
     "output_type": "stream",
     "text": [
      " 58%|█████▊    | 196/340 [54:02<38:44, 16.14s/it]"
     ]
    },
    {
     "name": "stdout",
     "output_type": "stream",
     "text": [
      "saving:   /kaggle/working/frames_out2/7_8_out.jpg\n",
      "img 6_7.jpg\n",
      "masks\n"
     ]
    },
    {
     "name": "stderr",
     "output_type": "stream",
     "text": [
      " 58%|█████▊    | 197/340 [54:18<38:10, 16.02s/it]"
     ]
    },
    {
     "name": "stdout",
     "output_type": "stream",
     "text": [
      "saving:   /kaggle/working/frames_out2/6_7_out.jpg\n",
      "img 26_0.jpg\n",
      "masks\n"
     ]
    },
    {
     "name": "stderr",
     "output_type": "stream",
     "text": [
      " 58%|█████▊    | 198/340 [54:35<38:59, 16.48s/it]"
     ]
    },
    {
     "name": "stdout",
     "output_type": "stream",
     "text": [
      "saving:   /kaggle/working/frames_out2/26_0_out.jpg\n",
      "img 9_0.jpg\n",
      "masks\n"
     ]
    },
    {
     "name": "stderr",
     "output_type": "stream",
     "text": [
      " 59%|█████▊    | 199/340 [54:51<38:28, 16.38s/it]"
     ]
    },
    {
     "name": "stdout",
     "output_type": "stream",
     "text": [
      "saving:   /kaggle/working/frames_out2/9_0_out.jpg\n",
      "img 0_0.jpg\n",
      "masks\n"
     ]
    },
    {
     "name": "stderr",
     "output_type": "stream",
     "text": [
      " 59%|█████▉    | 200/340 [55:08<38:18, 16.42s/it]"
     ]
    },
    {
     "name": "stdout",
     "output_type": "stream",
     "text": [
      "saving:   /kaggle/working/frames_out2/0_0_out.jpg\n",
      "img 7_6.jpg\n",
      "masks\n"
     ]
    },
    {
     "name": "stderr",
     "output_type": "stream",
     "text": [
      " 59%|█████▉    | 201/340 [55:24<37:46, 16.30s/it]"
     ]
    },
    {
     "name": "stdout",
     "output_type": "stream",
     "text": [
      "saving:   /kaggle/working/frames_out2/7_6_out.jpg\n",
      "img 8_5.jpg\n",
      "masks\n"
     ]
    },
    {
     "name": "stderr",
     "output_type": "stream",
     "text": [
      " 59%|█████▉    | 202/340 [55:40<37:27, 16.29s/it]"
     ]
    },
    {
     "name": "stdout",
     "output_type": "stream",
     "text": [
      "saving:   /kaggle/working/frames_out2/8_5_out.jpg\n",
      "img 31_2.jpg\n",
      "masks\n"
     ]
    },
    {
     "name": "stderr",
     "output_type": "stream",
     "text": [
      " 60%|█████▉    | 203/340 [55:58<38:08, 16.70s/it]"
     ]
    },
    {
     "name": "stdout",
     "output_type": "stream",
     "text": [
      "saving:   /kaggle/working/frames_out2/31_2_out.jpg\n",
      "img 19_6.jpg\n",
      "masks\n"
     ]
    },
    {
     "name": "stderr",
     "output_type": "stream",
     "text": [
      " 60%|██████    | 204/340 [56:14<37:17, 16.45s/it]"
     ]
    },
    {
     "name": "stdout",
     "output_type": "stream",
     "text": [
      "saving:   /kaggle/working/frames_out2/19_6_out.jpg\n",
      "img 14_7.jpg\n",
      "masks\n"
     ]
    },
    {
     "name": "stderr",
     "output_type": "stream",
     "text": [
      " 60%|██████    | 205/340 [56:29<36:35, 16.26s/it]"
     ]
    },
    {
     "name": "stdout",
     "output_type": "stream",
     "text": [
      "saving:   /kaggle/working/frames_out2/14_7_out.jpg\n",
      "img 25_8.jpg\n",
      "masks\n"
     ]
    },
    {
     "name": "stderr",
     "output_type": "stream",
     "text": [
      " 61%|██████    | 206/340 [56:47<37:14, 16.68s/it]"
     ]
    },
    {
     "name": "stdout",
     "output_type": "stream",
     "text": [
      "saving:   /kaggle/working/frames_out2/25_8_out.jpg\n",
      "img 9_4.jpg\n",
      "masks\n"
     ]
    },
    {
     "name": "stderr",
     "output_type": "stream",
     "text": [
      " 61%|██████    | 207/340 [57:03<36:32, 16.49s/it]"
     ]
    },
    {
     "name": "stdout",
     "output_type": "stream",
     "text": [
      "saving:   /kaggle/working/frames_out2/9_4_out.jpg\n",
      "img 30_3.jpg\n",
      "masks\n"
     ]
    },
    {
     "name": "stderr",
     "output_type": "stream",
     "text": [
      " 61%|██████    | 208/340 [57:22<37:48, 17.18s/it]"
     ]
    },
    {
     "name": "stdout",
     "output_type": "stream",
     "text": [
      "saving:   /kaggle/working/frames_out2/30_3_out.jpg\n",
      "img 31_8.jpg\n",
      "masks\n"
     ]
    },
    {
     "name": "stderr",
     "output_type": "stream",
     "text": [
      " 61%|██████▏   | 209/340 [57:39<37:30, 17.18s/it]"
     ]
    },
    {
     "name": "stdout",
     "output_type": "stream",
     "text": [
      "saving:   /kaggle/working/frames_out2/31_8_out.jpg\n",
      "img 17_9.jpg\n",
      "masks\n"
     ]
    },
    {
     "name": "stderr",
     "output_type": "stream",
     "text": [
      " 62%|██████▏   | 210/340 [57:55<36:37, 16.91s/it]"
     ]
    },
    {
     "name": "stdout",
     "output_type": "stream",
     "text": [
      "saving:   /kaggle/working/frames_out2/17_9_out.jpg\n",
      "img 23_4.jpg\n",
      "masks\n"
     ]
    },
    {
     "name": "stderr",
     "output_type": "stream",
     "text": [
      " 62%|██████▏   | 211/340 [58:12<35:55, 16.71s/it]"
     ]
    },
    {
     "name": "stdout",
     "output_type": "stream",
     "text": [
      "saving:   /kaggle/working/frames_out2/23_4_out.jpg\n",
      "img 30_2.jpg\n",
      "masks\n"
     ]
    },
    {
     "name": "stderr",
     "output_type": "stream",
     "text": [
      " 62%|██████▏   | 212/340 [58:30<36:43, 17.22s/it]"
     ]
    },
    {
     "name": "stdout",
     "output_type": "stream",
     "text": [
      "saving:   /kaggle/working/frames_out2/30_2_out.jpg\n",
      "img 3_3.jpg\n",
      "masks\n"
     ]
    },
    {
     "name": "stderr",
     "output_type": "stream",
     "text": [
      " 63%|██████▎   | 213/340 [58:46<35:45, 16.89s/it]"
     ]
    },
    {
     "name": "stdout",
     "output_type": "stream",
     "text": [
      "saving:   /kaggle/working/frames_out2/3_3_out.jpg\n",
      "img 10_9.jpg\n",
      "masks\n"
     ]
    },
    {
     "name": "stderr",
     "output_type": "stream",
     "text": [
      " 63%|██████▎   | 214/340 [59:02<35:05, 16.71s/it]"
     ]
    },
    {
     "name": "stdout",
     "output_type": "stream",
     "text": [
      "saving:   /kaggle/working/frames_out2/10_9_out.jpg\n",
      "img 3_2.jpg\n",
      "masks\n"
     ]
    },
    {
     "name": "stderr",
     "output_type": "stream",
     "text": [
      " 63%|██████▎   | 215/340 [59:19<34:40, 16.65s/it]"
     ]
    },
    {
     "name": "stdout",
     "output_type": "stream",
     "text": [
      "saving:   /kaggle/working/frames_out2/3_2_out.jpg\n",
      "img 19_7.jpg\n",
      "masks\n"
     ]
    },
    {
     "name": "stderr",
     "output_type": "stream",
     "text": [
      " 64%|██████▎   | 216/340 [59:34<33:14, 16.08s/it]"
     ]
    },
    {
     "name": "stdout",
     "output_type": "stream",
     "text": [
      "saving:   /kaggle/working/frames_out2/19_7_out.jpg\n",
      "img 12_8.jpg\n",
      "masks\n"
     ]
    },
    {
     "name": "stderr",
     "output_type": "stream",
     "text": [
      " 64%|██████▍   | 217/340 [59:49<32:46, 15.99s/it]"
     ]
    },
    {
     "name": "stdout",
     "output_type": "stream",
     "text": [
      "saving:   /kaggle/working/frames_out2/12_8_out.jpg\n",
      "img 5_7.jpg\n",
      "masks\n"
     ]
    },
    {
     "name": "stderr",
     "output_type": "stream",
     "text": [
      " 64%|██████▍   | 218/340 [1:00:05<32:29, 15.98s/it]"
     ]
    },
    {
     "name": "stdout",
     "output_type": "stream",
     "text": [
      "saving:   /kaggle/working/frames_out2/5_7_out.jpg\n",
      "img 10_5.jpg\n",
      "masks\n"
     ]
    },
    {
     "name": "stderr",
     "output_type": "stream",
     "text": [
      " 64%|██████▍   | 219/340 [1:00:21<32:10, 15.96s/it]"
     ]
    },
    {
     "name": "stdout",
     "output_type": "stream",
     "text": [
      "saving:   /kaggle/working/frames_out2/10_5_out.jpg\n",
      "img 27_6.jpg\n",
      "masks\n"
     ]
    },
    {
     "name": "stderr",
     "output_type": "stream",
     "text": [
      " 65%|██████▍   | 220/340 [1:00:40<33:29, 16.75s/it]"
     ]
    },
    {
     "name": "stdout",
     "output_type": "stream",
     "text": [
      "saving:   /kaggle/working/frames_out2/27_6_out.jpg\n",
      "img 9_8.jpg\n",
      "masks\n"
     ]
    },
    {
     "name": "stderr",
     "output_type": "stream",
     "text": [
      " 65%|██████▌   | 221/340 [1:00:56<32:49, 16.55s/it]"
     ]
    },
    {
     "name": "stdout",
     "output_type": "stream",
     "text": [
      "saving:   /kaggle/working/frames_out2/9_8_out.jpg\n",
      "img 9_3.jpg\n",
      "masks\n"
     ]
    },
    {
     "name": "stderr",
     "output_type": "stream",
     "text": [
      " 65%|██████▌   | 222/340 [1:01:12<32:21, 16.46s/it]"
     ]
    },
    {
     "name": "stdout",
     "output_type": "stream",
     "text": [
      "saving:   /kaggle/working/frames_out2/9_3_out.jpg\n",
      "img 6_8.jpg\n",
      "masks\n"
     ]
    },
    {
     "name": "stderr",
     "output_type": "stream",
     "text": [
      " 66%|██████▌   | 223/340 [1:01:28<31:54, 16.36s/it]"
     ]
    },
    {
     "name": "stdout",
     "output_type": "stream",
     "text": [
      "saving:   /kaggle/working/frames_out2/6_8_out.jpg\n",
      "img 21_4.jpg\n",
      "masks\n"
     ]
    },
    {
     "name": "stderr",
     "output_type": "stream",
     "text": [
      " 66%|██████▌   | 224/340 [1:01:43<30:24, 15.73s/it]"
     ]
    },
    {
     "name": "stdout",
     "output_type": "stream",
     "text": [
      "saving:   /kaggle/working/frames_out2/21_4_out.jpg\n",
      "img 27_8.jpg\n",
      "masks\n"
     ]
    },
    {
     "name": "stderr",
     "output_type": "stream",
     "text": [
      " 66%|██████▌   | 225/340 [1:02:01<31:52, 16.63s/it]"
     ]
    },
    {
     "name": "stdout",
     "output_type": "stream",
     "text": [
      "saving:   /kaggle/working/frames_out2/27_8_out.jpg\n",
      "img 10_8.jpg\n",
      "masks\n"
     ]
    },
    {
     "name": "stderr",
     "output_type": "stream",
     "text": [
      " 66%|██████▋   | 226/340 [1:02:18<31:32, 16.60s/it]"
     ]
    },
    {
     "name": "stdout",
     "output_type": "stream",
     "text": [
      "saving:   /kaggle/working/frames_out2/10_8_out.jpg\n",
      "img 31_5.jpg\n",
      "masks\n"
     ]
    },
    {
     "name": "stderr",
     "output_type": "stream",
     "text": [
      " 67%|██████▋   | 227/340 [1:02:36<31:50, 16.91s/it]"
     ]
    },
    {
     "name": "stdout",
     "output_type": "stream",
     "text": [
      "saving:   /kaggle/working/frames_out2/31_5_out.jpg\n",
      "img 13_4.jpg\n",
      "masks\n"
     ]
    },
    {
     "name": "stderr",
     "output_type": "stream",
     "text": [
      " 67%|██████▋   | 228/340 [1:02:51<30:48, 16.50s/it]"
     ]
    },
    {
     "name": "stdout",
     "output_type": "stream",
     "text": [
      "saving:   /kaggle/working/frames_out2/13_4_out.jpg\n",
      "img 2_5.jpg\n",
      "masks\n"
     ]
    },
    {
     "name": "stderr",
     "output_type": "stream",
     "text": [
      " 67%|██████▋   | 229/340 [1:03:08<30:35, 16.54s/it]"
     ]
    },
    {
     "name": "stdout",
     "output_type": "stream",
     "text": [
      "saving:   /kaggle/working/frames_out2/2_5_out.jpg\n",
      "img 11_7.jpg\n",
      "masks\n"
     ]
    },
    {
     "name": "stderr",
     "output_type": "stream",
     "text": [
      " 68%|██████▊   | 230/340 [1:03:24<29:53, 16.30s/it]"
     ]
    },
    {
     "name": "stdout",
     "output_type": "stream",
     "text": [
      "saving:   /kaggle/working/frames_out2/11_7_out.jpg\n",
      "img 30_6.jpg\n",
      "masks\n"
     ]
    },
    {
     "name": "stderr",
     "output_type": "stream",
     "text": [
      " 68%|██████▊   | 231/340 [1:03:42<31:02, 17.08s/it]"
     ]
    },
    {
     "name": "stdout",
     "output_type": "stream",
     "text": [
      "saving:   /kaggle/working/frames_out2/30_6_out.jpg\n",
      "img 16_4.jpg\n",
      "masks\n"
     ]
    },
    {
     "name": "stderr",
     "output_type": "stream",
     "text": [
      " 68%|██████▊   | 232/340 [1:03:59<30:30, 16.95s/it]"
     ]
    },
    {
     "name": "stdout",
     "output_type": "stream",
     "text": [
      "saving:   /kaggle/working/frames_out2/16_4_out.jpg\n",
      "img 4_2.jpg\n",
      "masks\n"
     ]
    },
    {
     "name": "stderr",
     "output_type": "stream",
     "text": [
      " 69%|██████▊   | 233/340 [1:04:14<29:25, 16.50s/it]"
     ]
    },
    {
     "name": "stdout",
     "output_type": "stream",
     "text": [
      "saving:   /kaggle/working/frames_out2/4_2_out.jpg\n",
      "img 2_2.jpg\n",
      "masks\n"
     ]
    },
    {
     "name": "stderr",
     "output_type": "stream",
     "text": [
      " 69%|██████▉   | 234/340 [1:04:32<29:46, 16.85s/it]"
     ]
    },
    {
     "name": "stdout",
     "output_type": "stream",
     "text": [
      "saving:   /kaggle/working/frames_out2/2_2_out.jpg\n",
      "img 15_9.jpg\n",
      "masks\n"
     ]
    },
    {
     "name": "stderr",
     "output_type": "stream",
     "text": [
      " 69%|██████▉   | 235/340 [1:04:48<29:00, 16.58s/it]"
     ]
    },
    {
     "name": "stdout",
     "output_type": "stream",
     "text": [
      "saving:   /kaggle/working/frames_out2/15_9_out.jpg\n",
      "img 33_6.jpg\n",
      "masks\n"
     ]
    },
    {
     "name": "stderr",
     "output_type": "stream",
     "text": [
      " 69%|██████▉   | 236/340 [1:05:07<29:45, 17.17s/it]"
     ]
    },
    {
     "name": "stdout",
     "output_type": "stream",
     "text": [
      "saving:   /kaggle/working/frames_out2/33_6_out.jpg\n",
      "img 5_9.jpg\n",
      "masks\n"
     ]
    },
    {
     "name": "stderr",
     "output_type": "stream",
     "text": [
      " 70%|██████▉   | 237/340 [1:05:23<28:50, 16.80s/it]"
     ]
    },
    {
     "name": "stdout",
     "output_type": "stream",
     "text": [
      "saving:   /kaggle/working/frames_out2/5_9_out.jpg\n",
      "img 14_6.jpg\n",
      "masks\n"
     ]
    },
    {
     "name": "stderr",
     "output_type": "stream",
     "text": [
      " 70%|███████   | 238/340 [1:05:38<28:01, 16.49s/it]"
     ]
    },
    {
     "name": "stdout",
     "output_type": "stream",
     "text": [
      "saving:   /kaggle/working/frames_out2/14_6_out.jpg\n",
      "img 19_4.jpg\n",
      "masks\n"
     ]
    },
    {
     "name": "stderr",
     "output_type": "stream",
     "text": [
      " 70%|███████   | 239/340 [1:05:54<27:33, 16.37s/it]"
     ]
    },
    {
     "name": "stdout",
     "output_type": "stream",
     "text": [
      "saving:   /kaggle/working/frames_out2/19_4_out.jpg\n",
      "img 1_8.jpg\n",
      "masks\n"
     ]
    },
    {
     "name": "stderr",
     "output_type": "stream",
     "text": [
      " 71%|███████   | 240/340 [1:06:12<27:55, 16.76s/it]"
     ]
    },
    {
     "name": "stdout",
     "output_type": "stream",
     "text": [
      "saving:   /kaggle/working/frames_out2/1_8_out.jpg\n",
      "img 13_6.jpg\n",
      "masks\n"
     ]
    },
    {
     "name": "stderr",
     "output_type": "stream",
     "text": [
      " 71%|███████   | 241/340 [1:06:28<27:06, 16.43s/it]"
     ]
    },
    {
     "name": "stdout",
     "output_type": "stream",
     "text": [
      "saving:   /kaggle/working/frames_out2/13_6_out.jpg\n",
      "img 0_6.jpg\n",
      "masks\n"
     ]
    },
    {
     "name": "stderr",
     "output_type": "stream",
     "text": [
      " 71%|███████   | 242/340 [1:06:45<27:21, 16.75s/it]"
     ]
    },
    {
     "name": "stdout",
     "output_type": "stream",
     "text": [
      "saving:   /kaggle/working/frames_out2/0_6_out.jpg\n",
      "img 19_0.jpg\n",
      "masks\n"
     ]
    },
    {
     "name": "stderr",
     "output_type": "stream",
     "text": [
      " 71%|███████▏  | 243/340 [1:07:02<26:51, 16.61s/it]"
     ]
    },
    {
     "name": "stdout",
     "output_type": "stream",
     "text": [
      "saving:   /kaggle/working/frames_out2/19_0_out.jpg\n",
      "img 24_8.jpg\n",
      "masks\n"
     ]
    },
    {
     "name": "stderr",
     "output_type": "stream",
     "text": [
      " 72%|███████▏  | 244/340 [1:07:18<26:38, 16.65s/it]"
     ]
    },
    {
     "name": "stdout",
     "output_type": "stream",
     "text": [
      "saving:   /kaggle/working/frames_out2/24_8_out.jpg\n",
      "img 32_3.jpg\n",
      "masks\n"
     ]
    },
    {
     "name": "stderr",
     "output_type": "stream",
     "text": [
      " 72%|███████▏  | 245/340 [1:07:35<26:30, 16.74s/it]"
     ]
    },
    {
     "name": "stdout",
     "output_type": "stream",
     "text": [
      "saving:   /kaggle/working/frames_out2/32_3_out.jpg\n",
      "img 32_9.jpg\n",
      "masks\n"
     ]
    },
    {
     "name": "stderr",
     "output_type": "stream",
     "text": [
      " 72%|███████▏  | 246/340 [1:07:53<26:28, 16.90s/it]"
     ]
    },
    {
     "name": "stdout",
     "output_type": "stream",
     "text": [
      "saving:   /kaggle/working/frames_out2/32_9_out.jpg\n",
      "img 9_6.jpg\n",
      "masks\n"
     ]
    },
    {
     "name": "stderr",
     "output_type": "stream",
     "text": [
      " 73%|███████▎  | 247/340 [1:08:08<25:42, 16.58s/it]"
     ]
    },
    {
     "name": "stdout",
     "output_type": "stream",
     "text": [
      "saving:   /kaggle/working/frames_out2/9_6_out.jpg\n",
      "img 11_0.jpg\n",
      "masks\n"
     ]
    },
    {
     "name": "stderr",
     "output_type": "stream",
     "text": [
      " 73%|███████▎  | 248/340 [1:08:25<25:23, 16.55s/it]"
     ]
    },
    {
     "name": "stdout",
     "output_type": "stream",
     "text": [
      "saving:   /kaggle/working/frames_out2/11_0_out.jpg\n",
      "img 0_4.jpg\n",
      "masks\n"
     ]
    },
    {
     "name": "stderr",
     "output_type": "stream",
     "text": [
      " 73%|███████▎  | 249/340 [1:08:42<25:21, 16.72s/it]"
     ]
    },
    {
     "name": "stdout",
     "output_type": "stream",
     "text": [
      "saving:   /kaggle/working/frames_out2/0_4_out.jpg\n",
      "img 11_3.jpg\n",
      "masks\n"
     ]
    },
    {
     "name": "stderr",
     "output_type": "stream",
     "text": [
      " 74%|███████▎  | 250/340 [1:08:58<24:56, 16.63s/it]"
     ]
    },
    {
     "name": "stdout",
     "output_type": "stream",
     "text": [
      "saving:   /kaggle/working/frames_out2/11_3_out.jpg\n",
      "img 21_9.jpg\n",
      "masks\n"
     ]
    },
    {
     "name": "stderr",
     "output_type": "stream",
     "text": [
      " 74%|███████▍  | 251/340 [1:09:14<24:24, 16.45s/it]"
     ]
    },
    {
     "name": "stdout",
     "output_type": "stream",
     "text": [
      "saving:   /kaggle/working/frames_out2/21_9_out.jpg\n",
      "img 29_4.jpg\n",
      "masks\n"
     ]
    },
    {
     "name": "stderr",
     "output_type": "stream",
     "text": [
      " 74%|███████▍  | 252/340 [1:09:33<25:09, 17.16s/it]"
     ]
    },
    {
     "name": "stdout",
     "output_type": "stream",
     "text": [
      "saving:   /kaggle/working/frames_out2/29_4_out.jpg\n",
      "img 31_9.jpg\n",
      "masks\n"
     ]
    },
    {
     "name": "stderr",
     "output_type": "stream",
     "text": [
      " 74%|███████▍  | 253/340 [1:09:50<24:51, 17.15s/it]"
     ]
    },
    {
     "name": "stdout",
     "output_type": "stream",
     "text": [
      "saving:   /kaggle/working/frames_out2/31_9_out.jpg\n",
      "img 20_2.jpg\n",
      "masks\n"
     ]
    },
    {
     "name": "stderr",
     "output_type": "stream",
     "text": [
      " 75%|███████▍  | 254/340 [1:10:06<23:50, 16.63s/it]"
     ]
    },
    {
     "name": "stdout",
     "output_type": "stream",
     "text": [
      "saving:   /kaggle/working/frames_out2/20_2_out.jpg\n",
      "img 18_1.jpg\n",
      "masks\n"
     ]
    },
    {
     "name": "stderr",
     "output_type": "stream",
     "text": [
      " 75%|███████▌  | 255/340 [1:10:22<23:26, 16.55s/it]"
     ]
    },
    {
     "name": "stdout",
     "output_type": "stream",
     "text": [
      "saving:   /kaggle/working/frames_out2/18_1_out.jpg\n",
      "img 26_1.jpg\n",
      "masks\n"
     ]
    },
    {
     "name": "stderr",
     "output_type": "stream",
     "text": [
      " 75%|███████▌  | 256/340 [1:10:40<23:31, 16.80s/it]"
     ]
    },
    {
     "name": "stdout",
     "output_type": "stream",
     "text": [
      "saving:   /kaggle/working/frames_out2/26_1_out.jpg\n",
      "img 17_4.jpg\n",
      "masks\n"
     ]
    },
    {
     "name": "stderr",
     "output_type": "stream",
     "text": [
      " 76%|███████▌  | 257/340 [1:10:56<23:00, 16.63s/it]"
     ]
    },
    {
     "name": "stdout",
     "output_type": "stream",
     "text": [
      "saving:   /kaggle/working/frames_out2/17_4_out.jpg\n",
      "img 8_8.jpg\n",
      "masks\n"
     ]
    },
    {
     "name": "stderr",
     "output_type": "stream",
     "text": [
      " 76%|███████▌  | 258/340 [1:11:12<22:33, 16.50s/it]"
     ]
    },
    {
     "name": "stdout",
     "output_type": "stream",
     "text": [
      "saving:   /kaggle/working/frames_out2/8_8_out.jpg\n",
      "img 26_5.jpg\n",
      "masks\n"
     ]
    },
    {
     "name": "stderr",
     "output_type": "stream",
     "text": [
      " 76%|███████▌  | 259/340 [1:11:31<23:08, 17.14s/it]"
     ]
    },
    {
     "name": "stdout",
     "output_type": "stream",
     "text": [
      "saving:   /kaggle/working/frames_out2/26_5_out.jpg\n",
      "img 17_1.jpg\n",
      "masks\n"
     ]
    },
    {
     "name": "stderr",
     "output_type": "stream",
     "text": [
      " 76%|███████▋  | 260/340 [1:11:47<22:30, 16.88s/it]"
     ]
    },
    {
     "name": "stdout",
     "output_type": "stream",
     "text": [
      "saving:   /kaggle/working/frames_out2/17_1_out.jpg\n",
      "img 13_2.jpg\n",
      "masks\n"
     ]
    },
    {
     "name": "stderr",
     "output_type": "stream",
     "text": [
      " 77%|███████▋  | 261/340 [1:12:02<21:44, 16.51s/it]"
     ]
    },
    {
     "name": "stdout",
     "output_type": "stream",
     "text": [
      "saving:   /kaggle/working/frames_out2/13_2_out.jpg\n",
      "img 1_3.jpg\n",
      "masks\n"
     ]
    },
    {
     "name": "stderr",
     "output_type": "stream",
     "text": [
      " 77%|███████▋  | 262/340 [1:12:20<21:51, 16.82s/it]"
     ]
    },
    {
     "name": "stdout",
     "output_type": "stream",
     "text": [
      "saving:   /kaggle/working/frames_out2/1_3_out.jpg\n",
      "img 8_3.jpg\n",
      "masks\n"
     ]
    },
    {
     "name": "stderr",
     "output_type": "stream",
     "text": [
      " 77%|███████▋  | 263/340 [1:12:36<21:25, 16.69s/it]"
     ]
    },
    {
     "name": "stdout",
     "output_type": "stream",
     "text": [
      "saving:   /kaggle/working/frames_out2/8_3_out.jpg\n",
      "img 20_4.jpg\n",
      "masks\n"
     ]
    },
    {
     "name": "stderr",
     "output_type": "stream",
     "text": [
      " 78%|███████▊  | 264/340 [1:12:51<20:16, 16.01s/it]"
     ]
    },
    {
     "name": "stdout",
     "output_type": "stream",
     "text": [
      "saving:   /kaggle/working/frames_out2/20_4_out.jpg\n",
      "img 4_7.jpg\n",
      "masks\n"
     ]
    },
    {
     "name": "stderr",
     "output_type": "stream",
     "text": [
      " 78%|███████▊  | 265/340 [1:13:07<20:03, 16.05s/it]"
     ]
    },
    {
     "name": "stdout",
     "output_type": "stream",
     "text": [
      "saving:   /kaggle/working/frames_out2/4_7_out.jpg\n",
      "img 26_3.jpg\n",
      "masks\n"
     ]
    },
    {
     "name": "stderr",
     "output_type": "stream",
     "text": [
      " 78%|███████▊  | 266/340 [1:13:25<20:23, 16.53s/it]"
     ]
    },
    {
     "name": "stdout",
     "output_type": "stream",
     "text": [
      "saving:   /kaggle/working/frames_out2/26_3_out.jpg\n",
      "img 17_7.jpg\n",
      "masks\n"
     ]
    },
    {
     "name": "stderr",
     "output_type": "stream",
     "text": [
      " 79%|███████▊  | 267/340 [1:13:41<20:10, 16.58s/it]"
     ]
    },
    {
     "name": "stdout",
     "output_type": "stream",
     "text": [
      "saving:   /kaggle/working/frames_out2/17_7_out.jpg\n",
      "img 4_3.jpg\n",
      "masks\n"
     ]
    },
    {
     "name": "stderr",
     "output_type": "stream",
     "text": [
      " 79%|███████▉  | 268/340 [1:13:57<19:35, 16.33s/it]"
     ]
    },
    {
     "name": "stdout",
     "output_type": "stream",
     "text": [
      "saving:   /kaggle/working/frames_out2/4_3_out.jpg\n",
      "img 2_1.jpg\n",
      "masks\n"
     ]
    },
    {
     "name": "stderr",
     "output_type": "stream",
     "text": [
      " 79%|███████▉  | 269/340 [1:14:15<19:48, 16.74s/it]"
     ]
    },
    {
     "name": "stdout",
     "output_type": "stream",
     "text": [
      "saving:   /kaggle/working/frames_out2/2_1_out.jpg\n",
      "img 11_4.jpg\n",
      "masks\n"
     ]
    },
    {
     "name": "stderr",
     "output_type": "stream",
     "text": [
      " 79%|███████▉  | 270/340 [1:14:31<19:15, 16.51s/it]"
     ]
    },
    {
     "name": "stdout",
     "output_type": "stream",
     "text": [
      "saving:   /kaggle/working/frames_out2/11_4_out.jpg\n",
      "img 31_6.jpg\n",
      "masks\n"
     ]
    },
    {
     "name": "stderr",
     "output_type": "stream",
     "text": [
      " 80%|███████▉  | 271/340 [1:14:48<19:16, 16.76s/it]"
     ]
    },
    {
     "name": "stdout",
     "output_type": "stream",
     "text": [
      "saving:   /kaggle/working/frames_out2/31_6_out.jpg\n",
      "img 14_1.jpg\n",
      "masks\n"
     ]
    },
    {
     "name": "stderr",
     "output_type": "stream",
     "text": [
      " 80%|████████  | 272/340 [1:15:04<18:36, 16.41s/it]"
     ]
    },
    {
     "name": "stdout",
     "output_type": "stream",
     "text": [
      "saving:   /kaggle/working/frames_out2/14_1_out.jpg\n",
      "img 18_8.jpg\n",
      "masks\n"
     ]
    },
    {
     "name": "stderr",
     "output_type": "stream",
     "text": [
      " 80%|████████  | 273/340 [1:15:20<18:24, 16.48s/it]"
     ]
    },
    {
     "name": "stdout",
     "output_type": "stream",
     "text": [
      "saving:   /kaggle/working/frames_out2/18_8_out.jpg\n",
      "img 19_1.jpg\n",
      "masks\n"
     ]
    },
    {
     "name": "stderr",
     "output_type": "stream",
     "text": [
      " 81%|████████  | 274/340 [1:15:36<17:56, 16.32s/it]"
     ]
    },
    {
     "name": "stdout",
     "output_type": "stream",
     "text": [
      "saving:   /kaggle/working/frames_out2/19_1_out.jpg\n",
      "img 14_5.jpg\n",
      "masks\n"
     ]
    },
    {
     "name": "stderr",
     "output_type": "stream",
     "text": [
      " 81%|████████  | 275/340 [1:15:52<17:27, 16.11s/it]"
     ]
    },
    {
     "name": "stdout",
     "output_type": "stream",
     "text": [
      "saving:   /kaggle/working/frames_out2/14_5_out.jpg\n",
      "img 21_2.jpg\n",
      "masks\n"
     ]
    },
    {
     "name": "stderr",
     "output_type": "stream",
     "text": [
      " 81%|████████  | 276/340 [1:16:08<17:02, 15.98s/it]"
     ]
    },
    {
     "name": "stdout",
     "output_type": "stream",
     "text": [
      "saving:   /kaggle/working/frames_out2/21_2_out.jpg\n",
      "img 12_7.jpg\n",
      "masks\n"
     ]
    },
    {
     "name": "stderr",
     "output_type": "stream",
     "text": [
      " 81%|████████▏ | 277/340 [1:16:24<16:51, 16.06s/it]"
     ]
    },
    {
     "name": "stdout",
     "output_type": "stream",
     "text": [
      "saving:   /kaggle/working/frames_out2/12_7_out.jpg\n",
      "img 21_8.jpg\n",
      "masks\n"
     ]
    },
    {
     "name": "stderr",
     "output_type": "stream",
     "text": [
      " 82%|████████▏ | 278/340 [1:16:39<16:17, 15.76s/it]"
     ]
    },
    {
     "name": "stdout",
     "output_type": "stream",
     "text": [
      "saving:   /kaggle/working/frames_out2/21_8_out.jpg\n",
      "img 19_3.jpg\n",
      "masks\n"
     ]
    },
    {
     "name": "stderr",
     "output_type": "stream",
     "text": [
      " 82%|████████▏ | 279/340 [1:16:56<16:20, 16.07s/it]"
     ]
    },
    {
     "name": "stdout",
     "output_type": "stream",
     "text": [
      "saving:   /kaggle/working/frames_out2/19_3_out.jpg\n",
      "img 7_1.jpg\n",
      "masks\n"
     ]
    },
    {
     "name": "stderr",
     "output_type": "stream",
     "text": [
      " 82%|████████▏ | 280/340 [1:17:11<15:58, 15.98s/it]"
     ]
    },
    {
     "name": "stdout",
     "output_type": "stream",
     "text": [
      "saving:   /kaggle/working/frames_out2/7_1_out.jpg\n",
      "img 22_8.jpg\n",
      "masks\n"
     ]
    },
    {
     "name": "stderr",
     "output_type": "stream",
     "text": [
      " 83%|████████▎ | 281/340 [1:17:26<15:23, 15.65s/it]"
     ]
    },
    {
     "name": "stdout",
     "output_type": "stream",
     "text": [
      "saving:   /kaggle/working/frames_out2/22_8_out.jpg\n",
      "img 15_7.jpg\n",
      "masks\n"
     ]
    },
    {
     "name": "stderr",
     "output_type": "stream",
     "text": [
      " 83%|████████▎ | 282/340 [1:17:42<15:03, 15.57s/it]"
     ]
    },
    {
     "name": "stdout",
     "output_type": "stream",
     "text": [
      "saving:   /kaggle/working/frames_out2/15_7_out.jpg\n",
      "img 5_3.jpg\n",
      "masks\n"
     ]
    },
    {
     "name": "stderr",
     "output_type": "stream",
     "text": [
      " 83%|████████▎ | 283/340 [1:17:58<15:00, 15.81s/it]"
     ]
    },
    {
     "name": "stdout",
     "output_type": "stream",
     "text": [
      "saving:   /kaggle/working/frames_out2/5_3_out.jpg\n",
      "img 12_9.jpg\n",
      "masks\n"
     ]
    },
    {
     "name": "stderr",
     "output_type": "stream",
     "text": [
      " 84%|████████▎ | 284/340 [1:18:14<14:44, 15.79s/it]"
     ]
    },
    {
     "name": "stdout",
     "output_type": "stream",
     "text": [
      "saving:   /kaggle/working/frames_out2/12_9_out.jpg\n",
      "img 25_5.jpg\n",
      "masks\n"
     ]
    },
    {
     "name": "stderr",
     "output_type": "stream",
     "text": [
      " 84%|████████▍ | 285/340 [1:18:31<14:48, 16.15s/it]"
     ]
    },
    {
     "name": "stdout",
     "output_type": "stream",
     "text": [
      "saving:   /kaggle/working/frames_out2/25_5_out.jpg\n",
      "img 7_4.jpg\n",
      "masks\n"
     ]
    },
    {
     "name": "stderr",
     "output_type": "stream",
     "text": [
      " 84%|████████▍ | 286/340 [1:18:47<14:31, 16.15s/it]"
     ]
    },
    {
     "name": "stdout",
     "output_type": "stream",
     "text": [
      "saving:   /kaggle/working/frames_out2/7_4_out.jpg\n",
      "img 19_2.jpg\n",
      "masks\n"
     ]
    },
    {
     "name": "stderr",
     "output_type": "stream",
     "text": [
      " 84%|████████▍ | 287/340 [1:19:03<14:14, 16.12s/it]"
     ]
    },
    {
     "name": "stdout",
     "output_type": "stream",
     "text": [
      "saving:   /kaggle/working/frames_out2/19_2_out.jpg\n",
      "img 22_2.jpg\n",
      "masks\n"
     ]
    },
    {
     "name": "stderr",
     "output_type": "stream",
     "text": [
      " 85%|████████▍ | 288/340 [1:19:19<13:54, 16.04s/it]"
     ]
    },
    {
     "name": "stdout",
     "output_type": "stream",
     "text": [
      "saving:   /kaggle/working/frames_out2/22_2_out.jpg\n",
      "img 19_5.jpg\n",
      "masks\n"
     ]
    },
    {
     "name": "stderr",
     "output_type": "stream",
     "text": [
      " 85%|████████▌ | 289/340 [1:19:35<13:34, 15.97s/it]"
     ]
    },
    {
     "name": "stdout",
     "output_type": "stream",
     "text": [
      "saving:   /kaggle/working/frames_out2/19_5_out.jpg\n",
      "img 11_2.jpg\n",
      "masks\n"
     ]
    },
    {
     "name": "stderr",
     "output_type": "stream",
     "text": [
      " 85%|████████▌ | 290/340 [1:19:51<13:20, 16.01s/it]"
     ]
    },
    {
     "name": "stdout",
     "output_type": "stream",
     "text": [
      "saving:   /kaggle/working/frames_out2/11_2_out.jpg\n",
      "img 2_4.jpg\n",
      "masks\n"
     ]
    },
    {
     "name": "stderr",
     "output_type": "stream",
     "text": [
      " 86%|████████▌ | 291/340 [1:20:08<13:18, 16.29s/it]"
     ]
    },
    {
     "name": "stdout",
     "output_type": "stream",
     "text": [
      "saving:   /kaggle/working/frames_out2/2_4_out.jpg\n",
      "img 22_5.jpg\n",
      "masks\n"
     ]
    },
    {
     "name": "stderr",
     "output_type": "stream",
     "text": [
      " 86%|████████▌ | 292/340 [1:20:22<12:36, 15.76s/it]"
     ]
    },
    {
     "name": "stdout",
     "output_type": "stream",
     "text": [
      "saving:   /kaggle/working/frames_out2/22_5_out.jpg\n",
      "img 28_6.jpg\n",
      "masks\n"
     ]
    },
    {
     "name": "stderr",
     "output_type": "stream",
     "text": [
      " 86%|████████▌ | 293/340 [1:20:40<12:51, 16.41s/it]"
     ]
    },
    {
     "name": "stdout",
     "output_type": "stream",
     "text": [
      "saving:   /kaggle/working/frames_out2/28_6_out.jpg\n",
      "img 0_3.jpg\n",
      "masks\n"
     ]
    },
    {
     "name": "stderr",
     "output_type": "stream",
     "text": [
      " 86%|████████▋ | 294/340 [1:20:57<12:46, 16.65s/it]"
     ]
    },
    {
     "name": "stdout",
     "output_type": "stream",
     "text": [
      "saving:   /kaggle/working/frames_out2/0_3_out.jpg\n",
      "img 25_0.jpg\n",
      "masks\n"
     ]
    },
    {
     "name": "stderr",
     "output_type": "stream",
     "text": [
      " 87%|████████▋ | 295/340 [1:21:14<12:25, 16.57s/it]"
     ]
    },
    {
     "name": "stdout",
     "output_type": "stream",
     "text": [
      "saving:   /kaggle/working/frames_out2/25_0_out.jpg\n",
      "img 1_7.jpg\n",
      "masks\n"
     ]
    },
    {
     "name": "stderr",
     "output_type": "stream",
     "text": [
      " 87%|████████▋ | 296/340 [1:21:31<12:23, 16.90s/it]"
     ]
    },
    {
     "name": "stdout",
     "output_type": "stream",
     "text": [
      "saving:   /kaggle/working/frames_out2/1_7_out.jpg\n",
      "img 12_1.jpg\n",
      "masks\n"
     ]
    },
    {
     "name": "stderr",
     "output_type": "stream",
     "text": [
      " 87%|████████▋ | 297/340 [1:21:48<11:56, 16.66s/it]"
     ]
    },
    {
     "name": "stdout",
     "output_type": "stream",
     "text": [
      "saving:   /kaggle/working/frames_out2/12_1_out.jpg\n",
      "img 6_2.jpg\n",
      "masks\n"
     ]
    },
    {
     "name": "stderr",
     "output_type": "stream",
     "text": [
      " 88%|████████▊ | 298/340 [1:22:04<11:32, 16.49s/it]"
     ]
    },
    {
     "name": "stdout",
     "output_type": "stream",
     "text": [
      "saving:   /kaggle/working/frames_out2/6_2_out.jpg\n",
      "img 29_2.jpg\n",
      "masks\n"
     ]
    },
    {
     "name": "stderr",
     "output_type": "stream",
     "text": [
      " 88%|████████▊ | 299/340 [1:22:22<11:40, 17.09s/it]"
     ]
    },
    {
     "name": "stdout",
     "output_type": "stream",
     "text": [
      "saving:   /kaggle/working/frames_out2/29_2_out.jpg\n",
      "img 25_6.jpg\n",
      "masks\n"
     ]
    },
    {
     "name": "stderr",
     "output_type": "stream",
     "text": [
      " 88%|████████▊ | 300/340 [1:22:39<11:24, 17.10s/it]"
     ]
    },
    {
     "name": "stdout",
     "output_type": "stream",
     "text": [
      "saving:   /kaggle/working/frames_out2/25_6_out.jpg\n",
      "img 3_4.jpg\n",
      "masks\n"
     ]
    },
    {
     "name": "stderr",
     "output_type": "stream",
     "text": [
      " 89%|████████▊ | 301/340 [1:22:55<10:51, 16.70s/it]"
     ]
    },
    {
     "name": "stdout",
     "output_type": "stream",
     "text": [
      "saving:   /kaggle/working/frames_out2/3_4_out.jpg\n",
      "img 1_5.jpg\n",
      "masks\n"
     ]
    },
    {
     "name": "stderr",
     "output_type": "stream",
     "text": [
      " 89%|████████▉ | 302/340 [1:23:13<10:48, 17.07s/it]"
     ]
    },
    {
     "name": "stdout",
     "output_type": "stream",
     "text": [
      "saving:   /kaggle/working/frames_out2/1_5_out.jpg\n",
      "img 26_7.jpg\n",
      "masks\n"
     ]
    },
    {
     "name": "stderr",
     "output_type": "stream",
     "text": [
      " 89%|████████▉ | 303/340 [1:23:31<10:47, 17.51s/it]"
     ]
    },
    {
     "name": "stdout",
     "output_type": "stream",
     "text": [
      "saving:   /kaggle/working/frames_out2/26_7_out.jpg\n",
      "img 15_2.jpg\n",
      "masks\n"
     ]
    },
    {
     "name": "stderr",
     "output_type": "stream",
     "text": [
      " 89%|████████▉ | 304/340 [1:23:47<10:14, 17.06s/it]"
     ]
    },
    {
     "name": "stdout",
     "output_type": "stream",
     "text": [
      "saving:   /kaggle/working/frames_out2/15_2_out.jpg\n",
      "img 20_7.jpg\n",
      "masks\n"
     ]
    },
    {
     "name": "stderr",
     "output_type": "stream",
     "text": [
      " 90%|████████▉ | 305/340 [1:24:03<09:36, 16.48s/it]"
     ]
    },
    {
     "name": "stdout",
     "output_type": "stream",
     "text": [
      "saving:   /kaggle/working/frames_out2/20_7_out.jpg\n",
      "img 5_6.jpg\n",
      "masks\n"
     ]
    },
    {
     "name": "stderr",
     "output_type": "stream",
     "text": [
      " 90%|█████████ | 306/340 [1:24:19<09:17, 16.41s/it]"
     ]
    },
    {
     "name": "stdout",
     "output_type": "stream",
     "text": [
      "saving:   /kaggle/working/frames_out2/5_6_out.jpg\n",
      "img 29_5.jpg\n",
      "masks\n"
     ]
    },
    {
     "name": "stderr",
     "output_type": "stream",
     "text": [
      " 90%|█████████ | 307/340 [1:24:38<09:28, 17.22s/it]"
     ]
    },
    {
     "name": "stdout",
     "output_type": "stream",
     "text": [
      "saving:   /kaggle/working/frames_out2/29_5_out.jpg\n",
      "img 9_2.jpg\n",
      "masks\n"
     ]
    },
    {
     "name": "stderr",
     "output_type": "stream",
     "text": [
      " 91%|█████████ | 308/340 [1:24:54<09:01, 16.92s/it]"
     ]
    },
    {
     "name": "stdout",
     "output_type": "stream",
     "text": [
      "saving:   /kaggle/working/frames_out2/9_2_out.jpg\n",
      "img 18_7.jpg\n",
      "masks\n"
     ]
    },
    {
     "name": "stderr",
     "output_type": "stream",
     "text": [
      " 91%|█████████ | 309/340 [1:25:11<08:42, 16.85s/it]"
     ]
    },
    {
     "name": "stdout",
     "output_type": "stream",
     "text": [
      "saving:   /kaggle/working/frames_out2/18_7_out.jpg\n",
      "img 28_9.jpg\n",
      "masks\n"
     ]
    },
    {
     "name": "stderr",
     "output_type": "stream",
     "text": [
      " 91%|█████████ | 310/340 [1:25:30<08:45, 17.53s/it]"
     ]
    },
    {
     "name": "stdout",
     "output_type": "stream",
     "text": [
      "saving:   /kaggle/working/frames_out2/28_9_out.jpg\n",
      "img 23_3.jpg\n",
      "masks\n"
     ]
    },
    {
     "name": "stderr",
     "output_type": "stream",
     "text": [
      " 91%|█████████▏| 311/340 [1:25:46<08:17, 17.15s/it]"
     ]
    },
    {
     "name": "stdout",
     "output_type": "stream",
     "text": [
      "saving:   /kaggle/working/frames_out2/23_3_out.jpg\n",
      "img 30_4.jpg\n",
      "masks\n"
     ]
    },
    {
     "name": "stderr",
     "output_type": "stream",
     "text": [
      " 92%|█████████▏| 312/340 [1:26:05<08:11, 17.56s/it]"
     ]
    },
    {
     "name": "stdout",
     "output_type": "stream",
     "text": [
      "saving:   /kaggle/working/frames_out2/30_4_out.jpg\n",
      "img 23_6.jpg\n",
      "masks\n"
     ]
    },
    {
     "name": "stderr",
     "output_type": "stream",
     "text": [
      " 92%|█████████▏| 313/340 [1:26:21<07:46, 17.27s/it]"
     ]
    },
    {
     "name": "stdout",
     "output_type": "stream",
     "text": [
      "saving:   /kaggle/working/frames_out2/23_6_out.jpg\n",
      "img 10_3.jpg\n",
      "masks\n"
     ]
    },
    {
     "name": "stderr",
     "output_type": "stream",
     "text": [
      " 92%|█████████▏| 314/340 [1:26:37<07:20, 16.93s/it]"
     ]
    },
    {
     "name": "stdout",
     "output_type": "stream",
     "text": [
      "saving:   /kaggle/working/frames_out2/10_3_out.jpg\n",
      "img 30_8.jpg\n",
      "masks\n"
     ]
    },
    {
     "name": "stderr",
     "output_type": "stream",
     "text": [
      " 93%|█████████▎| 315/340 [1:26:56<07:18, 17.53s/it]"
     ]
    },
    {
     "name": "stdout",
     "output_type": "stream",
     "text": [
      "saving:   /kaggle/working/frames_out2/30_8_out.jpg\n",
      "img 4_8.jpg\n",
      "masks\n"
     ]
    },
    {
     "name": "stderr",
     "output_type": "stream",
     "text": [
      " 93%|█████████▎| 316/340 [1:27:12<06:49, 17.07s/it]"
     ]
    },
    {
     "name": "stdout",
     "output_type": "stream",
     "text": [
      "saving:   /kaggle/working/frames_out2/4_8_out.jpg\n",
      "img 7_0.jpg\n",
      "masks\n"
     ]
    },
    {
     "name": "stderr",
     "output_type": "stream",
     "text": [
      " 93%|█████████▎| 317/340 [1:27:29<06:26, 16.80s/it]"
     ]
    },
    {
     "name": "stdout",
     "output_type": "stream",
     "text": [
      "saving:   /kaggle/working/frames_out2/7_0_out.jpg\n",
      "img 16_5.jpg\n",
      "masks\n"
     ]
    },
    {
     "name": "stderr",
     "output_type": "stream",
     "text": [
      " 94%|█████████▎| 318/340 [1:27:45<06:06, 16.66s/it]"
     ]
    },
    {
     "name": "stdout",
     "output_type": "stream",
     "text": [
      "saving:   /kaggle/working/frames_out2/16_5_out.jpg\n",
      "img 2_7.jpg\n",
      "masks\n"
     ]
    },
    {
     "name": "stderr",
     "output_type": "stream",
     "text": [
      " 94%|█████████▍| 319/340 [1:28:02<05:51, 16.74s/it]"
     ]
    },
    {
     "name": "stdout",
     "output_type": "stream",
     "text": [
      "saving:   /kaggle/working/frames_out2/2_7_out.jpg\n",
      "img 10_6.jpg\n",
      "masks\n"
     ]
    },
    {
     "name": "stderr",
     "output_type": "stream",
     "text": [
      " 94%|█████████▍| 320/340 [1:28:18<05:30, 16.50s/it]"
     ]
    },
    {
     "name": "stdout",
     "output_type": "stream",
     "text": [
      "saving:   /kaggle/working/frames_out2/10_6_out.jpg\n",
      "img 4_4.jpg\n",
      "masks\n"
     ]
    },
    {
     "name": "stderr",
     "output_type": "stream",
     "text": [
      " 94%|█████████▍| 321/340 [1:28:34<05:12, 16.44s/it]"
     ]
    },
    {
     "name": "stdout",
     "output_type": "stream",
     "text": [
      "saving:   /kaggle/working/frames_out2/4_4_out.jpg\n",
      "img 31_0.jpg\n",
      "masks\n"
     ]
    },
    {
     "name": "stderr",
     "output_type": "stream",
     "text": [
      " 95%|█████████▍| 322/340 [1:28:52<05:06, 17.04s/it]"
     ]
    },
    {
     "name": "stdout",
     "output_type": "stream",
     "text": [
      "saving:   /kaggle/working/frames_out2/31_0_out.jpg\n",
      "img 22_3.jpg\n",
      "masks\n"
     ]
    },
    {
     "name": "stderr",
     "output_type": "stream",
     "text": [
      " 95%|█████████▌| 323/340 [1:29:08<04:41, 16.54s/it]"
     ]
    },
    {
     "name": "stdout",
     "output_type": "stream",
     "text": [
      "saving:   /kaggle/working/frames_out2/22_3_out.jpg\n",
      "img 18_2.jpg\n",
      "masks\n"
     ]
    },
    {
     "name": "stderr",
     "output_type": "stream",
     "text": [
      " 95%|█████████▌| 324/340 [1:29:25<04:25, 16.57s/it]"
     ]
    },
    {
     "name": "stdout",
     "output_type": "stream",
     "text": [
      "saving:   /kaggle/working/frames_out2/18_2_out.jpg\n",
      "img 16_0.jpg\n",
      "masks\n"
     ]
    },
    {
     "name": "stderr",
     "output_type": "stream",
     "text": [
      " 96%|█████████▌| 325/340 [1:29:41<04:06, 16.44s/it]"
     ]
    },
    {
     "name": "stdout",
     "output_type": "stream",
     "text": [
      "saving:   /kaggle/working/frames_out2/16_0_out.jpg\n",
      "img 29_1.jpg\n",
      "masks\n"
     ]
    },
    {
     "name": "stderr",
     "output_type": "stream",
     "text": [
      " 96%|█████████▌| 326/340 [1:29:59<03:59, 17.08s/it]"
     ]
    },
    {
     "name": "stdout",
     "output_type": "stream",
     "text": [
      "saving:   /kaggle/working/frames_out2/29_1_out.jpg\n",
      "img 16_1.jpg\n",
      "masks\n"
     ]
    },
    {
     "name": "stderr",
     "output_type": "stream",
     "text": [
      " 96%|█████████▌| 327/340 [1:30:15<03:38, 16.80s/it]"
     ]
    },
    {
     "name": "stdout",
     "output_type": "stream",
     "text": [
      "saving:   /kaggle/working/frames_out2/16_1_out.jpg\n",
      "img 11_6.jpg\n",
      "masks\n"
     ]
    },
    {
     "name": "stderr",
     "output_type": "stream",
     "text": [
      " 96%|█████████▋| 328/340 [1:30:31<03:17, 16.45s/it]"
     ]
    },
    {
     "name": "stdout",
     "output_type": "stream",
     "text": [
      "saving:   /kaggle/working/frames_out2/11_6_out.jpg\n",
      "img 5_5.jpg\n",
      "masks\n"
     ]
    },
    {
     "name": "stderr",
     "output_type": "stream",
     "text": [
      " 97%|█████████▋| 329/340 [1:30:47<02:58, 16.27s/it]"
     ]
    },
    {
     "name": "stdout",
     "output_type": "stream",
     "text": [
      "saving:   /kaggle/working/frames_out2/5_5_out.jpg\n",
      "img 19_9.jpg\n",
      "masks\n"
     ]
    },
    {
     "name": "stderr",
     "output_type": "stream",
     "text": [
      " 97%|█████████▋| 330/340 [1:31:01<02:36, 15.68s/it]"
     ]
    },
    {
     "name": "stdout",
     "output_type": "stream",
     "text": [
      "saving:   /kaggle/working/frames_out2/19_9_out.jpg\n",
      "img 9_5.jpg\n",
      "masks\n"
     ]
    },
    {
     "name": "stderr",
     "output_type": "stream",
     "text": [
      " 97%|█████████▋| 331/340 [1:31:17<02:21, 15.76s/it]"
     ]
    },
    {
     "name": "stdout",
     "output_type": "stream",
     "text": [
      "saving:   /kaggle/working/frames_out2/9_5_out.jpg\n",
      "img 22_6.jpg\n",
      "masks\n"
     ]
    },
    {
     "name": "stderr",
     "output_type": "stream",
     "text": [
      " 98%|█████████▊| 332/340 [1:31:32<02:03, 15.50s/it]"
     ]
    },
    {
     "name": "stdout",
     "output_type": "stream",
     "text": [
      "saving:   /kaggle/working/frames_out2/22_6_out.jpg\n",
      "img 27_4.jpg\n",
      "masks\n"
     ]
    },
    {
     "name": "stderr",
     "output_type": "stream",
     "text": [
      " 98%|█████████▊| 333/340 [1:31:50<01:53, 16.27s/it]"
     ]
    },
    {
     "name": "stdout",
     "output_type": "stream",
     "text": [
      "saving:   /kaggle/working/frames_out2/27_4_out.jpg\n",
      "img 12_3.jpg\n",
      "masks\n"
     ]
    },
    {
     "name": "stderr",
     "output_type": "stream",
     "text": [
      " 98%|█████████▊| 334/340 [1:32:06<01:37, 16.26s/it]"
     ]
    },
    {
     "name": "stdout",
     "output_type": "stream",
     "text": [
      "saving:   /kaggle/working/frames_out2/12_3_out.jpg\n",
      "img 18_0.jpg\n",
      "masks\n"
     ]
    },
    {
     "name": "stderr",
     "output_type": "stream",
     "text": [
      " 99%|█████████▊| 335/340 [1:32:22<01:21, 16.22s/it]"
     ]
    },
    {
     "name": "stdout",
     "output_type": "stream",
     "text": [
      "saving:   /kaggle/working/frames_out2/18_0_out.jpg\n",
      "img 15_4.jpg\n",
      "masks\n"
     ]
    },
    {
     "name": "stderr",
     "output_type": "stream",
     "text": [
      " 99%|█████████▉| 336/340 [1:32:38<01:04, 16.01s/it]"
     ]
    },
    {
     "name": "stdout",
     "output_type": "stream",
     "text": [
      "saving:   /kaggle/working/frames_out2/15_4_out.jpg\n",
      "img 3_9.jpg\n",
      "masks\n"
     ]
    },
    {
     "name": "stderr",
     "output_type": "stream",
     "text": [
      " 99%|█████████▉| 337/340 [1:32:53<00:47, 15.85s/it]"
     ]
    },
    {
     "name": "stdout",
     "output_type": "stream",
     "text": [
      "saving:   /kaggle/working/frames_out2/3_9_out.jpg\n",
      "img 29_9.jpg\n",
      "masks\n"
     ]
    },
    {
     "name": "stderr",
     "output_type": "stream",
     "text": [
      " 99%|█████████▉| 338/340 [1:33:13<00:33, 16.94s/it]"
     ]
    },
    {
     "name": "stdout",
     "output_type": "stream",
     "text": [
      "saving:   /kaggle/working/frames_out2/29_9_out.jpg\n",
      "img 26_8.jpg\n",
      "masks\n"
     ]
    },
    {
     "name": "stderr",
     "output_type": "stream",
     "text": [
      "100%|█████████▉| 339/340 [1:33:32<00:17, 17.45s/it]"
     ]
    },
    {
     "name": "stdout",
     "output_type": "stream",
     "text": [
      "saving:   /kaggle/working/frames_out2/26_8_out.jpg\n",
      "img 33_9.jpg\n",
      "masks\n"
     ]
    },
    {
     "name": "stderr",
     "output_type": "stream",
     "text": [
      "100%|██████████| 340/340 [1:33:51<00:00, 16.56s/it]"
     ]
    },
    {
     "name": "stdout",
     "output_type": "stream",
     "text": [
      "saving:   /kaggle/working/frames_out2/33_9_out.jpg\n"
     ]
    },
    {
     "name": "stderr",
     "output_type": "stream",
     "text": [
      "\n"
     ]
    }
   ],
   "source": [
    "test_image_folder = '/kaggle/working/frames' \n",
    "predict_save_path = \"/kaggle/working/frames_out2\"\n",
    "\n",
    "test_images = [img for img in os.listdir(test_image_folder)\n",
    "              if img.endswith(\".jpg\") or\n",
    "                 img.endswith(\".jpeg\") or\n",
    "                 img.endswith(\"png\")]\n",
    "\n",
    "for img in tqdm(test_images):\n",
    "    print('img', img)\n",
    "    (aa, a, b, c) = draw_sam(img)\n",
    "    \n",
    "    fin = None\n",
    "    for i in aa:\n",
    "        if fin is None :\n",
    "            fin = i['segmentation']\n",
    "        else:\n",
    "            fin += i['segmentation']\n",
    "\n",
    "    spredict_save_path = os.path.join(predict_save_path, \"{}_out.jpg\".format(img.split('.')[0]))\n",
    "    print('saving:  ', spredict_save_path)\n",
    "    aa = 1.0 * fin\n",
    "    aa = (aa*255).astype(np.uint8)\n",
    "    cv2.imwrite(spredict_save_path, aa)"
   ]
  },
  {
   "cell_type": "code",
   "execution_count": null,
   "id": "c8e4cdda",
   "metadata": {
    "papermill": {
     "duration": 0.085235,
     "end_time": "2023-07-31T02:45:48.297130",
     "exception": false,
     "start_time": "2023-07-31T02:45:48.211895",
     "status": "completed"
    },
    "tags": []
   },
   "outputs": [],
   "source": []
  }
 ],
 "metadata": {
  "kernelspec": {
   "display_name": "Python 3",
   "language": "python",
   "name": "python3"
  },
  "language_info": {
   "codemirror_mode": {
    "name": "ipython",
    "version": 3
   },
   "file_extension": ".py",
   "mimetype": "text/x-python",
   "name": "python",
   "nbconvert_exporter": "python",
   "pygments_lexer": "ipython3",
   "version": "3.10.12"
  },
  "papermill": {
   "default_parameters": {},
   "duration": 5973.527818,
   "end_time": "2023-07-31T02:45:50.519675",
   "environment_variables": {},
   "exception": null,
   "input_path": "__notebook__.ipynb",
   "output_path": "__notebook__.ipynb",
   "parameters": {},
   "start_time": "2023-07-31T01:06:16.991857",
   "version": "2.4.0"
  },
  "widgets": {
   "application/vnd.jupyter.widget-state+json": {
    "state": {
     "0a969d730cb6410bbbde830a1e228755": {
      "model_module": "@jupyter-widgets/base",
      "model_module_version": "1.2.0",
      "model_name": "LayoutModel",
      "state": {
       "_model_module": "@jupyter-widgets/base",
       "_model_module_version": "1.2.0",
       "_model_name": "LayoutModel",
       "_view_count": null,
       "_view_module": "@jupyter-widgets/base",
       "_view_module_version": "1.2.0",
       "_view_name": "LayoutView",
       "align_content": null,
       "align_items": null,
       "align_self": null,
       "border": null,
       "bottom": null,
       "display": null,
       "flex": null,
       "flex_flow": null,
       "grid_area": null,
       "grid_auto_columns": null,
       "grid_auto_flow": null,
       "grid_auto_rows": null,
       "grid_column": null,
       "grid_gap": null,
       "grid_row": null,
       "grid_template_areas": null,
       "grid_template_columns": null,
       "grid_template_rows": null,
       "height": null,
       "justify_content": null,
       "justify_items": null,
       "left": null,
       "margin": null,
       "max_height": null,
       "max_width": null,
       "min_height": null,
       "min_width": null,
       "object_fit": null,
       "object_position": null,
       "order": null,
       "overflow": null,
       "overflow_x": null,
       "overflow_y": null,
       "padding": null,
       "right": null,
       "top": null,
       "visibility": null,
       "width": null
      }
     },
     "ea9f2f782efa430c98bd3fe85cc9c8ab": {
      "model_module": "@jupyter-widgets/output",
      "model_module_version": "1.0.0",
      "model_name": "OutputModel",
      "state": {
       "_dom_classes": [],
       "_model_module": "@jupyter-widgets/output",
       "_model_module_version": "1.0.0",
       "_model_name": "OutputModel",
       "_view_count": null,
       "_view_module": "@jupyter-widgets/output",
       "_view_module_version": "1.0.0",
       "_view_name": "OutputView",
       "layout": "IPY_MODEL_0a969d730cb6410bbbde830a1e228755",
       "msg_id": "",
       "outputs": []
      }
     }
    },
    "version_major": 2,
    "version_minor": 0
   }
  }
 },
 "nbformat": 4,
 "nbformat_minor": 5
}
